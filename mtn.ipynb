{
 "metadata": {
  "language_info": {
   "codemirror_mode": {
    "name": "ipython",
    "version": 3
   },
   "file_extension": ".py",
   "mimetype": "text/x-python",
   "name": "python",
   "nbconvert_exporter": "python",
   "pygments_lexer": "ipython3",
   "version": "3.8.5-final"
  },
  "orig_nbformat": 2,
  "kernelspec": {
   "name": "python3",
   "display_name": "Python 3",
   "language": "python"
  }
 },
 "nbformat": 4,
 "nbformat_minor": 2,
 "cells": [
  {
   "cell_type": "code",
   "execution_count": 2,
   "metadata": {},
   "outputs": [],
   "source": [
    "# Import libraries\n",
    "import pandas as pd\n",
    "import numpy as np\n",
    "\n",
    "from glob import glob"
   ]
  },
  {
   "cell_type": "code",
   "execution_count": 12,
   "metadata": {},
   "outputs": [
    {
     "output_type": "execute_result",
     "data": {
      "text/plain": [
       "       Column name                                        Description   Format\n",
       "0          PRODUCT                                       Voice or SMS   String\n",
       "1            VALUE                                      Billing price  Integer\n",
       "2        DATE_TIME               Time in format yyyy-MM-dd hh:mm:ss.0   String\n",
       "3     CELL_ON_SITE  Which cell in the site was used (not needed here)  Integer\n",
       "4  DW_A_NUMBER_INT  Anonymized phone number of the person for whic...   String\n",
       "5  DW_B_NUMBER_INT        Anonymized phone number of the counterparty   String\n",
       "6        COUNTRY_A                  Country of party A (useless here)   String\n",
       "7        COUNTRY_B                  Country of party B (useless here)   String\n",
       "8          CELL_ID                                     ID of the cell   String\n",
       "9          SITE_ID                                     ID of the SITE   String"
      ],
      "text/html": "<div>\n<style scoped>\n    .dataframe tbody tr th:only-of-type {\n        vertical-align: middle;\n    }\n\n    .dataframe tbody tr th {\n        vertical-align: top;\n    }\n\n    .dataframe thead th {\n        text-align: right;\n    }\n</style>\n<table border=\"1\" class=\"dataframe\">\n  <thead>\n    <tr style=\"text-align: right;\">\n      <th></th>\n      <th>Column name</th>\n      <th>Description</th>\n      <th>Format</th>\n    </tr>\n  </thead>\n  <tbody>\n    <tr>\n      <th>0</th>\n      <td>PRODUCT</td>\n      <td>Voice or SMS</td>\n      <td>String</td>\n    </tr>\n    <tr>\n      <th>1</th>\n      <td>VALUE</td>\n      <td>Billing price</td>\n      <td>Integer</td>\n    </tr>\n    <tr>\n      <th>2</th>\n      <td>DATE_TIME</td>\n      <td>Time in format yyyy-MM-dd hh:mm:ss.0</td>\n      <td>String</td>\n    </tr>\n    <tr>\n      <th>3</th>\n      <td>CELL_ON_SITE</td>\n      <td>Which cell in the site was used (not needed here)</td>\n      <td>Integer</td>\n    </tr>\n    <tr>\n      <th>4</th>\n      <td>DW_A_NUMBER_INT</td>\n      <td>Anonymized phone number of the person for whic...</td>\n      <td>String</td>\n    </tr>\n    <tr>\n      <th>5</th>\n      <td>DW_B_NUMBER_INT</td>\n      <td>Anonymized phone number of the counterparty</td>\n      <td>String</td>\n    </tr>\n    <tr>\n      <th>6</th>\n      <td>COUNTRY_A</td>\n      <td>Country of party A (useless here)</td>\n      <td>String</td>\n    </tr>\n    <tr>\n      <th>7</th>\n      <td>COUNTRY_B</td>\n      <td>Country of party B (useless here)</td>\n      <td>String</td>\n    </tr>\n    <tr>\n      <th>8</th>\n      <td>CELL_ID</td>\n      <td>ID of the cell</td>\n      <td>String</td>\n    </tr>\n    <tr>\n      <th>9</th>\n      <td>SITE_ID</td>\n      <td>ID of the SITE</td>\n      <td>String</td>\n    </tr>\n  </tbody>\n</table>\n</div>"
     },
     "metadata": {},
     "execution_count": 12
    }
   ],
   "source": [
    "# Here we will take a look at the description Excel sheet to understand our data better.\n",
    "# \n",
    "df_description =  pd.read_excel('Data/CDR_description.xlsx')\n",
    "\n",
    "df_description.head(12)\n",
    "\n",
    "\n",
    "# from the output we see the needed columns and the ones to be dropped\n",
    "#  we can also see the columns to change names enabling us to make our identifiers known easily.\n",
    "# Also shows the data types\n"
   ]
  },
  {
   "cell_type": "code",
   "execution_count": 4,
   "metadata": {},
   "outputs": [
    {
     "output_type": "execute_result",
     "data": {
      "text/plain": [
       "   Unnamed: 0   VILLES      STATUS LOCALISATION    DECOUPZONE  ZONENAME  \\\n",
       "0           0   ADJAME  In Service      ABIDJAN  \"Abidjan_EST  AGBANNEW   \n",
       "1           1   ADJAME  In Service      ABIDJAN  \"Abidjan_EST  AGBANNEW   \n",
       "2           2   ADJAME  In Service      ABIDJAN  \"Abidjan_EST  AGBANNEW   \n",
       "3           3  ASSINIE  In Service    INTERIEUR     Grand-EST  ASSINIE\"   \n",
       "4           4  ASSINIE  In Service    INTERIEUR     Grand-EST  ASSINIE\"   \n",
       "\n",
       "   LONGITUDE  LATITUDE     REGION AREA     CELL_ID   SITE_CODE  \n",
       "0  -4.000667  5.368194     LAGUNE  NaN  fbb2e75af3  0bb492ef17  \n",
       "1  -4.000667  5.368194     LAGUNE  NaN  1502501d78  0bb492ef17  \n",
       "2  -4.000667  5.368194     LAGUNE  NaN  0c2e182a0c  0bb492ef17  \n",
       "3  -3.488467  5.158761  SUD COMOE  NaN  69bdfc69fd  8a1e6ce31f  \n",
       "4  -3.488467  5.158761  SUD COMOE  NaN  7a1029d2ab  8a1e6ce31f  "
      ],
      "text/html": "<div>\n<style scoped>\n    .dataframe tbody tr th:only-of-type {\n        vertical-align: middle;\n    }\n\n    .dataframe tbody tr th {\n        vertical-align: top;\n    }\n\n    .dataframe thead th {\n        text-align: right;\n    }\n</style>\n<table border=\"1\" class=\"dataframe\">\n  <thead>\n    <tr style=\"text-align: right;\">\n      <th></th>\n      <th>Unnamed: 0</th>\n      <th>VILLES</th>\n      <th>STATUS</th>\n      <th>LOCALISATION</th>\n      <th>DECOUPZONE</th>\n      <th>ZONENAME</th>\n      <th>LONGITUDE</th>\n      <th>LATITUDE</th>\n      <th>REGION</th>\n      <th>AREA</th>\n      <th>CELL_ID</th>\n      <th>SITE_CODE</th>\n    </tr>\n  </thead>\n  <tbody>\n    <tr>\n      <th>0</th>\n      <td>0</td>\n      <td>ADJAME</td>\n      <td>In Service</td>\n      <td>ABIDJAN</td>\n      <td>\"Abidjan_EST</td>\n      <td>AGBANNEW</td>\n      <td>-4.000667</td>\n      <td>5.368194</td>\n      <td>LAGUNE</td>\n      <td>NaN</td>\n      <td>fbb2e75af3</td>\n      <td>0bb492ef17</td>\n    </tr>\n    <tr>\n      <th>1</th>\n      <td>1</td>\n      <td>ADJAME</td>\n      <td>In Service</td>\n      <td>ABIDJAN</td>\n      <td>\"Abidjan_EST</td>\n      <td>AGBANNEW</td>\n      <td>-4.000667</td>\n      <td>5.368194</td>\n      <td>LAGUNE</td>\n      <td>NaN</td>\n      <td>1502501d78</td>\n      <td>0bb492ef17</td>\n    </tr>\n    <tr>\n      <th>2</th>\n      <td>2</td>\n      <td>ADJAME</td>\n      <td>In Service</td>\n      <td>ABIDJAN</td>\n      <td>\"Abidjan_EST</td>\n      <td>AGBANNEW</td>\n      <td>-4.000667</td>\n      <td>5.368194</td>\n      <td>LAGUNE</td>\n      <td>NaN</td>\n      <td>0c2e182a0c</td>\n      <td>0bb492ef17</td>\n    </tr>\n    <tr>\n      <th>3</th>\n      <td>3</td>\n      <td>ASSINIE</td>\n      <td>In Service</td>\n      <td>INTERIEUR</td>\n      <td>Grand-EST</td>\n      <td>ASSINIE\"</td>\n      <td>-3.488467</td>\n      <td>5.158761</td>\n      <td>SUD COMOE</td>\n      <td>NaN</td>\n      <td>69bdfc69fd</td>\n      <td>8a1e6ce31f</td>\n    </tr>\n    <tr>\n      <th>4</th>\n      <td>4</td>\n      <td>ASSINIE</td>\n      <td>In Service</td>\n      <td>INTERIEUR</td>\n      <td>Grand-EST</td>\n      <td>ASSINIE\"</td>\n      <td>-3.488467</td>\n      <td>5.158761</td>\n      <td>SUD COMOE</td>\n      <td>NaN</td>\n      <td>7a1029d2ab</td>\n      <td>8a1e6ce31f</td>\n    </tr>\n  </tbody>\n</table>\n</div>"
     },
     "metadata": {},
     "execution_count": 4
    }
   ],
   "source": [
    "# Here we take a look at our cells location file.\n",
    "# \n",
    "\n",
    "\n",
    "df_cellgeo = pd.read_csv('Data\\cells_geo.csv', sep=\";\", encoding='utf-8')\n",
    "\n",
    "df_cellgeo.head(5)"
   ]
  },
  {
   "cell_type": "code",
   "execution_count": 5,
   "metadata": {},
   "outputs": [
    {
     "output_type": "execute_result",
     "data": {
      "text/plain": [
       "  Product  Bill_Price              Date_time Cell_onsite             DW_A  \\\n",
       "0   Voice           0  2012-05-06 23:04:37.0           1  49fae048b547780   \n",
       "1     sms           0  2012-05-06 23:05:25.0           0  7a54a6eaee19e65   \n",
       "2     sms          25  2012-05-06 23:05:41.0           0  6008887b0207d82   \n",
       "3   Voice          56  2012-05-06 23:05:42.0           1  7370032e20f4e96   \n",
       "4   Voice          14  2012-05-06 23:06:29.0           1  966ba4656e38e62   \n",
       "\n",
       "              DW_B Country_A Country_B     Cell_id     Site_id  \n",
       "0  1a49f8b0ded9de6     19e2e     19e2e  /TJNe+Mmtu  /TJNe+Mmtu  \n",
       "1  93343ba6e41af95     19e2e     19e2e  /+cKZKIp41  /+cKZKIp41  \n",
       "2  7aacc9709ce0a20     19e2e     19e2e  /u0FSD+ahi  /u0FSD+ahi  \n",
       "3  6af4a60e74c91d3     19e2e     19e2e  +cNeJzsTp3  +cNeJzsTp3  \n",
       "4  02aa736ee555d5c     19e2e     19e2e  051KhYDCpv  051KhYDCpv  "
      ],
      "text/html": "<div>\n<style scoped>\n    .dataframe tbody tr th:only-of-type {\n        vertical-align: middle;\n    }\n\n    .dataframe tbody tr th {\n        vertical-align: top;\n    }\n\n    .dataframe thead th {\n        text-align: right;\n    }\n</style>\n<table border=\"1\" class=\"dataframe\">\n  <thead>\n    <tr style=\"text-align: right;\">\n      <th></th>\n      <th>Product</th>\n      <th>Bill_Price</th>\n      <th>Date_time</th>\n      <th>Cell_onsite</th>\n      <th>DW_A</th>\n      <th>DW_B</th>\n      <th>Country_A</th>\n      <th>Country_B</th>\n      <th>Cell_id</th>\n      <th>Site_id</th>\n    </tr>\n  </thead>\n  <tbody>\n    <tr>\n      <th>0</th>\n      <td>Voice</td>\n      <td>0</td>\n      <td>2012-05-06 23:04:37.0</td>\n      <td>1</td>\n      <td>49fae048b547780</td>\n      <td>1a49f8b0ded9de6</td>\n      <td>19e2e</td>\n      <td>19e2e</td>\n      <td>/TJNe+Mmtu</td>\n      <td>/TJNe+Mmtu</td>\n    </tr>\n    <tr>\n      <th>1</th>\n      <td>sms</td>\n      <td>0</td>\n      <td>2012-05-06 23:05:25.0</td>\n      <td>0</td>\n      <td>7a54a6eaee19e65</td>\n      <td>93343ba6e41af95</td>\n      <td>19e2e</td>\n      <td>19e2e</td>\n      <td>/+cKZKIp41</td>\n      <td>/+cKZKIp41</td>\n    </tr>\n    <tr>\n      <th>2</th>\n      <td>sms</td>\n      <td>25</td>\n      <td>2012-05-06 23:05:41.0</td>\n      <td>0</td>\n      <td>6008887b0207d82</td>\n      <td>7aacc9709ce0a20</td>\n      <td>19e2e</td>\n      <td>19e2e</td>\n      <td>/u0FSD+ahi</td>\n      <td>/u0FSD+ahi</td>\n    </tr>\n    <tr>\n      <th>3</th>\n      <td>Voice</td>\n      <td>56</td>\n      <td>2012-05-06 23:05:42.0</td>\n      <td>1</td>\n      <td>7370032e20f4e96</td>\n      <td>6af4a60e74c91d3</td>\n      <td>19e2e</td>\n      <td>19e2e</td>\n      <td>+cNeJzsTp3</td>\n      <td>+cNeJzsTp3</td>\n    </tr>\n    <tr>\n      <th>4</th>\n      <td>Voice</td>\n      <td>14</td>\n      <td>2012-05-06 23:06:29.0</td>\n      <td>1</td>\n      <td>966ba4656e38e62</td>\n      <td>02aa736ee555d5c</td>\n      <td>19e2e</td>\n      <td>19e2e</td>\n      <td>051KhYDCpv</td>\n      <td>051KhYDCpv</td>\n    </tr>\n  </tbody>\n</table>\n</div>"
     },
     "metadata": {},
     "execution_count": 5
    }
   ],
   "source": [
    "# we load the csv containing the data sets\n",
    "# With a data preview\n",
    "\n",
    "tel1 = pd.read_csv('Data\\Telcom_dataset.csv', delimiter= ',',encoding= 'utf8')\n",
    "tel1\n",
    "\n",
    "tel1.columns = ['Product', 'Bill_Price','Date_time', 'Cell_onsite','DW_A','DW_B', 'Country_A','Country_B','Cell_id', 'Site_id']\n",
    "\n",
    "tel1.head()"
   ]
  },
  {
   "cell_type": "code",
   "execution_count": 6,
   "metadata": {},
   "outputs": [
    {
     "output_type": "execute_result",
     "data": {
      "text/plain": [
       "  Product  Bill_Price              Date_time Cell_onsite             DW_A  \\\n",
       "0     sms           0  2012-05-07 23:02:06.0           2  32255675c3b6fe3   \n",
       "1   Voice           0  2012-05-07 23:03:44.0           1  ff16d6ac74c1c64   \n",
       "2     sms           0  2012-05-07 23:04:06.0           0  98d9f2fb5ff624b   \n",
       "3   Voice          37  2012-05-07 23:04:48.0           1  3f9c8a33ec7be1f   \n",
       "4     sms          25  2012-05-07 23:04:58.0           1  7bcccc03adf3864   \n",
       "\n",
       "              DW_B Country_A Country_B     Cell_id     Site_id  \n",
       "0  1aa7ae01386e9fb     19e2e     19e2e  +854AcBQT2  +854AcBQT2  \n",
       "1  87d87309c15a8c9     19e2e     19e2e  +854AcBQT2  +854AcBQT2  \n",
       "2  93343ba6e41af95     19e2e     19e2e  +laSrk7g6q  +laSrk7g6q  \n",
       "3  7d05a38f89c49d8     19e2e     19e2e  /xvRrCVKoQ  /xvRrCVKoQ  \n",
       "4  56a5d5430d2fa86     19e2e     19e2e  +bO+qkSonO  +bO+qkSonO  "
      ],
      "text/html": "<div>\n<style scoped>\n    .dataframe tbody tr th:only-of-type {\n        vertical-align: middle;\n    }\n\n    .dataframe tbody tr th {\n        vertical-align: top;\n    }\n\n    .dataframe thead th {\n        text-align: right;\n    }\n</style>\n<table border=\"1\" class=\"dataframe\">\n  <thead>\n    <tr style=\"text-align: right;\">\n      <th></th>\n      <th>Product</th>\n      <th>Bill_Price</th>\n      <th>Date_time</th>\n      <th>Cell_onsite</th>\n      <th>DW_A</th>\n      <th>DW_B</th>\n      <th>Country_A</th>\n      <th>Country_B</th>\n      <th>Cell_id</th>\n      <th>Site_id</th>\n    </tr>\n  </thead>\n  <tbody>\n    <tr>\n      <th>0</th>\n      <td>sms</td>\n      <td>0</td>\n      <td>2012-05-07 23:02:06.0</td>\n      <td>2</td>\n      <td>32255675c3b6fe3</td>\n      <td>1aa7ae01386e9fb</td>\n      <td>19e2e</td>\n      <td>19e2e</td>\n      <td>+854AcBQT2</td>\n      <td>+854AcBQT2</td>\n    </tr>\n    <tr>\n      <th>1</th>\n      <td>Voice</td>\n      <td>0</td>\n      <td>2012-05-07 23:03:44.0</td>\n      <td>1</td>\n      <td>ff16d6ac74c1c64</td>\n      <td>87d87309c15a8c9</td>\n      <td>19e2e</td>\n      <td>19e2e</td>\n      <td>+854AcBQT2</td>\n      <td>+854AcBQT2</td>\n    </tr>\n    <tr>\n      <th>2</th>\n      <td>sms</td>\n      <td>0</td>\n      <td>2012-05-07 23:04:06.0</td>\n      <td>0</td>\n      <td>98d9f2fb5ff624b</td>\n      <td>93343ba6e41af95</td>\n      <td>19e2e</td>\n      <td>19e2e</td>\n      <td>+laSrk7g6q</td>\n      <td>+laSrk7g6q</td>\n    </tr>\n    <tr>\n      <th>3</th>\n      <td>Voice</td>\n      <td>37</td>\n      <td>2012-05-07 23:04:48.0</td>\n      <td>1</td>\n      <td>3f9c8a33ec7be1f</td>\n      <td>7d05a38f89c49d8</td>\n      <td>19e2e</td>\n      <td>19e2e</td>\n      <td>/xvRrCVKoQ</td>\n      <td>/xvRrCVKoQ</td>\n    </tr>\n    <tr>\n      <th>4</th>\n      <td>sms</td>\n      <td>25</td>\n      <td>2012-05-07 23:04:58.0</td>\n      <td>1</td>\n      <td>7bcccc03adf3864</td>\n      <td>56a5d5430d2fa86</td>\n      <td>19e2e</td>\n      <td>19e2e</td>\n      <td>+bO+qkSonO</td>\n      <td>+bO+qkSonO</td>\n    </tr>\n  </tbody>\n</table>\n</div>"
     },
     "metadata": {},
     "execution_count": 6
    }
   ],
   "source": [
    "# Second data set.\n",
    "# With a data preview\n",
    "\n",
    "tel2 = pd.read_csv('Data\\Telcom_dataset2.csv', delimiter= ',',encoding= 'utf8')\n",
    "tel1\n",
    "\n",
    "tel2.columns = ['Product', 'Bill_Price','Date_time', 'Cell_onsite','DW_A','DW_B', 'Country_A','Country_B','Cell_id', 'Site_id']\n",
    "\n",
    "tel2.head()"
   ]
  },
  {
   "cell_type": "code",
   "execution_count": 7,
   "metadata": {},
   "outputs": [
    {
     "output_type": "execute_result",
     "data": {
      "text/plain": [
       "  Product  Bill_Price              Date_time Cell_onsite             DW_A  \\\n",
       "0   Voice          61  2012-05-08 23:01:28.0           2  966f68353622feb   \n",
       "1     sms           0  2012-05-08 23:01:31.0           1  a0a597384c612d7   \n",
       "2   Voice          10  2012-05-08 23:02:59.0           1  5441a9a58c97132   \n",
       "3     sms           0  2012-05-08 23:03:04.0           0  8ab8b9ed6989f61   \n",
       "4   Voice          22  2012-05-08 23:03:16.0           4  52662a62b199334   \n",
       "\n",
       "              DW_B Country_A Country_B     Cell_id     Site_id  \n",
       "0  ffd53a3bb2db6f1     19e2e     19e2e  +38u2u/rfx  +38u2u/rfx  \n",
       "1  cf3b218f1dde792     19e2e     19e2e  +Fs4mTvdKx  +Fs4mTvdKx  \n",
       "2  52f8b299515b9b7     19e2e     19e2e  +ZaaZozy/+  +ZaaZozy/+  \n",
       "3  e09e736e46c5c3d     19e2e     19e2e  +cNeJzsTp3  +cNeJzsTp3  \n",
       "4  2186273faab4602     19e2e     19e2e  /eeMklgyJA  /eeMklgyJA  "
      ],
      "text/html": "<div>\n<style scoped>\n    .dataframe tbody tr th:only-of-type {\n        vertical-align: middle;\n    }\n\n    .dataframe tbody tr th {\n        vertical-align: top;\n    }\n\n    .dataframe thead th {\n        text-align: right;\n    }\n</style>\n<table border=\"1\" class=\"dataframe\">\n  <thead>\n    <tr style=\"text-align: right;\">\n      <th></th>\n      <th>Product</th>\n      <th>Bill_Price</th>\n      <th>Date_time</th>\n      <th>Cell_onsite</th>\n      <th>DW_A</th>\n      <th>DW_B</th>\n      <th>Country_A</th>\n      <th>Country_B</th>\n      <th>Cell_id</th>\n      <th>Site_id</th>\n    </tr>\n  </thead>\n  <tbody>\n    <tr>\n      <th>0</th>\n      <td>Voice</td>\n      <td>61</td>\n      <td>2012-05-08 23:01:28.0</td>\n      <td>2</td>\n      <td>966f68353622feb</td>\n      <td>ffd53a3bb2db6f1</td>\n      <td>19e2e</td>\n      <td>19e2e</td>\n      <td>+38u2u/rfx</td>\n      <td>+38u2u/rfx</td>\n    </tr>\n    <tr>\n      <th>1</th>\n      <td>sms</td>\n      <td>0</td>\n      <td>2012-05-08 23:01:31.0</td>\n      <td>1</td>\n      <td>a0a597384c612d7</td>\n      <td>cf3b218f1dde792</td>\n      <td>19e2e</td>\n      <td>19e2e</td>\n      <td>+Fs4mTvdKx</td>\n      <td>+Fs4mTvdKx</td>\n    </tr>\n    <tr>\n      <th>2</th>\n      <td>Voice</td>\n      <td>10</td>\n      <td>2012-05-08 23:02:59.0</td>\n      <td>1</td>\n      <td>5441a9a58c97132</td>\n      <td>52f8b299515b9b7</td>\n      <td>19e2e</td>\n      <td>19e2e</td>\n      <td>+ZaaZozy/+</td>\n      <td>+ZaaZozy/+</td>\n    </tr>\n    <tr>\n      <th>3</th>\n      <td>sms</td>\n      <td>0</td>\n      <td>2012-05-08 23:03:04.0</td>\n      <td>0</td>\n      <td>8ab8b9ed6989f61</td>\n      <td>e09e736e46c5c3d</td>\n      <td>19e2e</td>\n      <td>19e2e</td>\n      <td>+cNeJzsTp3</td>\n      <td>+cNeJzsTp3</td>\n    </tr>\n    <tr>\n      <th>4</th>\n      <td>Voice</td>\n      <td>22</td>\n      <td>2012-05-08 23:03:16.0</td>\n      <td>4</td>\n      <td>52662a62b199334</td>\n      <td>2186273faab4602</td>\n      <td>19e2e</td>\n      <td>19e2e</td>\n      <td>/eeMklgyJA</td>\n      <td>/eeMklgyJA</td>\n    </tr>\n  </tbody>\n</table>\n</div>"
     },
     "metadata": {},
     "execution_count": 7
    }
   ],
   "source": [
    "# For our third data set.\n",
    "# With a data preview\n",
    "\n",
    "tel3 = pd.read_csv('Data\\Telcom_dataset3.csv', delimiter= ',',encoding= 'utf8')\n",
    "tel3\n",
    "\n",
    "tel3.columns = ['Product', 'Bill_Price','Date_time', 'Cell_onsite','DW_A','DW_B', 'Country_A','Country_B','Cell_id', 'Site_id']\n",
    "\n",
    "tel3.head()"
   ]
  },
  {
   "cell_type": "code",
   "execution_count": 11,
   "metadata": {},
   "outputs": [
    {
     "output_type": "stream",
     "name": "stdout",
     "text": [
      "<class 'pandas.core.frame.DataFrame'>\nRangeIndex: 3974 entries, 0 to 3973\nData columns (total 12 columns):\n #   Column        Non-Null Count  Dtype  \n---  ------        --------------  -----  \n 0   Unnamed: 0    3974 non-null   int64  \n 1   VILLES        3974 non-null   object \n 2   STATUS        3907 non-null   object \n 3   LOCALISATION  3974 non-null   object \n 4   DECOUPZONE    3974 non-null   object \n 5   ZONENAME      3968 non-null   object \n 6   LONGITUDE     3974 non-null   float64\n 7   LATITUDE      3974 non-null   float64\n 8   REGION        3974 non-null   object \n 9   AREA          3951 non-null   object \n 10  CELL_ID       3974 non-null   object \n 11  SITE_CODE     3974 non-null   object \ndtypes: float64(2), int64(1), object(9)\nmemory usage: 372.7+ KB\n"
     ]
    }
   ],
   "source": [
    "# We should clean the data frames for any duplicates in the data and also\n",
    "#  Removing missing values and droppping uneccesary columns as per our guide on the Description\n",
    "\n",
    "# Start with df_cellgeo\n",
    "# Check to see info details\n",
    "#  Step two check for duplicates and missing values\n",
    "# \n",
    "df_cellgeo.info()\n",
    "\n",
    "df_cellgeo.duplicated().value_counts()\n",
    "\n",
    "# Check for missing values\n",
    "df_cellgeo.isnull().sum().sort_values(ascending=False)\n",
    "\n",
    "\n",
    "# Drop Duplicates\n",
    "df_cellgeo.drop_duplicates(inplace=True)"
   ]
  },
  {
   "cell_type": "code",
   "execution_count": 13,
   "metadata": {},
   "outputs": [
    {
     "output_type": "stream",
     "name": "stdout",
     "text": [
      "<class 'pandas.core.frame.DataFrame'>\nRangeIndex: 5001 entries, 0 to 5000\nData columns (total 10 columns):\n #   Column       Non-Null Count  Dtype \n---  ------       --------------  ----- \n 0   Product      5001 non-null   object\n 1   Bill_Price   5001 non-null   int64 \n 2   Date_time    5001 non-null   object\n 3   Cell_onsite  5001 non-null   object\n 4   DW_A         5001 non-null   object\n 5   DW_B         5001 non-null   object\n 6   Country_A    5001 non-null   object\n 7   Country_B    5001 non-null   object\n 8   Cell_id      5001 non-null   object\n 9   Site_id      4285 non-null   object\ndtypes: int64(1), object(9)\nmemory usage: 390.8+ KB\n"
     ]
    }
   ],
   "source": [
    "# Now for Our datasets\n",
    "# Check to see info details\n",
    "#  Step two check for duplicates and missing values\n",
    "# \n",
    "tel1.info()\n",
    "\n",
    "tel1.duplicated().value_counts()\n",
    "\n",
    "# Check for missing values\n",
    "tel1.isnull().sum().sort_values(ascending=False)\n",
    "\n",
    "\n",
    "# Drop Duplicates\n",
    "tel1.drop_duplicates(inplace=True)"
   ]
  },
  {
   "cell_type": "code",
   "execution_count": 14,
   "metadata": {},
   "outputs": [
    {
     "output_type": "stream",
     "name": "stdout",
     "text": [
      "<class 'pandas.core.frame.DataFrame'>\nRangeIndex: 5001 entries, 0 to 5000\nData columns (total 10 columns):\n #   Column       Non-Null Count  Dtype \n---  ------       --------------  ----- \n 0   Product      5001 non-null   object\n 1   Bill_Price   5001 non-null   int64 \n 2   Date_time    5001 non-null   object\n 3   Cell_onsite  5001 non-null   object\n 4   DW_A         5001 non-null   object\n 5   DW_B         5001 non-null   object\n 6   Country_A    5001 non-null   object\n 7   Country_B    5001 non-null   object\n 8   Cell_id      5001 non-null   object\n 9   Site_id      4325 non-null   object\ndtypes: int64(1), object(9)\nmemory usage: 390.8+ KB\n"
     ]
    }
   ],
   "source": [
    "# Now for Our datasets\n",
    "# Check to see info details\n",
    "#  Step two check for duplicates and missing values\n",
    "# \n",
    "tel2.info()\n",
    "\n",
    "tel2.duplicated().value_counts()\n",
    "\n",
    "# Check for missing values\n",
    "tel2.isnull().sum().sort_values(ascending=False)\n",
    "\n",
    "\n",
    "# Drop Duplicates\n",
    "tel2.drop_duplicates(inplace=True)"
   ]
  },
  {
   "cell_type": "code",
   "execution_count": 15,
   "metadata": {},
   "outputs": [
    {
     "output_type": "stream",
     "name": "stdout",
     "text": [
      "<class 'pandas.core.frame.DataFrame'>\nRangeIndex: 5001 entries, 0 to 5000\nData columns (total 10 columns):\n #   Column       Non-Null Count  Dtype \n---  ------       --------------  ----- \n 0   Product      5001 non-null   object\n 1   Bill_Price   5001 non-null   int64 \n 2   Date_time    5001 non-null   object\n 3   Cell_onsite  5001 non-null   object\n 4   DW_A         5001 non-null   object\n 5   DW_B         5001 non-null   object\n 6   Country_A    5001 non-null   object\n 7   Country_B    5001 non-null   object\n 8   Cell_id      5001 non-null   object\n 9   Site_id      4396 non-null   object\ndtypes: int64(1), object(9)\nmemory usage: 390.8+ KB\n"
     ]
    }
   ],
   "source": [
    "# Now for Our datasets\n",
    "# Check to see info details\n",
    "#  Step two check for duplicates and missing values\n",
    "# \n",
    "tel3.info()\n",
    "\n",
    "tel3.duplicated().value_counts()\n",
    "\n",
    "# Check for missing values\n",
    "tel3.isnull().sum().sort_values(ascending=False)\n",
    "\n",
    "\n",
    "# Drop Duplicates\n",
    "tel3.drop_duplicates(inplace=True)"
   ]
  },
  {
   "cell_type": "code",
   "execution_count": 16,
   "metadata": {},
   "outputs": [
    {
     "output_type": "execute_result",
     "data": {
      "text/plain": [
       "  Product  Bill_Price              Date_time Cell_onsite             DW_A  \\\n",
       "0   Voice           0  2012-05-06 23:04:37.0           1  49fae048b547780   \n",
       "1     sms           0  2012-05-06 23:05:25.0           0  7a54a6eaee19e65   \n",
       "2     sms          25  2012-05-06 23:05:41.0           0  6008887b0207d82   \n",
       "3   Voice          56  2012-05-06 23:05:42.0           1  7370032e20f4e96   \n",
       "4   Voice          14  2012-05-06 23:06:29.0           1  966ba4656e38e62   \n",
       "5    data           0  2012-05-06 23:07:26.0           _  f71825ca6e623f9   \n",
       "6   Voice           0  2012-05-06 23:08:02.0           1  4afd7d5af21b1ce   \n",
       "7   Voice           0  2012-05-06 23:08:03.0           5  d717dee81c51389   \n",
       "8   Voice           0  2012-05-06 23:08:05.0           1  44522aefdc918a6   \n",
       "9     sms           0  2012-05-06 23:08:43.0           0  0763a571d24db64   \n",
       "\n",
       "              DW_B Country_A Country_B     Cell_id     Site_id  \n",
       "0  1a49f8b0ded9de6     19e2e     19e2e  /TJNe+Mmtu  /TJNe+Mmtu  \n",
       "1  93343ba6e41af95     19e2e     19e2e  /+cKZKIp41  /+cKZKIp41  \n",
       "2  7aacc9709ce0a20     19e2e     19e2e  /u0FSD+ahi  /u0FSD+ahi  \n",
       "3  6af4a60e74c91d3     19e2e     19e2e  +cNeJzsTp3  +cNeJzsTp3  \n",
       "4  02aa736ee555d5c     19e2e     19e2e  051KhYDCpv  051KhYDCpv  \n",
       "5  5a4dc9e82deb309     19e2e     OTHER  /lrUXVGVcN  /lrUXVGVcN  \n",
       "6  67bf1ac30e58e2f     19e2e     19e2e  +38u2u/rfx  +38u2u/rfx  \n",
       "7  adde5afd9a67b10     19e2e     19e2e  09UjmmY1Ds  09UjmmY1Ds  \n",
       "8  19e68e80103885e     19e2e     19e2e  0DeimCpZOc  0DeimCpZOc  \n",
       "9  f773694c00c74d2     19e2e     19e2e  01MDiY5F89  01MDiY5F89  "
      ],
      "text/html": "<div>\n<style scoped>\n    .dataframe tbody tr th:only-of-type {\n        vertical-align: middle;\n    }\n\n    .dataframe tbody tr th {\n        vertical-align: top;\n    }\n\n    .dataframe thead th {\n        text-align: right;\n    }\n</style>\n<table border=\"1\" class=\"dataframe\">\n  <thead>\n    <tr style=\"text-align: right;\">\n      <th></th>\n      <th>Product</th>\n      <th>Bill_Price</th>\n      <th>Date_time</th>\n      <th>Cell_onsite</th>\n      <th>DW_A</th>\n      <th>DW_B</th>\n      <th>Country_A</th>\n      <th>Country_B</th>\n      <th>Cell_id</th>\n      <th>Site_id</th>\n    </tr>\n  </thead>\n  <tbody>\n    <tr>\n      <th>0</th>\n      <td>Voice</td>\n      <td>0</td>\n      <td>2012-05-06 23:04:37.0</td>\n      <td>1</td>\n      <td>49fae048b547780</td>\n      <td>1a49f8b0ded9de6</td>\n      <td>19e2e</td>\n      <td>19e2e</td>\n      <td>/TJNe+Mmtu</td>\n      <td>/TJNe+Mmtu</td>\n    </tr>\n    <tr>\n      <th>1</th>\n      <td>sms</td>\n      <td>0</td>\n      <td>2012-05-06 23:05:25.0</td>\n      <td>0</td>\n      <td>7a54a6eaee19e65</td>\n      <td>93343ba6e41af95</td>\n      <td>19e2e</td>\n      <td>19e2e</td>\n      <td>/+cKZKIp41</td>\n      <td>/+cKZKIp41</td>\n    </tr>\n    <tr>\n      <th>2</th>\n      <td>sms</td>\n      <td>25</td>\n      <td>2012-05-06 23:05:41.0</td>\n      <td>0</td>\n      <td>6008887b0207d82</td>\n      <td>7aacc9709ce0a20</td>\n      <td>19e2e</td>\n      <td>19e2e</td>\n      <td>/u0FSD+ahi</td>\n      <td>/u0FSD+ahi</td>\n    </tr>\n    <tr>\n      <th>3</th>\n      <td>Voice</td>\n      <td>56</td>\n      <td>2012-05-06 23:05:42.0</td>\n      <td>1</td>\n      <td>7370032e20f4e96</td>\n      <td>6af4a60e74c91d3</td>\n      <td>19e2e</td>\n      <td>19e2e</td>\n      <td>+cNeJzsTp3</td>\n      <td>+cNeJzsTp3</td>\n    </tr>\n    <tr>\n      <th>4</th>\n      <td>Voice</td>\n      <td>14</td>\n      <td>2012-05-06 23:06:29.0</td>\n      <td>1</td>\n      <td>966ba4656e38e62</td>\n      <td>02aa736ee555d5c</td>\n      <td>19e2e</td>\n      <td>19e2e</td>\n      <td>051KhYDCpv</td>\n      <td>051KhYDCpv</td>\n    </tr>\n    <tr>\n      <th>5</th>\n      <td>data</td>\n      <td>0</td>\n      <td>2012-05-06 23:07:26.0</td>\n      <td>_</td>\n      <td>f71825ca6e623f9</td>\n      <td>5a4dc9e82deb309</td>\n      <td>19e2e</td>\n      <td>OTHER</td>\n      <td>/lrUXVGVcN</td>\n      <td>/lrUXVGVcN</td>\n    </tr>\n    <tr>\n      <th>6</th>\n      <td>Voice</td>\n      <td>0</td>\n      <td>2012-05-06 23:08:02.0</td>\n      <td>1</td>\n      <td>4afd7d5af21b1ce</td>\n      <td>67bf1ac30e58e2f</td>\n      <td>19e2e</td>\n      <td>19e2e</td>\n      <td>+38u2u/rfx</td>\n      <td>+38u2u/rfx</td>\n    </tr>\n    <tr>\n      <th>7</th>\n      <td>Voice</td>\n      <td>0</td>\n      <td>2012-05-06 23:08:03.0</td>\n      <td>5</td>\n      <td>d717dee81c51389</td>\n      <td>adde5afd9a67b10</td>\n      <td>19e2e</td>\n      <td>19e2e</td>\n      <td>09UjmmY1Ds</td>\n      <td>09UjmmY1Ds</td>\n    </tr>\n    <tr>\n      <th>8</th>\n      <td>Voice</td>\n      <td>0</td>\n      <td>2012-05-06 23:08:05.0</td>\n      <td>1</td>\n      <td>44522aefdc918a6</td>\n      <td>19e68e80103885e</td>\n      <td>19e2e</td>\n      <td>19e2e</td>\n      <td>0DeimCpZOc</td>\n      <td>0DeimCpZOc</td>\n    </tr>\n    <tr>\n      <th>9</th>\n      <td>sms</td>\n      <td>0</td>\n      <td>2012-05-06 23:08:43.0</td>\n      <td>0</td>\n      <td>0763a571d24db64</td>\n      <td>f773694c00c74d2</td>\n      <td>19e2e</td>\n      <td>19e2e</td>\n      <td>01MDiY5F89</td>\n      <td>01MDiY5F89</td>\n    </tr>\n  </tbody>\n</table>\n</div>"
     },
     "metadata": {},
     "execution_count": 16
    }
   ],
   "source": [
    "# Now that the datasets are cleaned up we can now join them into one sheet\n",
    "# \n",
    "\n",
    "master_datasets =  pd.concat([tel1,tel2,tel3], axis=0, join='outer',ignore_index=True)\n",
    "\n",
    "master_datasets.head(10)"
   ]
  },
  {
   "cell_type": "code",
   "execution_count": 17,
   "metadata": {},
   "outputs": [
    {
     "output_type": "stream",
     "name": "stdout",
     "text": [
      "<class 'pandas.core.frame.DataFrame'>\nRangeIndex: 14750 entries, 0 to 14749\nData columns (total 10 columns):\n #   Column       Non-Null Count  Dtype \n---  ------       --------------  ----- \n 0   Product      14750 non-null  object\n 1   Bill_Price   14750 non-null  int64 \n 2   Date_time    14750 non-null  object\n 3   Cell_onsite  14750 non-null  object\n 4   DW_A         14750 non-null  object\n 5   DW_B         14750 non-null  object\n 6   Country_A    14750 non-null  object\n 7   Country_B    14750 non-null  object\n 8   Cell_id      14750 non-null  object\n 9   Site_id      12789 non-null  object\ndtypes: int64(1), object(9)\nmemory usage: 1.1+ MB\n"
     ]
    }
   ],
   "source": [
    "# We can take a look at some info on the merged data\n",
    "# To seek out where our data points are.\n",
    "# We will need to drop some columns since they are not needed.\n",
    "\n",
    "master_datasets.info()"
   ]
  },
  {
   "cell_type": "code",
   "execution_count": 26,
   "metadata": {},
   "outputs": [
    {
     "output_type": "execute_result",
     "data": {
      "text/plain": [
       "  Product  Bill_Price              Date_time             DW_A  \\\n",
       "0   Voice           0  2012-05-06 23:04:37.0  49fae048b547780   \n",
       "1     sms           0  2012-05-06 23:05:25.0  7a54a6eaee19e65   \n",
       "2     sms          25  2012-05-06 23:05:41.0  6008887b0207d82   \n",
       "3   Voice          56  2012-05-06 23:05:42.0  7370032e20f4e96   \n",
       "4   Voice          14  2012-05-06 23:06:29.0  966ba4656e38e62   \n",
       "\n",
       "              DW_B     Cell_id     Site_id  \n",
       "0  1a49f8b0ded9de6  /TJNe+Mmtu  /TJNe+Mmtu  \n",
       "1  93343ba6e41af95  /+cKZKIp41  /+cKZKIp41  \n",
       "2  7aacc9709ce0a20  /u0FSD+ahi  /u0FSD+ahi  \n",
       "3  6af4a60e74c91d3  +cNeJzsTp3  +cNeJzsTp3  \n",
       "4  02aa736ee555d5c  051KhYDCpv  051KhYDCpv  "
      ],
      "text/html": "<div>\n<style scoped>\n    .dataframe tbody tr th:only-of-type {\n        vertical-align: middle;\n    }\n\n    .dataframe tbody tr th {\n        vertical-align: top;\n    }\n\n    .dataframe thead th {\n        text-align: right;\n    }\n</style>\n<table border=\"1\" class=\"dataframe\">\n  <thead>\n    <tr style=\"text-align: right;\">\n      <th></th>\n      <th>Product</th>\n      <th>Bill_Price</th>\n      <th>Date_time</th>\n      <th>DW_A</th>\n      <th>DW_B</th>\n      <th>Cell_id</th>\n      <th>Site_id</th>\n    </tr>\n  </thead>\n  <tbody>\n    <tr>\n      <th>0</th>\n      <td>Voice</td>\n      <td>0</td>\n      <td>2012-05-06 23:04:37.0</td>\n      <td>49fae048b547780</td>\n      <td>1a49f8b0ded9de6</td>\n      <td>/TJNe+Mmtu</td>\n      <td>/TJNe+Mmtu</td>\n    </tr>\n    <tr>\n      <th>1</th>\n      <td>sms</td>\n      <td>0</td>\n      <td>2012-05-06 23:05:25.0</td>\n      <td>7a54a6eaee19e65</td>\n      <td>93343ba6e41af95</td>\n      <td>/+cKZKIp41</td>\n      <td>/+cKZKIp41</td>\n    </tr>\n    <tr>\n      <th>2</th>\n      <td>sms</td>\n      <td>25</td>\n      <td>2012-05-06 23:05:41.0</td>\n      <td>6008887b0207d82</td>\n      <td>7aacc9709ce0a20</td>\n      <td>/u0FSD+ahi</td>\n      <td>/u0FSD+ahi</td>\n    </tr>\n    <tr>\n      <th>3</th>\n      <td>Voice</td>\n      <td>56</td>\n      <td>2012-05-06 23:05:42.0</td>\n      <td>7370032e20f4e96</td>\n      <td>6af4a60e74c91d3</td>\n      <td>+cNeJzsTp3</td>\n      <td>+cNeJzsTp3</td>\n    </tr>\n    <tr>\n      <th>4</th>\n      <td>Voice</td>\n      <td>14</td>\n      <td>2012-05-06 23:06:29.0</td>\n      <td>966ba4656e38e62</td>\n      <td>02aa736ee555d5c</td>\n      <td>051KhYDCpv</td>\n      <td>051KhYDCpv</td>\n    </tr>\n  </tbody>\n</table>\n</div>"
     },
     "metadata": {},
     "execution_count": 26
    }
   ],
   "source": [
    "# Dropping columns on the master Data set.\n",
    "# \n",
    "master_datasets.drop(\"Cell_onsite\", axis=1, inplace=True)\n",
    "master_datasets.drop(\"Country_A\", axis=1, inplace=True)\n",
    "master_datasets.drop(\"Country_B\", axis=1, inplace=True)\n"
   ]
  },
  {
   "cell_type": "code",
   "execution_count": 27,
   "metadata": {},
   "outputs": [
    {
     "output_type": "execute_result",
     "data": {
      "text/plain": [
       "  Product  Bill_Price              Date_time             DW_A  \\\n",
       "0   Voice           0  2012-05-06 23:04:37.0  49fae048b547780   \n",
       "1     sms           0  2012-05-06 23:05:25.0  7a54a6eaee19e65   \n",
       "2     sms          25  2012-05-06 23:05:41.0  6008887b0207d82   \n",
       "3   Voice          56  2012-05-06 23:05:42.0  7370032e20f4e96   \n",
       "4   Voice          14  2012-05-06 23:06:29.0  966ba4656e38e62   \n",
       "\n",
       "              DW_B     Cell_id     Site_id  \n",
       "0  1a49f8b0ded9de6  /TJNe+Mmtu  /TJNe+Mmtu  \n",
       "1  93343ba6e41af95  /+cKZKIp41  /+cKZKIp41  \n",
       "2  7aacc9709ce0a20  /u0FSD+ahi  /u0FSD+ahi  \n",
       "3  6af4a60e74c91d3  +cNeJzsTp3  +cNeJzsTp3  \n",
       "4  02aa736ee555d5c  051KhYDCpv  051KhYDCpv  "
      ],
      "text/html": "<div>\n<style scoped>\n    .dataframe tbody tr th:only-of-type {\n        vertical-align: middle;\n    }\n\n    .dataframe tbody tr th {\n        vertical-align: top;\n    }\n\n    .dataframe thead th {\n        text-align: right;\n    }\n</style>\n<table border=\"1\" class=\"dataframe\">\n  <thead>\n    <tr style=\"text-align: right;\">\n      <th></th>\n      <th>Product</th>\n      <th>Bill_Price</th>\n      <th>Date_time</th>\n      <th>DW_A</th>\n      <th>DW_B</th>\n      <th>Cell_id</th>\n      <th>Site_id</th>\n    </tr>\n  </thead>\n  <tbody>\n    <tr>\n      <th>0</th>\n      <td>Voice</td>\n      <td>0</td>\n      <td>2012-05-06 23:04:37.0</td>\n      <td>49fae048b547780</td>\n      <td>1a49f8b0ded9de6</td>\n      <td>/TJNe+Mmtu</td>\n      <td>/TJNe+Mmtu</td>\n    </tr>\n    <tr>\n      <th>1</th>\n      <td>sms</td>\n      <td>0</td>\n      <td>2012-05-06 23:05:25.0</td>\n      <td>7a54a6eaee19e65</td>\n      <td>93343ba6e41af95</td>\n      <td>/+cKZKIp41</td>\n      <td>/+cKZKIp41</td>\n    </tr>\n    <tr>\n      <th>2</th>\n      <td>sms</td>\n      <td>25</td>\n      <td>2012-05-06 23:05:41.0</td>\n      <td>6008887b0207d82</td>\n      <td>7aacc9709ce0a20</td>\n      <td>/u0FSD+ahi</td>\n      <td>/u0FSD+ahi</td>\n    </tr>\n    <tr>\n      <th>3</th>\n      <td>Voice</td>\n      <td>56</td>\n      <td>2012-05-06 23:05:42.0</td>\n      <td>7370032e20f4e96</td>\n      <td>6af4a60e74c91d3</td>\n      <td>+cNeJzsTp3</td>\n      <td>+cNeJzsTp3</td>\n    </tr>\n    <tr>\n      <th>4</th>\n      <td>Voice</td>\n      <td>14</td>\n      <td>2012-05-06 23:06:29.0</td>\n      <td>966ba4656e38e62</td>\n      <td>02aa736ee555d5c</td>\n      <td>051KhYDCpv</td>\n      <td>051KhYDCpv</td>\n    </tr>\n  </tbody>\n</table>\n</div>"
     },
     "metadata": {},
     "execution_count": 27
    }
   ],
   "source": [
    "# To preview changes\n",
    "master_datasets.head()"
   ]
  },
  {
   "cell_type": "code",
   "execution_count": 30,
   "metadata": {},
   "outputs": [
    {
     "output_type": "execute_result",
     "data": {
      "text/plain": [
       "  Product  Bill_Price              Date_time             DW_A  \\\n",
       "0   Voice           0  2012-05-06 23:04:37.0  49fae048b547780   \n",
       "1     sms           0  2012-05-06 23:05:25.0  7a54a6eaee19e65   \n",
       "2     sms          25  2012-05-06 23:05:41.0  6008887b0207d82   \n",
       "3   Voice          56  2012-05-06 23:05:42.0  7370032e20f4e96   \n",
       "4   Voice          14  2012-05-06 23:06:29.0  966ba4656e38e62   \n",
       "\n",
       "              DW_B     Cell_id     Site_id        Date        time  \n",
       "0  1a49f8b0ded9de6  /TJNe+Mmtu  /TJNe+Mmtu  2012-05-06  23:04:37.0  \n",
       "1  93343ba6e41af95  /+cKZKIp41  /+cKZKIp41  2012-05-06  23:05:25.0  \n",
       "2  7aacc9709ce0a20  /u0FSD+ahi  /u0FSD+ahi  2012-05-06  23:05:41.0  \n",
       "3  6af4a60e74c91d3  +cNeJzsTp3  +cNeJzsTp3  2012-05-06  23:05:42.0  \n",
       "4  02aa736ee555d5c  051KhYDCpv  051KhYDCpv  2012-05-06  23:06:29.0  "
      ],
      "text/html": "<div>\n<style scoped>\n    .dataframe tbody tr th:only-of-type {\n        vertical-align: middle;\n    }\n\n    .dataframe tbody tr th {\n        vertical-align: top;\n    }\n\n    .dataframe thead th {\n        text-align: right;\n    }\n</style>\n<table border=\"1\" class=\"dataframe\">\n  <thead>\n    <tr style=\"text-align: right;\">\n      <th></th>\n      <th>Product</th>\n      <th>Bill_Price</th>\n      <th>Date_time</th>\n      <th>DW_A</th>\n      <th>DW_B</th>\n      <th>Cell_id</th>\n      <th>Site_id</th>\n      <th>Date</th>\n      <th>time</th>\n    </tr>\n  </thead>\n  <tbody>\n    <tr>\n      <th>0</th>\n      <td>Voice</td>\n      <td>0</td>\n      <td>2012-05-06 23:04:37.0</td>\n      <td>49fae048b547780</td>\n      <td>1a49f8b0ded9de6</td>\n      <td>/TJNe+Mmtu</td>\n      <td>/TJNe+Mmtu</td>\n      <td>2012-05-06</td>\n      <td>23:04:37.0</td>\n    </tr>\n    <tr>\n      <th>1</th>\n      <td>sms</td>\n      <td>0</td>\n      <td>2012-05-06 23:05:25.0</td>\n      <td>7a54a6eaee19e65</td>\n      <td>93343ba6e41af95</td>\n      <td>/+cKZKIp41</td>\n      <td>/+cKZKIp41</td>\n      <td>2012-05-06</td>\n      <td>23:05:25.0</td>\n    </tr>\n    <tr>\n      <th>2</th>\n      <td>sms</td>\n      <td>25</td>\n      <td>2012-05-06 23:05:41.0</td>\n      <td>6008887b0207d82</td>\n      <td>7aacc9709ce0a20</td>\n      <td>/u0FSD+ahi</td>\n      <td>/u0FSD+ahi</td>\n      <td>2012-05-06</td>\n      <td>23:05:41.0</td>\n    </tr>\n    <tr>\n      <th>3</th>\n      <td>Voice</td>\n      <td>56</td>\n      <td>2012-05-06 23:05:42.0</td>\n      <td>7370032e20f4e96</td>\n      <td>6af4a60e74c91d3</td>\n      <td>+cNeJzsTp3</td>\n      <td>+cNeJzsTp3</td>\n      <td>2012-05-06</td>\n      <td>23:05:42.0</td>\n    </tr>\n    <tr>\n      <th>4</th>\n      <td>Voice</td>\n      <td>14</td>\n      <td>2012-05-06 23:06:29.0</td>\n      <td>966ba4656e38e62</td>\n      <td>02aa736ee555d5c</td>\n      <td>051KhYDCpv</td>\n      <td>051KhYDCpv</td>\n      <td>2012-05-06</td>\n      <td>23:06:29.0</td>\n    </tr>\n  </tbody>\n</table>\n</div>"
     },
     "metadata": {},
     "execution_count": 30
    }
   ],
   "source": [
    "# We will splite date and time just to have a better master dataset\n",
    "# \n",
    "\n",
    "master_datasets[['Date', 'time']] = master_datasets.Date_time.str.split(expand=True)\n",
    "master_datasets.head()"
   ]
  },
  {
   "cell_type": "code",
   "execution_count": 31,
   "metadata": {},
   "outputs": [
    {
     "output_type": "execute_result",
     "data": {
      "text/plain": [
       "  Product  Bill_Price             DW_A             DW_B     Cell_id  \\\n",
       "0   Voice           0  49fae048b547780  1a49f8b0ded9de6  /TJNe+Mmtu   \n",
       "1     sms           0  7a54a6eaee19e65  93343ba6e41af95  /+cKZKIp41   \n",
       "2     sms          25  6008887b0207d82  7aacc9709ce0a20  /u0FSD+ahi   \n",
       "3   Voice          56  7370032e20f4e96  6af4a60e74c91d3  +cNeJzsTp3   \n",
       "4   Voice          14  966ba4656e38e62  02aa736ee555d5c  051KhYDCpv   \n",
       "\n",
       "      Site_id        Date        time  \n",
       "0  /TJNe+Mmtu  2012-05-06  23:04:37.0  \n",
       "1  /+cKZKIp41  2012-05-06  23:05:25.0  \n",
       "2  /u0FSD+ahi  2012-05-06  23:05:41.0  \n",
       "3  +cNeJzsTp3  2012-05-06  23:05:42.0  \n",
       "4  051KhYDCpv  2012-05-06  23:06:29.0  "
      ],
      "text/html": "<div>\n<style scoped>\n    .dataframe tbody tr th:only-of-type {\n        vertical-align: middle;\n    }\n\n    .dataframe tbody tr th {\n        vertical-align: top;\n    }\n\n    .dataframe thead th {\n        text-align: right;\n    }\n</style>\n<table border=\"1\" class=\"dataframe\">\n  <thead>\n    <tr style=\"text-align: right;\">\n      <th></th>\n      <th>Product</th>\n      <th>Bill_Price</th>\n      <th>DW_A</th>\n      <th>DW_B</th>\n      <th>Cell_id</th>\n      <th>Site_id</th>\n      <th>Date</th>\n      <th>time</th>\n    </tr>\n  </thead>\n  <tbody>\n    <tr>\n      <th>0</th>\n      <td>Voice</td>\n      <td>0</td>\n      <td>49fae048b547780</td>\n      <td>1a49f8b0ded9de6</td>\n      <td>/TJNe+Mmtu</td>\n      <td>/TJNe+Mmtu</td>\n      <td>2012-05-06</td>\n      <td>23:04:37.0</td>\n    </tr>\n    <tr>\n      <th>1</th>\n      <td>sms</td>\n      <td>0</td>\n      <td>7a54a6eaee19e65</td>\n      <td>93343ba6e41af95</td>\n      <td>/+cKZKIp41</td>\n      <td>/+cKZKIp41</td>\n      <td>2012-05-06</td>\n      <td>23:05:25.0</td>\n    </tr>\n    <tr>\n      <th>2</th>\n      <td>sms</td>\n      <td>25</td>\n      <td>6008887b0207d82</td>\n      <td>7aacc9709ce0a20</td>\n      <td>/u0FSD+ahi</td>\n      <td>/u0FSD+ahi</td>\n      <td>2012-05-06</td>\n      <td>23:05:41.0</td>\n    </tr>\n    <tr>\n      <th>3</th>\n      <td>Voice</td>\n      <td>56</td>\n      <td>7370032e20f4e96</td>\n      <td>6af4a60e74c91d3</td>\n      <td>+cNeJzsTp3</td>\n      <td>+cNeJzsTp3</td>\n      <td>2012-05-06</td>\n      <td>23:05:42.0</td>\n    </tr>\n    <tr>\n      <th>4</th>\n      <td>Voice</td>\n      <td>14</td>\n      <td>966ba4656e38e62</td>\n      <td>02aa736ee555d5c</td>\n      <td>051KhYDCpv</td>\n      <td>051KhYDCpv</td>\n      <td>2012-05-06</td>\n      <td>23:06:29.0</td>\n    </tr>\n  </tbody>\n</table>\n</div>"
     },
     "metadata": {},
     "execution_count": 31
    }
   ],
   "source": [
    "# Then we an drop the combined date and time column\n",
    "# \n",
    "master_datasets.drop(\"Date_time\", axis=1, inplace=True)\n",
    "master_datasets.head()"
   ]
  },
  {
   "cell_type": "code",
   "execution_count": 32,
   "metadata": {},
   "outputs": [
    {
     "output_type": "execute_result",
     "data": {
      "text/plain": [
       "   Unnamed: 0   VILLES      STATUS LOCALISATION    DECOUPZONE  ZONENAME  \\\n",
       "0           0   ADJAME  In Service      ABIDJAN  \"Abidjan_EST  AGBANNEW   \n",
       "1           1   ADJAME  In Service      ABIDJAN  \"Abidjan_EST  AGBANNEW   \n",
       "2           2   ADJAME  In Service      ABIDJAN  \"Abidjan_EST  AGBANNEW   \n",
       "3           3  ASSINIE  In Service    INTERIEUR     Grand-EST  ASSINIE\"   \n",
       "4           4  ASSINIE  In Service    INTERIEUR     Grand-EST  ASSINIE\"   \n",
       "\n",
       "   LONGITUDE  LATITUDE     REGION AREA     CELL_ID   SITE_CODE  \n",
       "0  -4.000667  5.368194     LAGUNE  NaN  fbb2e75af3  0bb492ef17  \n",
       "1  -4.000667  5.368194     LAGUNE  NaN  1502501d78  0bb492ef17  \n",
       "2  -4.000667  5.368194     LAGUNE  NaN  0c2e182a0c  0bb492ef17  \n",
       "3  -3.488467  5.158761  SUD COMOE  NaN  69bdfc69fd  8a1e6ce31f  \n",
       "4  -3.488467  5.158761  SUD COMOE  NaN  7a1029d2ab  8a1e6ce31f  "
      ],
      "text/html": "<div>\n<style scoped>\n    .dataframe tbody tr th:only-of-type {\n        vertical-align: middle;\n    }\n\n    .dataframe tbody tr th {\n        vertical-align: top;\n    }\n\n    .dataframe thead th {\n        text-align: right;\n    }\n</style>\n<table border=\"1\" class=\"dataframe\">\n  <thead>\n    <tr style=\"text-align: right;\">\n      <th></th>\n      <th>Unnamed: 0</th>\n      <th>VILLES</th>\n      <th>STATUS</th>\n      <th>LOCALISATION</th>\n      <th>DECOUPZONE</th>\n      <th>ZONENAME</th>\n      <th>LONGITUDE</th>\n      <th>LATITUDE</th>\n      <th>REGION</th>\n      <th>AREA</th>\n      <th>CELL_ID</th>\n      <th>SITE_CODE</th>\n    </tr>\n  </thead>\n  <tbody>\n    <tr>\n      <th>0</th>\n      <td>0</td>\n      <td>ADJAME</td>\n      <td>In Service</td>\n      <td>ABIDJAN</td>\n      <td>\"Abidjan_EST</td>\n      <td>AGBANNEW</td>\n      <td>-4.000667</td>\n      <td>5.368194</td>\n      <td>LAGUNE</td>\n      <td>NaN</td>\n      <td>fbb2e75af3</td>\n      <td>0bb492ef17</td>\n    </tr>\n    <tr>\n      <th>1</th>\n      <td>1</td>\n      <td>ADJAME</td>\n      <td>In Service</td>\n      <td>ABIDJAN</td>\n      <td>\"Abidjan_EST</td>\n      <td>AGBANNEW</td>\n      <td>-4.000667</td>\n      <td>5.368194</td>\n      <td>LAGUNE</td>\n      <td>NaN</td>\n      <td>1502501d78</td>\n      <td>0bb492ef17</td>\n    </tr>\n    <tr>\n      <th>2</th>\n      <td>2</td>\n      <td>ADJAME</td>\n      <td>In Service</td>\n      <td>ABIDJAN</td>\n      <td>\"Abidjan_EST</td>\n      <td>AGBANNEW</td>\n      <td>-4.000667</td>\n      <td>5.368194</td>\n      <td>LAGUNE</td>\n      <td>NaN</td>\n      <td>0c2e182a0c</td>\n      <td>0bb492ef17</td>\n    </tr>\n    <tr>\n      <th>3</th>\n      <td>3</td>\n      <td>ASSINIE</td>\n      <td>In Service</td>\n      <td>INTERIEUR</td>\n      <td>Grand-EST</td>\n      <td>ASSINIE\"</td>\n      <td>-3.488467</td>\n      <td>5.158761</td>\n      <td>SUD COMOE</td>\n      <td>NaN</td>\n      <td>69bdfc69fd</td>\n      <td>8a1e6ce31f</td>\n    </tr>\n    <tr>\n      <th>4</th>\n      <td>4</td>\n      <td>ASSINIE</td>\n      <td>In Service</td>\n      <td>INTERIEUR</td>\n      <td>Grand-EST</td>\n      <td>ASSINIE\"</td>\n      <td>-3.488467</td>\n      <td>5.158761</td>\n      <td>SUD COMOE</td>\n      <td>NaN</td>\n      <td>7a1029d2ab</td>\n      <td>8a1e6ce31f</td>\n    </tr>\n  </tbody>\n</table>\n</div>"
     },
     "metadata": {},
     "execution_count": 32
    }
   ],
   "source": [
    "# We need to preview the Cells geo location files to check whether it is okay for merging with \n",
    "# the master dataset.\n",
    "\n",
    "df_cellgeo.head()"
   ]
  },
  {
   "cell_type": "code",
   "execution_count": 33,
   "metadata": {},
   "outputs": [],
   "source": [
    "# We can drop one uneeded column called Unamed since it will not affect our data points.\n",
    "# \n",
    "\n",
    "df_cellgeo.drop('Unnamed: 0', axis=1, inplace=True)"
   ]
  },
  {
   "cell_type": "code",
   "execution_count": 34,
   "metadata": {},
   "outputs": [
    {
     "output_type": "execute_result",
     "data": {
      "text/plain": [
       "        VILLES      STATUS LOCALISATION  DECOUPZONE             ZONENAME  \\\n",
       "3969  ZUENOULA  In Service    INTERIEUR  Grand-NORD  ZONE A - Grand-NORD   \n",
       "3970  ZUENOULA  In Service    INTERIEUR  Grand-NORD  ZONE A - Grand-NORD   \n",
       "3971  ZUENOULA  In Service    INTERIEUR  Grand-NORD  ZONE A - Grand-NORD   \n",
       "3972  ZUENOULA  In Service    INTERIEUR  Grand-NORD  ZONE A - Grand-NORD   \n",
       "3973  ZUENOULA  In Service    INTERIEUR  Grand-NORD  ZONE A - Grand-NORD   \n",
       "\n",
       "      LONGITUDE  LATITUDE    REGION          AREA     CELL_ID   SITE_CODE  \n",
       "3969  -6.039694  7.428611  MARAHOUE  CENTRE NORTH  1cfc2d7ab1  f91ed8d2e9  \n",
       "3970  -6.039694  7.428611  MARAHOUE  CENTRE NORTH  3ae1708153  f91ed8d2e9  \n",
       "3971  -6.065450  7.444592  MARAHOUE  CENTRE NORTH  cb71f8a29c  61bee9c70c  \n",
       "3972  -6.065450  7.444592  MARAHOUE  CENTRE NORTH  d4a6a0b645  61bee9c70c  \n",
       "3973  -6.065450  7.444592  MARAHOUE  CENTRE NORTH  f9f3e42589  61bee9c70c  "
      ],
      "text/html": "<div>\n<style scoped>\n    .dataframe tbody tr th:only-of-type {\n        vertical-align: middle;\n    }\n\n    .dataframe tbody tr th {\n        vertical-align: top;\n    }\n\n    .dataframe thead th {\n        text-align: right;\n    }\n</style>\n<table border=\"1\" class=\"dataframe\">\n  <thead>\n    <tr style=\"text-align: right;\">\n      <th></th>\n      <th>VILLES</th>\n      <th>STATUS</th>\n      <th>LOCALISATION</th>\n      <th>DECOUPZONE</th>\n      <th>ZONENAME</th>\n      <th>LONGITUDE</th>\n      <th>LATITUDE</th>\n      <th>REGION</th>\n      <th>AREA</th>\n      <th>CELL_ID</th>\n      <th>SITE_CODE</th>\n    </tr>\n  </thead>\n  <tbody>\n    <tr>\n      <th>3969</th>\n      <td>ZUENOULA</td>\n      <td>In Service</td>\n      <td>INTERIEUR</td>\n      <td>Grand-NORD</td>\n      <td>ZONE A - Grand-NORD</td>\n      <td>-6.039694</td>\n      <td>7.428611</td>\n      <td>MARAHOUE</td>\n      <td>CENTRE NORTH</td>\n      <td>1cfc2d7ab1</td>\n      <td>f91ed8d2e9</td>\n    </tr>\n    <tr>\n      <th>3970</th>\n      <td>ZUENOULA</td>\n      <td>In Service</td>\n      <td>INTERIEUR</td>\n      <td>Grand-NORD</td>\n      <td>ZONE A - Grand-NORD</td>\n      <td>-6.039694</td>\n      <td>7.428611</td>\n      <td>MARAHOUE</td>\n      <td>CENTRE NORTH</td>\n      <td>3ae1708153</td>\n      <td>f91ed8d2e9</td>\n    </tr>\n    <tr>\n      <th>3971</th>\n      <td>ZUENOULA</td>\n      <td>In Service</td>\n      <td>INTERIEUR</td>\n      <td>Grand-NORD</td>\n      <td>ZONE A - Grand-NORD</td>\n      <td>-6.065450</td>\n      <td>7.444592</td>\n      <td>MARAHOUE</td>\n      <td>CENTRE NORTH</td>\n      <td>cb71f8a29c</td>\n      <td>61bee9c70c</td>\n    </tr>\n    <tr>\n      <th>3972</th>\n      <td>ZUENOULA</td>\n      <td>In Service</td>\n      <td>INTERIEUR</td>\n      <td>Grand-NORD</td>\n      <td>ZONE A - Grand-NORD</td>\n      <td>-6.065450</td>\n      <td>7.444592</td>\n      <td>MARAHOUE</td>\n      <td>CENTRE NORTH</td>\n      <td>d4a6a0b645</td>\n      <td>61bee9c70c</td>\n    </tr>\n    <tr>\n      <th>3973</th>\n      <td>ZUENOULA</td>\n      <td>In Service</td>\n      <td>INTERIEUR</td>\n      <td>Grand-NORD</td>\n      <td>ZONE A - Grand-NORD</td>\n      <td>-6.065450</td>\n      <td>7.444592</td>\n      <td>MARAHOUE</td>\n      <td>CENTRE NORTH</td>\n      <td>f9f3e42589</td>\n      <td>61bee9c70c</td>\n    </tr>\n  </tbody>\n</table>\n</div>"
     },
     "metadata": {},
     "execution_count": 34
    }
   ],
   "source": [
    "# we check for changes\n",
    "# \n",
    "\n",
    "df_cellgeo.tail()"
   ]
  },
  {
   "cell_type": "code",
   "execution_count": 35,
   "metadata": {},
   "outputs": [],
   "source": [
    "# Now we can merge with the master data sets.\n",
    "# we have two identical columns so we have to combine them\n",
    "\n",
    "mergedmaster = pd.merge(master_datasets, df_cellgeo, how='inner',left_on=\"Site_id\",right_on=\"SITE_CODE\")"
   ]
  },
  {
   "cell_type": "code",
   "execution_count": 36,
   "metadata": {},
   "outputs": [
    {
     "output_type": "execute_result",
     "data": {
      "text/plain": [
       "  Product  Bill_Price             DW_A             DW_B     Cell_id  \\\n",
       "0     sms           0  8118c3aa53d6c7b  1d103ea638ad1f0  5d9dc897f7   \n",
       "1     sms           0  8118c3aa53d6c7b  1d103ea638ad1f0  5d9dc897f7   \n",
       "2     sms           0  8118c3aa53d6c7b  1d103ea638ad1f0  5d9dc897f7   \n",
       "3     sms           0  8118c3aa53d6c7b  1d103ea638ad1f0  5d9dc897f7   \n",
       "4     sms           0  8118c3aa53d6c7b  1d103ea638ad1f0  5d9dc897f7   \n",
       "\n",
       "      Site_id        Date        time  VILLES      STATUS LOCALISATION  \\\n",
       "0  1b5540c02d  2012-05-07  00:00:00.0  BOUAKE  In Service    INTERIEUR   \n",
       "1  1b5540c02d  2012-05-07  00:00:00.0  BOUAKE  In Service    INTERIEUR   \n",
       "2  1b5540c02d  2012-05-07  00:00:00.0  BOUAKE  In Service    INTERIEUR   \n",
       "3  1b5540c02d  2012-05-07  00:00:00.0  BOUAKE  In Service    INTERIEUR   \n",
       "4  1b5540c02d  2012-05-07  00:00:00.0  BOUAKE  In Service    INTERIEUR   \n",
       "\n",
       "   DECOUPZONE             ZONENAME  LONGITUDE  LATITUDE             REGION  \\\n",
       "0  Grand-NORD  ZONE A - Grand-NORD  -5.027139  7.718417  VALLEE DU BANDAMA   \n",
       "1  Grand-NORD  ZONE A - Grand-NORD  -5.027139  7.718417  VALLEE DU BANDAMA   \n",
       "2  Grand-NORD  ZONE A - Grand-NORD  -5.027139  7.718417  VALLEE DU BANDAMA   \n",
       "3  Grand-NORD  ZONE A - Grand-NORD  -5.027139  7.718417  VALLEE DU BANDAMA   \n",
       "4  Grand-NORD  ZONE A - Grand-NORD  -5.027139  7.718417  VALLEE DU BANDAMA   \n",
       "\n",
       "           AREA     CELL_ID   SITE_CODE  \n",
       "0  CENTRE NORTH  24ccdda3d5  1b5540c02d  \n",
       "1  CENTRE NORTH  ebfc58af70  1b5540c02d  \n",
       "2  CENTRE NORTH  ba8ce6e4ef  1b5540c02d  \n",
       "3  CENTRE NORTH  c2545171dc  1b5540c02d  \n",
       "4  CENTRE NORTH  f15bd5483f  1b5540c02d  "
      ],
      "text/html": "<div>\n<style scoped>\n    .dataframe tbody tr th:only-of-type {\n        vertical-align: middle;\n    }\n\n    .dataframe tbody tr th {\n        vertical-align: top;\n    }\n\n    .dataframe thead th {\n        text-align: right;\n    }\n</style>\n<table border=\"1\" class=\"dataframe\">\n  <thead>\n    <tr style=\"text-align: right;\">\n      <th></th>\n      <th>Product</th>\n      <th>Bill_Price</th>\n      <th>DW_A</th>\n      <th>DW_B</th>\n      <th>Cell_id</th>\n      <th>Site_id</th>\n      <th>Date</th>\n      <th>time</th>\n      <th>VILLES</th>\n      <th>STATUS</th>\n      <th>LOCALISATION</th>\n      <th>DECOUPZONE</th>\n      <th>ZONENAME</th>\n      <th>LONGITUDE</th>\n      <th>LATITUDE</th>\n      <th>REGION</th>\n      <th>AREA</th>\n      <th>CELL_ID</th>\n      <th>SITE_CODE</th>\n    </tr>\n  </thead>\n  <tbody>\n    <tr>\n      <th>0</th>\n      <td>sms</td>\n      <td>0</td>\n      <td>8118c3aa53d6c7b</td>\n      <td>1d103ea638ad1f0</td>\n      <td>5d9dc897f7</td>\n      <td>1b5540c02d</td>\n      <td>2012-05-07</td>\n      <td>00:00:00.0</td>\n      <td>BOUAKE</td>\n      <td>In Service</td>\n      <td>INTERIEUR</td>\n      <td>Grand-NORD</td>\n      <td>ZONE A - Grand-NORD</td>\n      <td>-5.027139</td>\n      <td>7.718417</td>\n      <td>VALLEE DU BANDAMA</td>\n      <td>CENTRE NORTH</td>\n      <td>24ccdda3d5</td>\n      <td>1b5540c02d</td>\n    </tr>\n    <tr>\n      <th>1</th>\n      <td>sms</td>\n      <td>0</td>\n      <td>8118c3aa53d6c7b</td>\n      <td>1d103ea638ad1f0</td>\n      <td>5d9dc897f7</td>\n      <td>1b5540c02d</td>\n      <td>2012-05-07</td>\n      <td>00:00:00.0</td>\n      <td>BOUAKE</td>\n      <td>In Service</td>\n      <td>INTERIEUR</td>\n      <td>Grand-NORD</td>\n      <td>ZONE A - Grand-NORD</td>\n      <td>-5.027139</td>\n      <td>7.718417</td>\n      <td>VALLEE DU BANDAMA</td>\n      <td>CENTRE NORTH</td>\n      <td>ebfc58af70</td>\n      <td>1b5540c02d</td>\n    </tr>\n    <tr>\n      <th>2</th>\n      <td>sms</td>\n      <td>0</td>\n      <td>8118c3aa53d6c7b</td>\n      <td>1d103ea638ad1f0</td>\n      <td>5d9dc897f7</td>\n      <td>1b5540c02d</td>\n      <td>2012-05-07</td>\n      <td>00:00:00.0</td>\n      <td>BOUAKE</td>\n      <td>In Service</td>\n      <td>INTERIEUR</td>\n      <td>Grand-NORD</td>\n      <td>ZONE A - Grand-NORD</td>\n      <td>-5.027139</td>\n      <td>7.718417</td>\n      <td>VALLEE DU BANDAMA</td>\n      <td>CENTRE NORTH</td>\n      <td>ba8ce6e4ef</td>\n      <td>1b5540c02d</td>\n    </tr>\n    <tr>\n      <th>3</th>\n      <td>sms</td>\n      <td>0</td>\n      <td>8118c3aa53d6c7b</td>\n      <td>1d103ea638ad1f0</td>\n      <td>5d9dc897f7</td>\n      <td>1b5540c02d</td>\n      <td>2012-05-07</td>\n      <td>00:00:00.0</td>\n      <td>BOUAKE</td>\n      <td>In Service</td>\n      <td>INTERIEUR</td>\n      <td>Grand-NORD</td>\n      <td>ZONE A - Grand-NORD</td>\n      <td>-5.027139</td>\n      <td>7.718417</td>\n      <td>VALLEE DU BANDAMA</td>\n      <td>CENTRE NORTH</td>\n      <td>c2545171dc</td>\n      <td>1b5540c02d</td>\n    </tr>\n    <tr>\n      <th>4</th>\n      <td>sms</td>\n      <td>0</td>\n      <td>8118c3aa53d6c7b</td>\n      <td>1d103ea638ad1f0</td>\n      <td>5d9dc897f7</td>\n      <td>1b5540c02d</td>\n      <td>2012-05-07</td>\n      <td>00:00:00.0</td>\n      <td>BOUAKE</td>\n      <td>In Service</td>\n      <td>INTERIEUR</td>\n      <td>Grand-NORD</td>\n      <td>ZONE A - Grand-NORD</td>\n      <td>-5.027139</td>\n      <td>7.718417</td>\n      <td>VALLEE DU BANDAMA</td>\n      <td>CENTRE NORTH</td>\n      <td>f15bd5483f</td>\n      <td>1b5540c02d</td>\n    </tr>\n  </tbody>\n</table>\n</div>"
     },
     "metadata": {},
     "execution_count": 36
    }
   ],
   "source": [
    "# Preview changes to our final data set.\n",
    "# \n",
    "\n",
    "mergedmaster.head()"
   ]
  },
  {
   "cell_type": "code",
   "execution_count": 37,
   "metadata": {},
   "outputs": [],
   "source": [
    "# We need to drop Identical column\n",
    "# \n",
    "to_drop = ['Cell_id','Site_id']\n",
    "mergedmaster.drop(to_drop, axis=1, inplace=True)"
   ]
  },
  {
   "cell_type": "code",
   "execution_count": 38,
   "metadata": {},
   "outputs": [
    {
     "output_type": "execute_result",
     "data": {
      "text/plain": [
       "  Product  Bill_Price             DW_A             DW_B        Date  \\\n",
       "0     sms           0  8118c3aa53d6c7b  1d103ea638ad1f0  2012-05-07   \n",
       "1     sms           0  8118c3aa53d6c7b  1d103ea638ad1f0  2012-05-07   \n",
       "2     sms           0  8118c3aa53d6c7b  1d103ea638ad1f0  2012-05-07   \n",
       "3     sms           0  8118c3aa53d6c7b  1d103ea638ad1f0  2012-05-07   \n",
       "4     sms           0  8118c3aa53d6c7b  1d103ea638ad1f0  2012-05-07   \n",
       "\n",
       "         time  VILLES      STATUS LOCALISATION  DECOUPZONE  \\\n",
       "0  00:00:00.0  BOUAKE  In Service    INTERIEUR  Grand-NORD   \n",
       "1  00:00:00.0  BOUAKE  In Service    INTERIEUR  Grand-NORD   \n",
       "2  00:00:00.0  BOUAKE  In Service    INTERIEUR  Grand-NORD   \n",
       "3  00:00:00.0  BOUAKE  In Service    INTERIEUR  Grand-NORD   \n",
       "4  00:00:00.0  BOUAKE  In Service    INTERIEUR  Grand-NORD   \n",
       "\n",
       "              ZONENAME  LONGITUDE  LATITUDE             REGION          AREA  \\\n",
       "0  ZONE A - Grand-NORD  -5.027139  7.718417  VALLEE DU BANDAMA  CENTRE NORTH   \n",
       "1  ZONE A - Grand-NORD  -5.027139  7.718417  VALLEE DU BANDAMA  CENTRE NORTH   \n",
       "2  ZONE A - Grand-NORD  -5.027139  7.718417  VALLEE DU BANDAMA  CENTRE NORTH   \n",
       "3  ZONE A - Grand-NORD  -5.027139  7.718417  VALLEE DU BANDAMA  CENTRE NORTH   \n",
       "4  ZONE A - Grand-NORD  -5.027139  7.718417  VALLEE DU BANDAMA  CENTRE NORTH   \n",
       "\n",
       "      CELL_ID   SITE_CODE  \n",
       "0  24ccdda3d5  1b5540c02d  \n",
       "1  ebfc58af70  1b5540c02d  \n",
       "2  ba8ce6e4ef  1b5540c02d  \n",
       "3  c2545171dc  1b5540c02d  \n",
       "4  f15bd5483f  1b5540c02d  "
      ],
      "text/html": "<div>\n<style scoped>\n    .dataframe tbody tr th:only-of-type {\n        vertical-align: middle;\n    }\n\n    .dataframe tbody tr th {\n        vertical-align: top;\n    }\n\n    .dataframe thead th {\n        text-align: right;\n    }\n</style>\n<table border=\"1\" class=\"dataframe\">\n  <thead>\n    <tr style=\"text-align: right;\">\n      <th></th>\n      <th>Product</th>\n      <th>Bill_Price</th>\n      <th>DW_A</th>\n      <th>DW_B</th>\n      <th>Date</th>\n      <th>time</th>\n      <th>VILLES</th>\n      <th>STATUS</th>\n      <th>LOCALISATION</th>\n      <th>DECOUPZONE</th>\n      <th>ZONENAME</th>\n      <th>LONGITUDE</th>\n      <th>LATITUDE</th>\n      <th>REGION</th>\n      <th>AREA</th>\n      <th>CELL_ID</th>\n      <th>SITE_CODE</th>\n    </tr>\n  </thead>\n  <tbody>\n    <tr>\n      <th>0</th>\n      <td>sms</td>\n      <td>0</td>\n      <td>8118c3aa53d6c7b</td>\n      <td>1d103ea638ad1f0</td>\n      <td>2012-05-07</td>\n      <td>00:00:00.0</td>\n      <td>BOUAKE</td>\n      <td>In Service</td>\n      <td>INTERIEUR</td>\n      <td>Grand-NORD</td>\n      <td>ZONE A - Grand-NORD</td>\n      <td>-5.027139</td>\n      <td>7.718417</td>\n      <td>VALLEE DU BANDAMA</td>\n      <td>CENTRE NORTH</td>\n      <td>24ccdda3d5</td>\n      <td>1b5540c02d</td>\n    </tr>\n    <tr>\n      <th>1</th>\n      <td>sms</td>\n      <td>0</td>\n      <td>8118c3aa53d6c7b</td>\n      <td>1d103ea638ad1f0</td>\n      <td>2012-05-07</td>\n      <td>00:00:00.0</td>\n      <td>BOUAKE</td>\n      <td>In Service</td>\n      <td>INTERIEUR</td>\n      <td>Grand-NORD</td>\n      <td>ZONE A - Grand-NORD</td>\n      <td>-5.027139</td>\n      <td>7.718417</td>\n      <td>VALLEE DU BANDAMA</td>\n      <td>CENTRE NORTH</td>\n      <td>ebfc58af70</td>\n      <td>1b5540c02d</td>\n    </tr>\n    <tr>\n      <th>2</th>\n      <td>sms</td>\n      <td>0</td>\n      <td>8118c3aa53d6c7b</td>\n      <td>1d103ea638ad1f0</td>\n      <td>2012-05-07</td>\n      <td>00:00:00.0</td>\n      <td>BOUAKE</td>\n      <td>In Service</td>\n      <td>INTERIEUR</td>\n      <td>Grand-NORD</td>\n      <td>ZONE A - Grand-NORD</td>\n      <td>-5.027139</td>\n      <td>7.718417</td>\n      <td>VALLEE DU BANDAMA</td>\n      <td>CENTRE NORTH</td>\n      <td>ba8ce6e4ef</td>\n      <td>1b5540c02d</td>\n    </tr>\n    <tr>\n      <th>3</th>\n      <td>sms</td>\n      <td>0</td>\n      <td>8118c3aa53d6c7b</td>\n      <td>1d103ea638ad1f0</td>\n      <td>2012-05-07</td>\n      <td>00:00:00.0</td>\n      <td>BOUAKE</td>\n      <td>In Service</td>\n      <td>INTERIEUR</td>\n      <td>Grand-NORD</td>\n      <td>ZONE A - Grand-NORD</td>\n      <td>-5.027139</td>\n      <td>7.718417</td>\n      <td>VALLEE DU BANDAMA</td>\n      <td>CENTRE NORTH</td>\n      <td>c2545171dc</td>\n      <td>1b5540c02d</td>\n    </tr>\n    <tr>\n      <th>4</th>\n      <td>sms</td>\n      <td>0</td>\n      <td>8118c3aa53d6c7b</td>\n      <td>1d103ea638ad1f0</td>\n      <td>2012-05-07</td>\n      <td>00:00:00.0</td>\n      <td>BOUAKE</td>\n      <td>In Service</td>\n      <td>INTERIEUR</td>\n      <td>Grand-NORD</td>\n      <td>ZONE A - Grand-NORD</td>\n      <td>-5.027139</td>\n      <td>7.718417</td>\n      <td>VALLEE DU BANDAMA</td>\n      <td>CENTRE NORTH</td>\n      <td>f15bd5483f</td>\n      <td>1b5540c02d</td>\n    </tr>\n  </tbody>\n</table>\n</div>"
     },
     "metadata": {},
     "execution_count": 38
    }
   ],
   "source": [
    "# Check for changes\n",
    "# We have succesfully clean our data now we can sample out what we need.\n",
    "\n",
    "mergedmaster.head()"
   ]
  },
  {
   "cell_type": "code",
   "execution_count": null,
   "metadata": {},
   "outputs": [],
   "source": []
  }
 ]
}