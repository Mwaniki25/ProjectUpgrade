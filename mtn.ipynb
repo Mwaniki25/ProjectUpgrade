{
 "metadata": {
  "language_info": {
   "codemirror_mode": {
    "name": "ipython",
    "version": 3
   },
   "file_extension": ".py",
   "mimetype": "text/x-python",
   "name": "python",
   "nbconvert_exporter": "python",
   "pygments_lexer": "ipython3",
   "version": "3.8.5-final"
  },
  "orig_nbformat": 2,
  "kernelspec": {
   "name": "python3",
   "display_name": "Python 3",
   "language": "python"
  }
 },
 "nbformat": 4,
 "nbformat_minor": 2,
 "cells": [
  {
   "cell_type": "code",
   "execution_count": 113,
   "metadata": {},
   "outputs": [],
   "source": [
    "# Import libraries\n",
    "import pandas as pd\n",
    "import numpy as np\n",
    "\n",
    "from glob import glob\n",
    "\n",
    "import matplotlib.pyplot as plt\n"
   ]
  },
  {
   "cell_type": "code",
   "execution_count": 12,
   "metadata": {},
   "outputs": [
    {
     "output_type": "execute_result",
     "data": {
      "text/plain": [
       "       Column name                                        Description   Format\n",
       "0          PRODUCT                                       Voice or SMS   String\n",
       "1            VALUE                                      Billing price  Integer\n",
       "2        DATE_TIME               Time in format yyyy-MM-dd hh:mm:ss.0   String\n",
       "3     CELL_ON_SITE  Which cell in the site was used (not needed here)  Integer\n",
       "4  DW_A_NUMBER_INT  Anonymized phone number of the person for whic...   String\n",
       "5  DW_B_NUMBER_INT        Anonymized phone number of the counterparty   String\n",
       "6        COUNTRY_A                  Country of party A (useless here)   String\n",
       "7        COUNTRY_B                  Country of party B (useless here)   String\n",
       "8          CELL_ID                                     ID of the cell   String\n",
       "9          SITE_ID                                     ID of the SITE   String"
      ],
      "text/html": "<div>\n<style scoped>\n    .dataframe tbody tr th:only-of-type {\n        vertical-align: middle;\n    }\n\n    .dataframe tbody tr th {\n        vertical-align: top;\n    }\n\n    .dataframe thead th {\n        text-align: right;\n    }\n</style>\n<table border=\"1\" class=\"dataframe\">\n  <thead>\n    <tr style=\"text-align: right;\">\n      <th></th>\n      <th>Column name</th>\n      <th>Description</th>\n      <th>Format</th>\n    </tr>\n  </thead>\n  <tbody>\n    <tr>\n      <th>0</th>\n      <td>PRODUCT</td>\n      <td>Voice or SMS</td>\n      <td>String</td>\n    </tr>\n    <tr>\n      <th>1</th>\n      <td>VALUE</td>\n      <td>Billing price</td>\n      <td>Integer</td>\n    </tr>\n    <tr>\n      <th>2</th>\n      <td>DATE_TIME</td>\n      <td>Time in format yyyy-MM-dd hh:mm:ss.0</td>\n      <td>String</td>\n    </tr>\n    <tr>\n      <th>3</th>\n      <td>CELL_ON_SITE</td>\n      <td>Which cell in the site was used (not needed here)</td>\n      <td>Integer</td>\n    </tr>\n    <tr>\n      <th>4</th>\n      <td>DW_A_NUMBER_INT</td>\n      <td>Anonymized phone number of the person for whic...</td>\n      <td>String</td>\n    </tr>\n    <tr>\n      <th>5</th>\n      <td>DW_B_NUMBER_INT</td>\n      <td>Anonymized phone number of the counterparty</td>\n      <td>String</td>\n    </tr>\n    <tr>\n      <th>6</th>\n      <td>COUNTRY_A</td>\n      <td>Country of party A (useless here)</td>\n      <td>String</td>\n    </tr>\n    <tr>\n      <th>7</th>\n      <td>COUNTRY_B</td>\n      <td>Country of party B (useless here)</td>\n      <td>String</td>\n    </tr>\n    <tr>\n      <th>8</th>\n      <td>CELL_ID</td>\n      <td>ID of the cell</td>\n      <td>String</td>\n    </tr>\n    <tr>\n      <th>9</th>\n      <td>SITE_ID</td>\n      <td>ID of the SITE</td>\n      <td>String</td>\n    </tr>\n  </tbody>\n</table>\n</div>"
     },
     "metadata": {},
     "execution_count": 12
    }
   ],
   "source": [
    "# Here we will take a look at the description Excel sheet to understand our data better.\n",
    "# \n",
    "df_description =  pd.read_excel('Data/CDR_description.xlsx')\n",
    "\n",
    "df_description.head(12)\n",
    "\n",
    "\n",
    "# from the output we see the needed columns and the ones to be dropped\n",
    "#  we can also see the columns to change names enabling us to make our identifiers known easily.\n",
    "# Also shows the data types\n"
   ]
  },
  {
   "cell_type": "code",
   "execution_count": 4,
   "metadata": {},
   "outputs": [
    {
     "output_type": "execute_result",
     "data": {
      "text/plain": [
       "   Unnamed: 0   VILLES      STATUS LOCALISATION    DECOUPZONE  ZONENAME  \\\n",
       "0           0   ADJAME  In Service      ABIDJAN  \"Abidjan_EST  AGBANNEW   \n",
       "1           1   ADJAME  In Service      ABIDJAN  \"Abidjan_EST  AGBANNEW   \n",
       "2           2   ADJAME  In Service      ABIDJAN  \"Abidjan_EST  AGBANNEW   \n",
       "3           3  ASSINIE  In Service    INTERIEUR     Grand-EST  ASSINIE\"   \n",
       "4           4  ASSINIE  In Service    INTERIEUR     Grand-EST  ASSINIE\"   \n",
       "\n",
       "   LONGITUDE  LATITUDE     REGION AREA     CELL_ID   SITE_CODE  \n",
       "0  -4.000667  5.368194     LAGUNE  NaN  fbb2e75af3  0bb492ef17  \n",
       "1  -4.000667  5.368194     LAGUNE  NaN  1502501d78  0bb492ef17  \n",
       "2  -4.000667  5.368194     LAGUNE  NaN  0c2e182a0c  0bb492ef17  \n",
       "3  -3.488467  5.158761  SUD COMOE  NaN  69bdfc69fd  8a1e6ce31f  \n",
       "4  -3.488467  5.158761  SUD COMOE  NaN  7a1029d2ab  8a1e6ce31f  "
      ],
      "text/html": "<div>\n<style scoped>\n    .dataframe tbody tr th:only-of-type {\n        vertical-align: middle;\n    }\n\n    .dataframe tbody tr th {\n        vertical-align: top;\n    }\n\n    .dataframe thead th {\n        text-align: right;\n    }\n</style>\n<table border=\"1\" class=\"dataframe\">\n  <thead>\n    <tr style=\"text-align: right;\">\n      <th></th>\n      <th>Unnamed: 0</th>\n      <th>VILLES</th>\n      <th>STATUS</th>\n      <th>LOCALISATION</th>\n      <th>DECOUPZONE</th>\n      <th>ZONENAME</th>\n      <th>LONGITUDE</th>\n      <th>LATITUDE</th>\n      <th>REGION</th>\n      <th>AREA</th>\n      <th>CELL_ID</th>\n      <th>SITE_CODE</th>\n    </tr>\n  </thead>\n  <tbody>\n    <tr>\n      <th>0</th>\n      <td>0</td>\n      <td>ADJAME</td>\n      <td>In Service</td>\n      <td>ABIDJAN</td>\n      <td>\"Abidjan_EST</td>\n      <td>AGBANNEW</td>\n      <td>-4.000667</td>\n      <td>5.368194</td>\n      <td>LAGUNE</td>\n      <td>NaN</td>\n      <td>fbb2e75af3</td>\n      <td>0bb492ef17</td>\n    </tr>\n    <tr>\n      <th>1</th>\n      <td>1</td>\n      <td>ADJAME</td>\n      <td>In Service</td>\n      <td>ABIDJAN</td>\n      <td>\"Abidjan_EST</td>\n      <td>AGBANNEW</td>\n      <td>-4.000667</td>\n      <td>5.368194</td>\n      <td>LAGUNE</td>\n      <td>NaN</td>\n      <td>1502501d78</td>\n      <td>0bb492ef17</td>\n    </tr>\n    <tr>\n      <th>2</th>\n      <td>2</td>\n      <td>ADJAME</td>\n      <td>In Service</td>\n      <td>ABIDJAN</td>\n      <td>\"Abidjan_EST</td>\n      <td>AGBANNEW</td>\n      <td>-4.000667</td>\n      <td>5.368194</td>\n      <td>LAGUNE</td>\n      <td>NaN</td>\n      <td>0c2e182a0c</td>\n      <td>0bb492ef17</td>\n    </tr>\n    <tr>\n      <th>3</th>\n      <td>3</td>\n      <td>ASSINIE</td>\n      <td>In Service</td>\n      <td>INTERIEUR</td>\n      <td>Grand-EST</td>\n      <td>ASSINIE\"</td>\n      <td>-3.488467</td>\n      <td>5.158761</td>\n      <td>SUD COMOE</td>\n      <td>NaN</td>\n      <td>69bdfc69fd</td>\n      <td>8a1e6ce31f</td>\n    </tr>\n    <tr>\n      <th>4</th>\n      <td>4</td>\n      <td>ASSINIE</td>\n      <td>In Service</td>\n      <td>INTERIEUR</td>\n      <td>Grand-EST</td>\n      <td>ASSINIE\"</td>\n      <td>-3.488467</td>\n      <td>5.158761</td>\n      <td>SUD COMOE</td>\n      <td>NaN</td>\n      <td>7a1029d2ab</td>\n      <td>8a1e6ce31f</td>\n    </tr>\n  </tbody>\n</table>\n</div>"
     },
     "metadata": {},
     "execution_count": 4
    }
   ],
   "source": [
    "# Here we take a look at our cells location file.\n",
    "# \n",
    "\n",
    "\n",
    "df_cellgeo = pd.read_csv('Data\\cells_geo.csv', sep=\";\", encoding='utf-8')\n",
    "\n",
    "df_cellgeo.head(5)"
   ]
  },
  {
   "cell_type": "code",
   "execution_count": 5,
   "metadata": {},
   "outputs": [
    {
     "output_type": "execute_result",
     "data": {
      "text/plain": [
       "  Product  Bill_Price              Date_time Cell_onsite             DW_A  \\\n",
       "0   Voice           0  2012-05-06 23:04:37.0           1  49fae048b547780   \n",
       "1     sms           0  2012-05-06 23:05:25.0           0  7a54a6eaee19e65   \n",
       "2     sms          25  2012-05-06 23:05:41.0           0  6008887b0207d82   \n",
       "3   Voice          56  2012-05-06 23:05:42.0           1  7370032e20f4e96   \n",
       "4   Voice          14  2012-05-06 23:06:29.0           1  966ba4656e38e62   \n",
       "\n",
       "              DW_B Country_A Country_B     Cell_id     Site_id  \n",
       "0  1a49f8b0ded9de6     19e2e     19e2e  /TJNe+Mmtu  /TJNe+Mmtu  \n",
       "1  93343ba6e41af95     19e2e     19e2e  /+cKZKIp41  /+cKZKIp41  \n",
       "2  7aacc9709ce0a20     19e2e     19e2e  /u0FSD+ahi  /u0FSD+ahi  \n",
       "3  6af4a60e74c91d3     19e2e     19e2e  +cNeJzsTp3  +cNeJzsTp3  \n",
       "4  02aa736ee555d5c     19e2e     19e2e  051KhYDCpv  051KhYDCpv  "
      ],
      "text/html": "<div>\n<style scoped>\n    .dataframe tbody tr th:only-of-type {\n        vertical-align: middle;\n    }\n\n    .dataframe tbody tr th {\n        vertical-align: top;\n    }\n\n    .dataframe thead th {\n        text-align: right;\n    }\n</style>\n<table border=\"1\" class=\"dataframe\">\n  <thead>\n    <tr style=\"text-align: right;\">\n      <th></th>\n      <th>Product</th>\n      <th>Bill_Price</th>\n      <th>Date_time</th>\n      <th>Cell_onsite</th>\n      <th>DW_A</th>\n      <th>DW_B</th>\n      <th>Country_A</th>\n      <th>Country_B</th>\n      <th>Cell_id</th>\n      <th>Site_id</th>\n    </tr>\n  </thead>\n  <tbody>\n    <tr>\n      <th>0</th>\n      <td>Voice</td>\n      <td>0</td>\n      <td>2012-05-06 23:04:37.0</td>\n      <td>1</td>\n      <td>49fae048b547780</td>\n      <td>1a49f8b0ded9de6</td>\n      <td>19e2e</td>\n      <td>19e2e</td>\n      <td>/TJNe+Mmtu</td>\n      <td>/TJNe+Mmtu</td>\n    </tr>\n    <tr>\n      <th>1</th>\n      <td>sms</td>\n      <td>0</td>\n      <td>2012-05-06 23:05:25.0</td>\n      <td>0</td>\n      <td>7a54a6eaee19e65</td>\n      <td>93343ba6e41af95</td>\n      <td>19e2e</td>\n      <td>19e2e</td>\n      <td>/+cKZKIp41</td>\n      <td>/+cKZKIp41</td>\n    </tr>\n    <tr>\n      <th>2</th>\n      <td>sms</td>\n      <td>25</td>\n      <td>2012-05-06 23:05:41.0</td>\n      <td>0</td>\n      <td>6008887b0207d82</td>\n      <td>7aacc9709ce0a20</td>\n      <td>19e2e</td>\n      <td>19e2e</td>\n      <td>/u0FSD+ahi</td>\n      <td>/u0FSD+ahi</td>\n    </tr>\n    <tr>\n      <th>3</th>\n      <td>Voice</td>\n      <td>56</td>\n      <td>2012-05-06 23:05:42.0</td>\n      <td>1</td>\n      <td>7370032e20f4e96</td>\n      <td>6af4a60e74c91d3</td>\n      <td>19e2e</td>\n      <td>19e2e</td>\n      <td>+cNeJzsTp3</td>\n      <td>+cNeJzsTp3</td>\n    </tr>\n    <tr>\n      <th>4</th>\n      <td>Voice</td>\n      <td>14</td>\n      <td>2012-05-06 23:06:29.0</td>\n      <td>1</td>\n      <td>966ba4656e38e62</td>\n      <td>02aa736ee555d5c</td>\n      <td>19e2e</td>\n      <td>19e2e</td>\n      <td>051KhYDCpv</td>\n      <td>051KhYDCpv</td>\n    </tr>\n  </tbody>\n</table>\n</div>"
     },
     "metadata": {},
     "execution_count": 5
    }
   ],
   "source": [
    "# we load the csv containing the data sets\n",
    "# With a data preview\n",
    "\n",
    "tel1 = pd.read_csv('Data\\Telcom_dataset.csv', delimiter= ',',encoding= 'utf8')\n",
    "tel1\n",
    "\n",
    "tel1.columns = ['Product', 'Bill_Price','Date_time', 'Cell_onsite','DW_A','DW_B', 'Country_A','Country_B','Cell_id', 'Site_id']\n",
    "\n",
    "tel1.head()"
   ]
  },
  {
   "cell_type": "code",
   "execution_count": 6,
   "metadata": {},
   "outputs": [
    {
     "output_type": "execute_result",
     "data": {
      "text/plain": [
       "  Product  Bill_Price              Date_time Cell_onsite             DW_A  \\\n",
       "0     sms           0  2012-05-07 23:02:06.0           2  32255675c3b6fe3   \n",
       "1   Voice           0  2012-05-07 23:03:44.0           1  ff16d6ac74c1c64   \n",
       "2     sms           0  2012-05-07 23:04:06.0           0  98d9f2fb5ff624b   \n",
       "3   Voice          37  2012-05-07 23:04:48.0           1  3f9c8a33ec7be1f   \n",
       "4     sms          25  2012-05-07 23:04:58.0           1  7bcccc03adf3864   \n",
       "\n",
       "              DW_B Country_A Country_B     Cell_id     Site_id  \n",
       "0  1aa7ae01386e9fb     19e2e     19e2e  +854AcBQT2  +854AcBQT2  \n",
       "1  87d87309c15a8c9     19e2e     19e2e  +854AcBQT2  +854AcBQT2  \n",
       "2  93343ba6e41af95     19e2e     19e2e  +laSrk7g6q  +laSrk7g6q  \n",
       "3  7d05a38f89c49d8     19e2e     19e2e  /xvRrCVKoQ  /xvRrCVKoQ  \n",
       "4  56a5d5430d2fa86     19e2e     19e2e  +bO+qkSonO  +bO+qkSonO  "
      ],
      "text/html": "<div>\n<style scoped>\n    .dataframe tbody tr th:only-of-type {\n        vertical-align: middle;\n    }\n\n    .dataframe tbody tr th {\n        vertical-align: top;\n    }\n\n    .dataframe thead th {\n        text-align: right;\n    }\n</style>\n<table border=\"1\" class=\"dataframe\">\n  <thead>\n    <tr style=\"text-align: right;\">\n      <th></th>\n      <th>Product</th>\n      <th>Bill_Price</th>\n      <th>Date_time</th>\n      <th>Cell_onsite</th>\n      <th>DW_A</th>\n      <th>DW_B</th>\n      <th>Country_A</th>\n      <th>Country_B</th>\n      <th>Cell_id</th>\n      <th>Site_id</th>\n    </tr>\n  </thead>\n  <tbody>\n    <tr>\n      <th>0</th>\n      <td>sms</td>\n      <td>0</td>\n      <td>2012-05-07 23:02:06.0</td>\n      <td>2</td>\n      <td>32255675c3b6fe3</td>\n      <td>1aa7ae01386e9fb</td>\n      <td>19e2e</td>\n      <td>19e2e</td>\n      <td>+854AcBQT2</td>\n      <td>+854AcBQT2</td>\n    </tr>\n    <tr>\n      <th>1</th>\n      <td>Voice</td>\n      <td>0</td>\n      <td>2012-05-07 23:03:44.0</td>\n      <td>1</td>\n      <td>ff16d6ac74c1c64</td>\n      <td>87d87309c15a8c9</td>\n      <td>19e2e</td>\n      <td>19e2e</td>\n      <td>+854AcBQT2</td>\n      <td>+854AcBQT2</td>\n    </tr>\n    <tr>\n      <th>2</th>\n      <td>sms</td>\n      <td>0</td>\n      <td>2012-05-07 23:04:06.0</td>\n      <td>0</td>\n      <td>98d9f2fb5ff624b</td>\n      <td>93343ba6e41af95</td>\n      <td>19e2e</td>\n      <td>19e2e</td>\n      <td>+laSrk7g6q</td>\n      <td>+laSrk7g6q</td>\n    </tr>\n    <tr>\n      <th>3</th>\n      <td>Voice</td>\n      <td>37</td>\n      <td>2012-05-07 23:04:48.0</td>\n      <td>1</td>\n      <td>3f9c8a33ec7be1f</td>\n      <td>7d05a38f89c49d8</td>\n      <td>19e2e</td>\n      <td>19e2e</td>\n      <td>/xvRrCVKoQ</td>\n      <td>/xvRrCVKoQ</td>\n    </tr>\n    <tr>\n      <th>4</th>\n      <td>sms</td>\n      <td>25</td>\n      <td>2012-05-07 23:04:58.0</td>\n      <td>1</td>\n      <td>7bcccc03adf3864</td>\n      <td>56a5d5430d2fa86</td>\n      <td>19e2e</td>\n      <td>19e2e</td>\n      <td>+bO+qkSonO</td>\n      <td>+bO+qkSonO</td>\n    </tr>\n  </tbody>\n</table>\n</div>"
     },
     "metadata": {},
     "execution_count": 6
    }
   ],
   "source": [
    "# Second data set.\n",
    "# With a data preview\n",
    "\n",
    "tel2 = pd.read_csv('Data\\Telcom_dataset2.csv', delimiter= ',',encoding= 'utf8')\n",
    "tel1\n",
    "\n",
    "tel2.columns = ['Product', 'Bill_Price','Date_time', 'Cell_onsite','DW_A','DW_B', 'Country_A','Country_B','Cell_id', 'Site_id']\n",
    "\n",
    "tel2.head()"
   ]
  },
  {
   "cell_type": "code",
   "execution_count": 7,
   "metadata": {},
   "outputs": [
    {
     "output_type": "execute_result",
     "data": {
      "text/plain": [
       "  Product  Bill_Price              Date_time Cell_onsite             DW_A  \\\n",
       "0   Voice          61  2012-05-08 23:01:28.0           2  966f68353622feb   \n",
       "1     sms           0  2012-05-08 23:01:31.0           1  a0a597384c612d7   \n",
       "2   Voice          10  2012-05-08 23:02:59.0           1  5441a9a58c97132   \n",
       "3     sms           0  2012-05-08 23:03:04.0           0  8ab8b9ed6989f61   \n",
       "4   Voice          22  2012-05-08 23:03:16.0           4  52662a62b199334   \n",
       "\n",
       "              DW_B Country_A Country_B     Cell_id     Site_id  \n",
       "0  ffd53a3bb2db6f1     19e2e     19e2e  +38u2u/rfx  +38u2u/rfx  \n",
       "1  cf3b218f1dde792     19e2e     19e2e  +Fs4mTvdKx  +Fs4mTvdKx  \n",
       "2  52f8b299515b9b7     19e2e     19e2e  +ZaaZozy/+  +ZaaZozy/+  \n",
       "3  e09e736e46c5c3d     19e2e     19e2e  +cNeJzsTp3  +cNeJzsTp3  \n",
       "4  2186273faab4602     19e2e     19e2e  /eeMklgyJA  /eeMklgyJA  "
      ],
      "text/html": "<div>\n<style scoped>\n    .dataframe tbody tr th:only-of-type {\n        vertical-align: middle;\n    }\n\n    .dataframe tbody tr th {\n        vertical-align: top;\n    }\n\n    .dataframe thead th {\n        text-align: right;\n    }\n</style>\n<table border=\"1\" class=\"dataframe\">\n  <thead>\n    <tr style=\"text-align: right;\">\n      <th></th>\n      <th>Product</th>\n      <th>Bill_Price</th>\n      <th>Date_time</th>\n      <th>Cell_onsite</th>\n      <th>DW_A</th>\n      <th>DW_B</th>\n      <th>Country_A</th>\n      <th>Country_B</th>\n      <th>Cell_id</th>\n      <th>Site_id</th>\n    </tr>\n  </thead>\n  <tbody>\n    <tr>\n      <th>0</th>\n      <td>Voice</td>\n      <td>61</td>\n      <td>2012-05-08 23:01:28.0</td>\n      <td>2</td>\n      <td>966f68353622feb</td>\n      <td>ffd53a3bb2db6f1</td>\n      <td>19e2e</td>\n      <td>19e2e</td>\n      <td>+38u2u/rfx</td>\n      <td>+38u2u/rfx</td>\n    </tr>\n    <tr>\n      <th>1</th>\n      <td>sms</td>\n      <td>0</td>\n      <td>2012-05-08 23:01:31.0</td>\n      <td>1</td>\n      <td>a0a597384c612d7</td>\n      <td>cf3b218f1dde792</td>\n      <td>19e2e</td>\n      <td>19e2e</td>\n      <td>+Fs4mTvdKx</td>\n      <td>+Fs4mTvdKx</td>\n    </tr>\n    <tr>\n      <th>2</th>\n      <td>Voice</td>\n      <td>10</td>\n      <td>2012-05-08 23:02:59.0</td>\n      <td>1</td>\n      <td>5441a9a58c97132</td>\n      <td>52f8b299515b9b7</td>\n      <td>19e2e</td>\n      <td>19e2e</td>\n      <td>+ZaaZozy/+</td>\n      <td>+ZaaZozy/+</td>\n    </tr>\n    <tr>\n      <th>3</th>\n      <td>sms</td>\n      <td>0</td>\n      <td>2012-05-08 23:03:04.0</td>\n      <td>0</td>\n      <td>8ab8b9ed6989f61</td>\n      <td>e09e736e46c5c3d</td>\n      <td>19e2e</td>\n      <td>19e2e</td>\n      <td>+cNeJzsTp3</td>\n      <td>+cNeJzsTp3</td>\n    </tr>\n    <tr>\n      <th>4</th>\n      <td>Voice</td>\n      <td>22</td>\n      <td>2012-05-08 23:03:16.0</td>\n      <td>4</td>\n      <td>52662a62b199334</td>\n      <td>2186273faab4602</td>\n      <td>19e2e</td>\n      <td>19e2e</td>\n      <td>/eeMklgyJA</td>\n      <td>/eeMklgyJA</td>\n    </tr>\n  </tbody>\n</table>\n</div>"
     },
     "metadata": {},
     "execution_count": 7
    }
   ],
   "source": [
    "# For our third data set.\n",
    "# With a data preview\n",
    "\n",
    "tel3 = pd.read_csv('Data\\Telcom_dataset3.csv', delimiter= ',',encoding= 'utf8')\n",
    "tel3\n",
    "\n",
    "tel3.columns = ['Product', 'Bill_Price','Date_time', 'Cell_onsite','DW_A','DW_B', 'Country_A','Country_B','Cell_id', 'Site_id']\n",
    "\n",
    "tel3.head()"
   ]
  },
  {
   "cell_type": "code",
   "execution_count": 11,
   "metadata": {},
   "outputs": [
    {
     "output_type": "stream",
     "name": "stdout",
     "text": [
      "<class 'pandas.core.frame.DataFrame'>\nRangeIndex: 3974 entries, 0 to 3973\nData columns (total 12 columns):\n #   Column        Non-Null Count  Dtype  \n---  ------        --------------  -----  \n 0   Unnamed: 0    3974 non-null   int64  \n 1   VILLES        3974 non-null   object \n 2   STATUS        3907 non-null   object \n 3   LOCALISATION  3974 non-null   object \n 4   DECOUPZONE    3974 non-null   object \n 5   ZONENAME      3968 non-null   object \n 6   LONGITUDE     3974 non-null   float64\n 7   LATITUDE      3974 non-null   float64\n 8   REGION        3974 non-null   object \n 9   AREA          3951 non-null   object \n 10  CELL_ID       3974 non-null   object \n 11  SITE_CODE     3974 non-null   object \ndtypes: float64(2), int64(1), object(9)\nmemory usage: 372.7+ KB\n"
     ]
    }
   ],
   "source": [
    "# We should clean the data frames for any duplicates in the data and also\n",
    "#  Removing missing values and droppping uneccesary columns as per our guide on the Description\n",
    "\n",
    "# Start with df_cellgeo\n",
    "# Check to see info details\n",
    "#  Step two check for duplicates and missing values\n",
    "# \n",
    "df_cellgeo.info()\n",
    "\n",
    "df_cellgeo.duplicated().value_counts()\n",
    "\n",
    "# Check for missing values\n",
    "df_cellgeo.isnull().sum().sort_values(ascending=False)\n",
    "\n",
    "\n",
    "# Drop Duplicates\n",
    "df_cellgeo.drop_duplicates(inplace=True)"
   ]
  },
  {
   "cell_type": "code",
   "execution_count": 13,
   "metadata": {},
   "outputs": [
    {
     "output_type": "stream",
     "name": "stdout",
     "text": [
      "<class 'pandas.core.frame.DataFrame'>\nRangeIndex: 5001 entries, 0 to 5000\nData columns (total 10 columns):\n #   Column       Non-Null Count  Dtype \n---  ------       --------------  ----- \n 0   Product      5001 non-null   object\n 1   Bill_Price   5001 non-null   int64 \n 2   Date_time    5001 non-null   object\n 3   Cell_onsite  5001 non-null   object\n 4   DW_A         5001 non-null   object\n 5   DW_B         5001 non-null   object\n 6   Country_A    5001 non-null   object\n 7   Country_B    5001 non-null   object\n 8   Cell_id      5001 non-null   object\n 9   Site_id      4285 non-null   object\ndtypes: int64(1), object(9)\nmemory usage: 390.8+ KB\n"
     ]
    }
   ],
   "source": [
    "# Now for Our datasets\n",
    "# Check to see info details\n",
    "#  Step two check for duplicates and missing values\n",
    "# \n",
    "tel1.info()\n",
    "\n",
    "tel1.duplicated().value_counts()\n",
    "\n",
    "# Check for missing values\n",
    "tel1.isnull().sum().sort_values(ascending=False)\n",
    "\n",
    "\n",
    "# Drop Duplicates\n",
    "tel1.drop_duplicates(inplace=True)"
   ]
  },
  {
   "cell_type": "code",
   "execution_count": 14,
   "metadata": {},
   "outputs": [
    {
     "output_type": "stream",
     "name": "stdout",
     "text": [
      "<class 'pandas.core.frame.DataFrame'>\nRangeIndex: 5001 entries, 0 to 5000\nData columns (total 10 columns):\n #   Column       Non-Null Count  Dtype \n---  ------       --------------  ----- \n 0   Product      5001 non-null   object\n 1   Bill_Price   5001 non-null   int64 \n 2   Date_time    5001 non-null   object\n 3   Cell_onsite  5001 non-null   object\n 4   DW_A         5001 non-null   object\n 5   DW_B         5001 non-null   object\n 6   Country_A    5001 non-null   object\n 7   Country_B    5001 non-null   object\n 8   Cell_id      5001 non-null   object\n 9   Site_id      4325 non-null   object\ndtypes: int64(1), object(9)\nmemory usage: 390.8+ KB\n"
     ]
    }
   ],
   "source": [
    "# Now for Our datasets\n",
    "# Check to see info details\n",
    "#  Step two check for duplicates and missing values\n",
    "# \n",
    "tel2.info()\n",
    "\n",
    "tel2.duplicated().value_counts()\n",
    "\n",
    "# Check for missing values\n",
    "tel2.isnull().sum().sort_values(ascending=False)\n",
    "\n",
    "\n",
    "# Drop Duplicates\n",
    "tel2.drop_duplicates(inplace=True)"
   ]
  },
  {
   "cell_type": "code",
   "execution_count": 15,
   "metadata": {},
   "outputs": [
    {
     "output_type": "stream",
     "name": "stdout",
     "text": [
      "<class 'pandas.core.frame.DataFrame'>\nRangeIndex: 5001 entries, 0 to 5000\nData columns (total 10 columns):\n #   Column       Non-Null Count  Dtype \n---  ------       --------------  ----- \n 0   Product      5001 non-null   object\n 1   Bill_Price   5001 non-null   int64 \n 2   Date_time    5001 non-null   object\n 3   Cell_onsite  5001 non-null   object\n 4   DW_A         5001 non-null   object\n 5   DW_B         5001 non-null   object\n 6   Country_A    5001 non-null   object\n 7   Country_B    5001 non-null   object\n 8   Cell_id      5001 non-null   object\n 9   Site_id      4396 non-null   object\ndtypes: int64(1), object(9)\nmemory usage: 390.8+ KB\n"
     ]
    }
   ],
   "source": [
    "# Now for Our datasets\n",
    "# Check to see info details\n",
    "#  Step two check for duplicates and missing values\n",
    "# \n",
    "tel3.info()\n",
    "\n",
    "tel3.duplicated().value_counts()\n",
    "\n",
    "# Check for missing values\n",
    "tel3.isnull().sum().sort_values(ascending=False)\n",
    "\n",
    "\n",
    "# Drop Duplicates\n",
    "tel3.drop_duplicates(inplace=True)"
   ]
  },
  {
   "cell_type": "code",
   "execution_count": 16,
   "metadata": {},
   "outputs": [
    {
     "output_type": "execute_result",
     "data": {
      "text/plain": [
       "  Product  Bill_Price              Date_time Cell_onsite             DW_A  \\\n",
       "0   Voice           0  2012-05-06 23:04:37.0           1  49fae048b547780   \n",
       "1     sms           0  2012-05-06 23:05:25.0           0  7a54a6eaee19e65   \n",
       "2     sms          25  2012-05-06 23:05:41.0           0  6008887b0207d82   \n",
       "3   Voice          56  2012-05-06 23:05:42.0           1  7370032e20f4e96   \n",
       "4   Voice          14  2012-05-06 23:06:29.0           1  966ba4656e38e62   \n",
       "5    data           0  2012-05-06 23:07:26.0           _  f71825ca6e623f9   \n",
       "6   Voice           0  2012-05-06 23:08:02.0           1  4afd7d5af21b1ce   \n",
       "7   Voice           0  2012-05-06 23:08:03.0           5  d717dee81c51389   \n",
       "8   Voice           0  2012-05-06 23:08:05.0           1  44522aefdc918a6   \n",
       "9     sms           0  2012-05-06 23:08:43.0           0  0763a571d24db64   \n",
       "\n",
       "              DW_B Country_A Country_B     Cell_id     Site_id  \n",
       "0  1a49f8b0ded9de6     19e2e     19e2e  /TJNe+Mmtu  /TJNe+Mmtu  \n",
       "1  93343ba6e41af95     19e2e     19e2e  /+cKZKIp41  /+cKZKIp41  \n",
       "2  7aacc9709ce0a20     19e2e     19e2e  /u0FSD+ahi  /u0FSD+ahi  \n",
       "3  6af4a60e74c91d3     19e2e     19e2e  +cNeJzsTp3  +cNeJzsTp3  \n",
       "4  02aa736ee555d5c     19e2e     19e2e  051KhYDCpv  051KhYDCpv  \n",
       "5  5a4dc9e82deb309     19e2e     OTHER  /lrUXVGVcN  /lrUXVGVcN  \n",
       "6  67bf1ac30e58e2f     19e2e     19e2e  +38u2u/rfx  +38u2u/rfx  \n",
       "7  adde5afd9a67b10     19e2e     19e2e  09UjmmY1Ds  09UjmmY1Ds  \n",
       "8  19e68e80103885e     19e2e     19e2e  0DeimCpZOc  0DeimCpZOc  \n",
       "9  f773694c00c74d2     19e2e     19e2e  01MDiY5F89  01MDiY5F89  "
      ],
      "text/html": "<div>\n<style scoped>\n    .dataframe tbody tr th:only-of-type {\n        vertical-align: middle;\n    }\n\n    .dataframe tbody tr th {\n        vertical-align: top;\n    }\n\n    .dataframe thead th {\n        text-align: right;\n    }\n</style>\n<table border=\"1\" class=\"dataframe\">\n  <thead>\n    <tr style=\"text-align: right;\">\n      <th></th>\n      <th>Product</th>\n      <th>Bill_Price</th>\n      <th>Date_time</th>\n      <th>Cell_onsite</th>\n      <th>DW_A</th>\n      <th>DW_B</th>\n      <th>Country_A</th>\n      <th>Country_B</th>\n      <th>Cell_id</th>\n      <th>Site_id</th>\n    </tr>\n  </thead>\n  <tbody>\n    <tr>\n      <th>0</th>\n      <td>Voice</td>\n      <td>0</td>\n      <td>2012-05-06 23:04:37.0</td>\n      <td>1</td>\n      <td>49fae048b547780</td>\n      <td>1a49f8b0ded9de6</td>\n      <td>19e2e</td>\n      <td>19e2e</td>\n      <td>/TJNe+Mmtu</td>\n      <td>/TJNe+Mmtu</td>\n    </tr>\n    <tr>\n      <th>1</th>\n      <td>sms</td>\n      <td>0</td>\n      <td>2012-05-06 23:05:25.0</td>\n      <td>0</td>\n      <td>7a54a6eaee19e65</td>\n      <td>93343ba6e41af95</td>\n      <td>19e2e</td>\n      <td>19e2e</td>\n      <td>/+cKZKIp41</td>\n      <td>/+cKZKIp41</td>\n    </tr>\n    <tr>\n      <th>2</th>\n      <td>sms</td>\n      <td>25</td>\n      <td>2012-05-06 23:05:41.0</td>\n      <td>0</td>\n      <td>6008887b0207d82</td>\n      <td>7aacc9709ce0a20</td>\n      <td>19e2e</td>\n      <td>19e2e</td>\n      <td>/u0FSD+ahi</td>\n      <td>/u0FSD+ahi</td>\n    </tr>\n    <tr>\n      <th>3</th>\n      <td>Voice</td>\n      <td>56</td>\n      <td>2012-05-06 23:05:42.0</td>\n      <td>1</td>\n      <td>7370032e20f4e96</td>\n      <td>6af4a60e74c91d3</td>\n      <td>19e2e</td>\n      <td>19e2e</td>\n      <td>+cNeJzsTp3</td>\n      <td>+cNeJzsTp3</td>\n    </tr>\n    <tr>\n      <th>4</th>\n      <td>Voice</td>\n      <td>14</td>\n      <td>2012-05-06 23:06:29.0</td>\n      <td>1</td>\n      <td>966ba4656e38e62</td>\n      <td>02aa736ee555d5c</td>\n      <td>19e2e</td>\n      <td>19e2e</td>\n      <td>051KhYDCpv</td>\n      <td>051KhYDCpv</td>\n    </tr>\n    <tr>\n      <th>5</th>\n      <td>data</td>\n      <td>0</td>\n      <td>2012-05-06 23:07:26.0</td>\n      <td>_</td>\n      <td>f71825ca6e623f9</td>\n      <td>5a4dc9e82deb309</td>\n      <td>19e2e</td>\n      <td>OTHER</td>\n      <td>/lrUXVGVcN</td>\n      <td>/lrUXVGVcN</td>\n    </tr>\n    <tr>\n      <th>6</th>\n      <td>Voice</td>\n      <td>0</td>\n      <td>2012-05-06 23:08:02.0</td>\n      <td>1</td>\n      <td>4afd7d5af21b1ce</td>\n      <td>67bf1ac30e58e2f</td>\n      <td>19e2e</td>\n      <td>19e2e</td>\n      <td>+38u2u/rfx</td>\n      <td>+38u2u/rfx</td>\n    </tr>\n    <tr>\n      <th>7</th>\n      <td>Voice</td>\n      <td>0</td>\n      <td>2012-05-06 23:08:03.0</td>\n      <td>5</td>\n      <td>d717dee81c51389</td>\n      <td>adde5afd9a67b10</td>\n      <td>19e2e</td>\n      <td>19e2e</td>\n      <td>09UjmmY1Ds</td>\n      <td>09UjmmY1Ds</td>\n    </tr>\n    <tr>\n      <th>8</th>\n      <td>Voice</td>\n      <td>0</td>\n      <td>2012-05-06 23:08:05.0</td>\n      <td>1</td>\n      <td>44522aefdc918a6</td>\n      <td>19e68e80103885e</td>\n      <td>19e2e</td>\n      <td>19e2e</td>\n      <td>0DeimCpZOc</td>\n      <td>0DeimCpZOc</td>\n    </tr>\n    <tr>\n      <th>9</th>\n      <td>sms</td>\n      <td>0</td>\n      <td>2012-05-06 23:08:43.0</td>\n      <td>0</td>\n      <td>0763a571d24db64</td>\n      <td>f773694c00c74d2</td>\n      <td>19e2e</td>\n      <td>19e2e</td>\n      <td>01MDiY5F89</td>\n      <td>01MDiY5F89</td>\n    </tr>\n  </tbody>\n</table>\n</div>"
     },
     "metadata": {},
     "execution_count": 16
    }
   ],
   "source": [
    "# Now that the datasets are cleaned up we can now join them into one sheet\n",
    "# \n",
    "\n",
    "master_datasets =  pd.concat([tel1,tel2,tel3], axis=0, join='outer',ignore_index=True)\n",
    "\n",
    "master_datasets.head(10)"
   ]
  },
  {
   "cell_type": "code",
   "execution_count": 17,
   "metadata": {},
   "outputs": [
    {
     "output_type": "stream",
     "name": "stdout",
     "text": [
      "<class 'pandas.core.frame.DataFrame'>\nRangeIndex: 14750 entries, 0 to 14749\nData columns (total 10 columns):\n #   Column       Non-Null Count  Dtype \n---  ------       --------------  ----- \n 0   Product      14750 non-null  object\n 1   Bill_Price   14750 non-null  int64 \n 2   Date_time    14750 non-null  object\n 3   Cell_onsite  14750 non-null  object\n 4   DW_A         14750 non-null  object\n 5   DW_B         14750 non-null  object\n 6   Country_A    14750 non-null  object\n 7   Country_B    14750 non-null  object\n 8   Cell_id      14750 non-null  object\n 9   Site_id      12789 non-null  object\ndtypes: int64(1), object(9)\nmemory usage: 1.1+ MB\n"
     ]
    }
   ],
   "source": [
    "# We can take a look at some info on the merged data\n",
    "# To seek out where our data points are.\n",
    "# We will need to drop some columns since they are not needed.\n",
    "\n",
    "master_datasets.info()"
   ]
  },
  {
   "cell_type": "code",
   "execution_count": 26,
   "metadata": {},
   "outputs": [
    {
     "output_type": "execute_result",
     "data": {
      "text/plain": [
       "  Product  Bill_Price              Date_time             DW_A  \\\n",
       "0   Voice           0  2012-05-06 23:04:37.0  49fae048b547780   \n",
       "1     sms           0  2012-05-06 23:05:25.0  7a54a6eaee19e65   \n",
       "2     sms          25  2012-05-06 23:05:41.0  6008887b0207d82   \n",
       "3   Voice          56  2012-05-06 23:05:42.0  7370032e20f4e96   \n",
       "4   Voice          14  2012-05-06 23:06:29.0  966ba4656e38e62   \n",
       "\n",
       "              DW_B     Cell_id     Site_id  \n",
       "0  1a49f8b0ded9de6  /TJNe+Mmtu  /TJNe+Mmtu  \n",
       "1  93343ba6e41af95  /+cKZKIp41  /+cKZKIp41  \n",
       "2  7aacc9709ce0a20  /u0FSD+ahi  /u0FSD+ahi  \n",
       "3  6af4a60e74c91d3  +cNeJzsTp3  +cNeJzsTp3  \n",
       "4  02aa736ee555d5c  051KhYDCpv  051KhYDCpv  "
      ],
      "text/html": "<div>\n<style scoped>\n    .dataframe tbody tr th:only-of-type {\n        vertical-align: middle;\n    }\n\n    .dataframe tbody tr th {\n        vertical-align: top;\n    }\n\n    .dataframe thead th {\n        text-align: right;\n    }\n</style>\n<table border=\"1\" class=\"dataframe\">\n  <thead>\n    <tr style=\"text-align: right;\">\n      <th></th>\n      <th>Product</th>\n      <th>Bill_Price</th>\n      <th>Date_time</th>\n      <th>DW_A</th>\n      <th>DW_B</th>\n      <th>Cell_id</th>\n      <th>Site_id</th>\n    </tr>\n  </thead>\n  <tbody>\n    <tr>\n      <th>0</th>\n      <td>Voice</td>\n      <td>0</td>\n      <td>2012-05-06 23:04:37.0</td>\n      <td>49fae048b547780</td>\n      <td>1a49f8b0ded9de6</td>\n      <td>/TJNe+Mmtu</td>\n      <td>/TJNe+Mmtu</td>\n    </tr>\n    <tr>\n      <th>1</th>\n      <td>sms</td>\n      <td>0</td>\n      <td>2012-05-06 23:05:25.0</td>\n      <td>7a54a6eaee19e65</td>\n      <td>93343ba6e41af95</td>\n      <td>/+cKZKIp41</td>\n      <td>/+cKZKIp41</td>\n    </tr>\n    <tr>\n      <th>2</th>\n      <td>sms</td>\n      <td>25</td>\n      <td>2012-05-06 23:05:41.0</td>\n      <td>6008887b0207d82</td>\n      <td>7aacc9709ce0a20</td>\n      <td>/u0FSD+ahi</td>\n      <td>/u0FSD+ahi</td>\n    </tr>\n    <tr>\n      <th>3</th>\n      <td>Voice</td>\n      <td>56</td>\n      <td>2012-05-06 23:05:42.0</td>\n      <td>7370032e20f4e96</td>\n      <td>6af4a60e74c91d3</td>\n      <td>+cNeJzsTp3</td>\n      <td>+cNeJzsTp3</td>\n    </tr>\n    <tr>\n      <th>4</th>\n      <td>Voice</td>\n      <td>14</td>\n      <td>2012-05-06 23:06:29.0</td>\n      <td>966ba4656e38e62</td>\n      <td>02aa736ee555d5c</td>\n      <td>051KhYDCpv</td>\n      <td>051KhYDCpv</td>\n    </tr>\n  </tbody>\n</table>\n</div>"
     },
     "metadata": {},
     "execution_count": 26
    }
   ],
   "source": [
    "# Dropping columns on the master Data set.\n",
    "# \n",
    "master_datasets.drop(\"Cell_onsite\", axis=1, inplace=True)\n",
    "master_datasets.drop(\"Country_A\", axis=1, inplace=True)\n",
    "master_datasets.drop(\"Country_B\", axis=1, inplace=True)\n"
   ]
  },
  {
   "cell_type": "code",
   "execution_count": 27,
   "metadata": {},
   "outputs": [
    {
     "output_type": "execute_result",
     "data": {
      "text/plain": [
       "  Product  Bill_Price              Date_time             DW_A  \\\n",
       "0   Voice           0  2012-05-06 23:04:37.0  49fae048b547780   \n",
       "1     sms           0  2012-05-06 23:05:25.0  7a54a6eaee19e65   \n",
       "2     sms          25  2012-05-06 23:05:41.0  6008887b0207d82   \n",
       "3   Voice          56  2012-05-06 23:05:42.0  7370032e20f4e96   \n",
       "4   Voice          14  2012-05-06 23:06:29.0  966ba4656e38e62   \n",
       "\n",
       "              DW_B     Cell_id     Site_id  \n",
       "0  1a49f8b0ded9de6  /TJNe+Mmtu  /TJNe+Mmtu  \n",
       "1  93343ba6e41af95  /+cKZKIp41  /+cKZKIp41  \n",
       "2  7aacc9709ce0a20  /u0FSD+ahi  /u0FSD+ahi  \n",
       "3  6af4a60e74c91d3  +cNeJzsTp3  +cNeJzsTp3  \n",
       "4  02aa736ee555d5c  051KhYDCpv  051KhYDCpv  "
      ],
      "text/html": "<div>\n<style scoped>\n    .dataframe tbody tr th:only-of-type {\n        vertical-align: middle;\n    }\n\n    .dataframe tbody tr th {\n        vertical-align: top;\n    }\n\n    .dataframe thead th {\n        text-align: right;\n    }\n</style>\n<table border=\"1\" class=\"dataframe\">\n  <thead>\n    <tr style=\"text-align: right;\">\n      <th></th>\n      <th>Product</th>\n      <th>Bill_Price</th>\n      <th>Date_time</th>\n      <th>DW_A</th>\n      <th>DW_B</th>\n      <th>Cell_id</th>\n      <th>Site_id</th>\n    </tr>\n  </thead>\n  <tbody>\n    <tr>\n      <th>0</th>\n      <td>Voice</td>\n      <td>0</td>\n      <td>2012-05-06 23:04:37.0</td>\n      <td>49fae048b547780</td>\n      <td>1a49f8b0ded9de6</td>\n      <td>/TJNe+Mmtu</td>\n      <td>/TJNe+Mmtu</td>\n    </tr>\n    <tr>\n      <th>1</th>\n      <td>sms</td>\n      <td>0</td>\n      <td>2012-05-06 23:05:25.0</td>\n      <td>7a54a6eaee19e65</td>\n      <td>93343ba6e41af95</td>\n      <td>/+cKZKIp41</td>\n      <td>/+cKZKIp41</td>\n    </tr>\n    <tr>\n      <th>2</th>\n      <td>sms</td>\n      <td>25</td>\n      <td>2012-05-06 23:05:41.0</td>\n      <td>6008887b0207d82</td>\n      <td>7aacc9709ce0a20</td>\n      <td>/u0FSD+ahi</td>\n      <td>/u0FSD+ahi</td>\n    </tr>\n    <tr>\n      <th>3</th>\n      <td>Voice</td>\n      <td>56</td>\n      <td>2012-05-06 23:05:42.0</td>\n      <td>7370032e20f4e96</td>\n      <td>6af4a60e74c91d3</td>\n      <td>+cNeJzsTp3</td>\n      <td>+cNeJzsTp3</td>\n    </tr>\n    <tr>\n      <th>4</th>\n      <td>Voice</td>\n      <td>14</td>\n      <td>2012-05-06 23:06:29.0</td>\n      <td>966ba4656e38e62</td>\n      <td>02aa736ee555d5c</td>\n      <td>051KhYDCpv</td>\n      <td>051KhYDCpv</td>\n    </tr>\n  </tbody>\n</table>\n</div>"
     },
     "metadata": {},
     "execution_count": 27
    }
   ],
   "source": [
    "# To preview changes\n",
    "master_datasets.head()"
   ]
  },
  {
   "cell_type": "code",
   "execution_count": 30,
   "metadata": {},
   "outputs": [
    {
     "output_type": "execute_result",
     "data": {
      "text/plain": [
       "  Product  Bill_Price              Date_time             DW_A  \\\n",
       "0   Voice           0  2012-05-06 23:04:37.0  49fae048b547780   \n",
       "1     sms           0  2012-05-06 23:05:25.0  7a54a6eaee19e65   \n",
       "2     sms          25  2012-05-06 23:05:41.0  6008887b0207d82   \n",
       "3   Voice          56  2012-05-06 23:05:42.0  7370032e20f4e96   \n",
       "4   Voice          14  2012-05-06 23:06:29.0  966ba4656e38e62   \n",
       "\n",
       "              DW_B     Cell_id     Site_id        Date        time  \n",
       "0  1a49f8b0ded9de6  /TJNe+Mmtu  /TJNe+Mmtu  2012-05-06  23:04:37.0  \n",
       "1  93343ba6e41af95  /+cKZKIp41  /+cKZKIp41  2012-05-06  23:05:25.0  \n",
       "2  7aacc9709ce0a20  /u0FSD+ahi  /u0FSD+ahi  2012-05-06  23:05:41.0  \n",
       "3  6af4a60e74c91d3  +cNeJzsTp3  +cNeJzsTp3  2012-05-06  23:05:42.0  \n",
       "4  02aa736ee555d5c  051KhYDCpv  051KhYDCpv  2012-05-06  23:06:29.0  "
      ],
      "text/html": "<div>\n<style scoped>\n    .dataframe tbody tr th:only-of-type {\n        vertical-align: middle;\n    }\n\n    .dataframe tbody tr th {\n        vertical-align: top;\n    }\n\n    .dataframe thead th {\n        text-align: right;\n    }\n</style>\n<table border=\"1\" class=\"dataframe\">\n  <thead>\n    <tr style=\"text-align: right;\">\n      <th></th>\n      <th>Product</th>\n      <th>Bill_Price</th>\n      <th>Date_time</th>\n      <th>DW_A</th>\n      <th>DW_B</th>\n      <th>Cell_id</th>\n      <th>Site_id</th>\n      <th>Date</th>\n      <th>time</th>\n    </tr>\n  </thead>\n  <tbody>\n    <tr>\n      <th>0</th>\n      <td>Voice</td>\n      <td>0</td>\n      <td>2012-05-06 23:04:37.0</td>\n      <td>49fae048b547780</td>\n      <td>1a49f8b0ded9de6</td>\n      <td>/TJNe+Mmtu</td>\n      <td>/TJNe+Mmtu</td>\n      <td>2012-05-06</td>\n      <td>23:04:37.0</td>\n    </tr>\n    <tr>\n      <th>1</th>\n      <td>sms</td>\n      <td>0</td>\n      <td>2012-05-06 23:05:25.0</td>\n      <td>7a54a6eaee19e65</td>\n      <td>93343ba6e41af95</td>\n      <td>/+cKZKIp41</td>\n      <td>/+cKZKIp41</td>\n      <td>2012-05-06</td>\n      <td>23:05:25.0</td>\n    </tr>\n    <tr>\n      <th>2</th>\n      <td>sms</td>\n      <td>25</td>\n      <td>2012-05-06 23:05:41.0</td>\n      <td>6008887b0207d82</td>\n      <td>7aacc9709ce0a20</td>\n      <td>/u0FSD+ahi</td>\n      <td>/u0FSD+ahi</td>\n      <td>2012-05-06</td>\n      <td>23:05:41.0</td>\n    </tr>\n    <tr>\n      <th>3</th>\n      <td>Voice</td>\n      <td>56</td>\n      <td>2012-05-06 23:05:42.0</td>\n      <td>7370032e20f4e96</td>\n      <td>6af4a60e74c91d3</td>\n      <td>+cNeJzsTp3</td>\n      <td>+cNeJzsTp3</td>\n      <td>2012-05-06</td>\n      <td>23:05:42.0</td>\n    </tr>\n    <tr>\n      <th>4</th>\n      <td>Voice</td>\n      <td>14</td>\n      <td>2012-05-06 23:06:29.0</td>\n      <td>966ba4656e38e62</td>\n      <td>02aa736ee555d5c</td>\n      <td>051KhYDCpv</td>\n      <td>051KhYDCpv</td>\n      <td>2012-05-06</td>\n      <td>23:06:29.0</td>\n    </tr>\n  </tbody>\n</table>\n</div>"
     },
     "metadata": {},
     "execution_count": 30
    }
   ],
   "source": [
    "# We will splite date and time just to have a better master dataset\n",
    "# \n",
    "\n",
    "master_datasets[['Date', 'time']] = master_datasets.Date_time.str.split(expand=True)\n",
    "master_datasets.head()"
   ]
  },
  {
   "cell_type": "code",
   "execution_count": 31,
   "metadata": {},
   "outputs": [
    {
     "output_type": "execute_result",
     "data": {
      "text/plain": [
       "  Product  Bill_Price             DW_A             DW_B     Cell_id  \\\n",
       "0   Voice           0  49fae048b547780  1a49f8b0ded9de6  /TJNe+Mmtu   \n",
       "1     sms           0  7a54a6eaee19e65  93343ba6e41af95  /+cKZKIp41   \n",
       "2     sms          25  6008887b0207d82  7aacc9709ce0a20  /u0FSD+ahi   \n",
       "3   Voice          56  7370032e20f4e96  6af4a60e74c91d3  +cNeJzsTp3   \n",
       "4   Voice          14  966ba4656e38e62  02aa736ee555d5c  051KhYDCpv   \n",
       "\n",
       "      Site_id        Date        time  \n",
       "0  /TJNe+Mmtu  2012-05-06  23:04:37.0  \n",
       "1  /+cKZKIp41  2012-05-06  23:05:25.0  \n",
       "2  /u0FSD+ahi  2012-05-06  23:05:41.0  \n",
       "3  +cNeJzsTp3  2012-05-06  23:05:42.0  \n",
       "4  051KhYDCpv  2012-05-06  23:06:29.0  "
      ],
      "text/html": "<div>\n<style scoped>\n    .dataframe tbody tr th:only-of-type {\n        vertical-align: middle;\n    }\n\n    .dataframe tbody tr th {\n        vertical-align: top;\n    }\n\n    .dataframe thead th {\n        text-align: right;\n    }\n</style>\n<table border=\"1\" class=\"dataframe\">\n  <thead>\n    <tr style=\"text-align: right;\">\n      <th></th>\n      <th>Product</th>\n      <th>Bill_Price</th>\n      <th>DW_A</th>\n      <th>DW_B</th>\n      <th>Cell_id</th>\n      <th>Site_id</th>\n      <th>Date</th>\n      <th>time</th>\n    </tr>\n  </thead>\n  <tbody>\n    <tr>\n      <th>0</th>\n      <td>Voice</td>\n      <td>0</td>\n      <td>49fae048b547780</td>\n      <td>1a49f8b0ded9de6</td>\n      <td>/TJNe+Mmtu</td>\n      <td>/TJNe+Mmtu</td>\n      <td>2012-05-06</td>\n      <td>23:04:37.0</td>\n    </tr>\n    <tr>\n      <th>1</th>\n      <td>sms</td>\n      <td>0</td>\n      <td>7a54a6eaee19e65</td>\n      <td>93343ba6e41af95</td>\n      <td>/+cKZKIp41</td>\n      <td>/+cKZKIp41</td>\n      <td>2012-05-06</td>\n      <td>23:05:25.0</td>\n    </tr>\n    <tr>\n      <th>2</th>\n      <td>sms</td>\n      <td>25</td>\n      <td>6008887b0207d82</td>\n      <td>7aacc9709ce0a20</td>\n      <td>/u0FSD+ahi</td>\n      <td>/u0FSD+ahi</td>\n      <td>2012-05-06</td>\n      <td>23:05:41.0</td>\n    </tr>\n    <tr>\n      <th>3</th>\n      <td>Voice</td>\n      <td>56</td>\n      <td>7370032e20f4e96</td>\n      <td>6af4a60e74c91d3</td>\n      <td>+cNeJzsTp3</td>\n      <td>+cNeJzsTp3</td>\n      <td>2012-05-06</td>\n      <td>23:05:42.0</td>\n    </tr>\n    <tr>\n      <th>4</th>\n      <td>Voice</td>\n      <td>14</td>\n      <td>966ba4656e38e62</td>\n      <td>02aa736ee555d5c</td>\n      <td>051KhYDCpv</td>\n      <td>051KhYDCpv</td>\n      <td>2012-05-06</td>\n      <td>23:06:29.0</td>\n    </tr>\n  </tbody>\n</table>\n</div>"
     },
     "metadata": {},
     "execution_count": 31
    }
   ],
   "source": [
    "# Then we an drop the combined date and time column\n",
    "# \n",
    "master_datasets.drop(\"Date_time\", axis=1, inplace=True)\n",
    "master_datasets.head()"
   ]
  },
  {
   "cell_type": "code",
   "execution_count": 32,
   "metadata": {},
   "outputs": [
    {
     "output_type": "execute_result",
     "data": {
      "text/plain": [
       "   Unnamed: 0   VILLES      STATUS LOCALISATION    DECOUPZONE  ZONENAME  \\\n",
       "0           0   ADJAME  In Service      ABIDJAN  \"Abidjan_EST  AGBANNEW   \n",
       "1           1   ADJAME  In Service      ABIDJAN  \"Abidjan_EST  AGBANNEW   \n",
       "2           2   ADJAME  In Service      ABIDJAN  \"Abidjan_EST  AGBANNEW   \n",
       "3           3  ASSINIE  In Service    INTERIEUR     Grand-EST  ASSINIE\"   \n",
       "4           4  ASSINIE  In Service    INTERIEUR     Grand-EST  ASSINIE\"   \n",
       "\n",
       "   LONGITUDE  LATITUDE     REGION AREA     CELL_ID   SITE_CODE  \n",
       "0  -4.000667  5.368194     LAGUNE  NaN  fbb2e75af3  0bb492ef17  \n",
       "1  -4.000667  5.368194     LAGUNE  NaN  1502501d78  0bb492ef17  \n",
       "2  -4.000667  5.368194     LAGUNE  NaN  0c2e182a0c  0bb492ef17  \n",
       "3  -3.488467  5.158761  SUD COMOE  NaN  69bdfc69fd  8a1e6ce31f  \n",
       "4  -3.488467  5.158761  SUD COMOE  NaN  7a1029d2ab  8a1e6ce31f  "
      ],
      "text/html": "<div>\n<style scoped>\n    .dataframe tbody tr th:only-of-type {\n        vertical-align: middle;\n    }\n\n    .dataframe tbody tr th {\n        vertical-align: top;\n    }\n\n    .dataframe thead th {\n        text-align: right;\n    }\n</style>\n<table border=\"1\" class=\"dataframe\">\n  <thead>\n    <tr style=\"text-align: right;\">\n      <th></th>\n      <th>Unnamed: 0</th>\n      <th>VILLES</th>\n      <th>STATUS</th>\n      <th>LOCALISATION</th>\n      <th>DECOUPZONE</th>\n      <th>ZONENAME</th>\n      <th>LONGITUDE</th>\n      <th>LATITUDE</th>\n      <th>REGION</th>\n      <th>AREA</th>\n      <th>CELL_ID</th>\n      <th>SITE_CODE</th>\n    </tr>\n  </thead>\n  <tbody>\n    <tr>\n      <th>0</th>\n      <td>0</td>\n      <td>ADJAME</td>\n      <td>In Service</td>\n      <td>ABIDJAN</td>\n      <td>\"Abidjan_EST</td>\n      <td>AGBANNEW</td>\n      <td>-4.000667</td>\n      <td>5.368194</td>\n      <td>LAGUNE</td>\n      <td>NaN</td>\n      <td>fbb2e75af3</td>\n      <td>0bb492ef17</td>\n    </tr>\n    <tr>\n      <th>1</th>\n      <td>1</td>\n      <td>ADJAME</td>\n      <td>In Service</td>\n      <td>ABIDJAN</td>\n      <td>\"Abidjan_EST</td>\n      <td>AGBANNEW</td>\n      <td>-4.000667</td>\n      <td>5.368194</td>\n      <td>LAGUNE</td>\n      <td>NaN</td>\n      <td>1502501d78</td>\n      <td>0bb492ef17</td>\n    </tr>\n    <tr>\n      <th>2</th>\n      <td>2</td>\n      <td>ADJAME</td>\n      <td>In Service</td>\n      <td>ABIDJAN</td>\n      <td>\"Abidjan_EST</td>\n      <td>AGBANNEW</td>\n      <td>-4.000667</td>\n      <td>5.368194</td>\n      <td>LAGUNE</td>\n      <td>NaN</td>\n      <td>0c2e182a0c</td>\n      <td>0bb492ef17</td>\n    </tr>\n    <tr>\n      <th>3</th>\n      <td>3</td>\n      <td>ASSINIE</td>\n      <td>In Service</td>\n      <td>INTERIEUR</td>\n      <td>Grand-EST</td>\n      <td>ASSINIE\"</td>\n      <td>-3.488467</td>\n      <td>5.158761</td>\n      <td>SUD COMOE</td>\n      <td>NaN</td>\n      <td>69bdfc69fd</td>\n      <td>8a1e6ce31f</td>\n    </tr>\n    <tr>\n      <th>4</th>\n      <td>4</td>\n      <td>ASSINIE</td>\n      <td>In Service</td>\n      <td>INTERIEUR</td>\n      <td>Grand-EST</td>\n      <td>ASSINIE\"</td>\n      <td>-3.488467</td>\n      <td>5.158761</td>\n      <td>SUD COMOE</td>\n      <td>NaN</td>\n      <td>7a1029d2ab</td>\n      <td>8a1e6ce31f</td>\n    </tr>\n  </tbody>\n</table>\n</div>"
     },
     "metadata": {},
     "execution_count": 32
    }
   ],
   "source": [
    "# We need to preview the Cells geo location files to check whether it is okay for merging with \n",
    "# the master dataset.\n",
    "\n",
    "df_cellgeo.head()"
   ]
  },
  {
   "cell_type": "code",
   "execution_count": 33,
   "metadata": {},
   "outputs": [],
   "source": [
    "# We can drop one uneeded column called Unamed since it will not affect our data points.\n",
    "# \n",
    "\n",
    "df_cellgeo.drop('Unnamed: 0', axis=1, inplace=True)"
   ]
  },
  {
   "cell_type": "code",
   "execution_count": 34,
   "metadata": {},
   "outputs": [
    {
     "output_type": "execute_result",
     "data": {
      "text/plain": [
       "        VILLES      STATUS LOCALISATION  DECOUPZONE             ZONENAME  \\\n",
       "3969  ZUENOULA  In Service    INTERIEUR  Grand-NORD  ZONE A - Grand-NORD   \n",
       "3970  ZUENOULA  In Service    INTERIEUR  Grand-NORD  ZONE A - Grand-NORD   \n",
       "3971  ZUENOULA  In Service    INTERIEUR  Grand-NORD  ZONE A - Grand-NORD   \n",
       "3972  ZUENOULA  In Service    INTERIEUR  Grand-NORD  ZONE A - Grand-NORD   \n",
       "3973  ZUENOULA  In Service    INTERIEUR  Grand-NORD  ZONE A - Grand-NORD   \n",
       "\n",
       "      LONGITUDE  LATITUDE    REGION          AREA     CELL_ID   SITE_CODE  \n",
       "3969  -6.039694  7.428611  MARAHOUE  CENTRE NORTH  1cfc2d7ab1  f91ed8d2e9  \n",
       "3970  -6.039694  7.428611  MARAHOUE  CENTRE NORTH  3ae1708153  f91ed8d2e9  \n",
       "3971  -6.065450  7.444592  MARAHOUE  CENTRE NORTH  cb71f8a29c  61bee9c70c  \n",
       "3972  -6.065450  7.444592  MARAHOUE  CENTRE NORTH  d4a6a0b645  61bee9c70c  \n",
       "3973  -6.065450  7.444592  MARAHOUE  CENTRE NORTH  f9f3e42589  61bee9c70c  "
      ],
      "text/html": "<div>\n<style scoped>\n    .dataframe tbody tr th:only-of-type {\n        vertical-align: middle;\n    }\n\n    .dataframe tbody tr th {\n        vertical-align: top;\n    }\n\n    .dataframe thead th {\n        text-align: right;\n    }\n</style>\n<table border=\"1\" class=\"dataframe\">\n  <thead>\n    <tr style=\"text-align: right;\">\n      <th></th>\n      <th>VILLES</th>\n      <th>STATUS</th>\n      <th>LOCALISATION</th>\n      <th>DECOUPZONE</th>\n      <th>ZONENAME</th>\n      <th>LONGITUDE</th>\n      <th>LATITUDE</th>\n      <th>REGION</th>\n      <th>AREA</th>\n      <th>CELL_ID</th>\n      <th>SITE_CODE</th>\n    </tr>\n  </thead>\n  <tbody>\n    <tr>\n      <th>3969</th>\n      <td>ZUENOULA</td>\n      <td>In Service</td>\n      <td>INTERIEUR</td>\n      <td>Grand-NORD</td>\n      <td>ZONE A - Grand-NORD</td>\n      <td>-6.039694</td>\n      <td>7.428611</td>\n      <td>MARAHOUE</td>\n      <td>CENTRE NORTH</td>\n      <td>1cfc2d7ab1</td>\n      <td>f91ed8d2e9</td>\n    </tr>\n    <tr>\n      <th>3970</th>\n      <td>ZUENOULA</td>\n      <td>In Service</td>\n      <td>INTERIEUR</td>\n      <td>Grand-NORD</td>\n      <td>ZONE A - Grand-NORD</td>\n      <td>-6.039694</td>\n      <td>7.428611</td>\n      <td>MARAHOUE</td>\n      <td>CENTRE NORTH</td>\n      <td>3ae1708153</td>\n      <td>f91ed8d2e9</td>\n    </tr>\n    <tr>\n      <th>3971</th>\n      <td>ZUENOULA</td>\n      <td>In Service</td>\n      <td>INTERIEUR</td>\n      <td>Grand-NORD</td>\n      <td>ZONE A - Grand-NORD</td>\n      <td>-6.065450</td>\n      <td>7.444592</td>\n      <td>MARAHOUE</td>\n      <td>CENTRE NORTH</td>\n      <td>cb71f8a29c</td>\n      <td>61bee9c70c</td>\n    </tr>\n    <tr>\n      <th>3972</th>\n      <td>ZUENOULA</td>\n      <td>In Service</td>\n      <td>INTERIEUR</td>\n      <td>Grand-NORD</td>\n      <td>ZONE A - Grand-NORD</td>\n      <td>-6.065450</td>\n      <td>7.444592</td>\n      <td>MARAHOUE</td>\n      <td>CENTRE NORTH</td>\n      <td>d4a6a0b645</td>\n      <td>61bee9c70c</td>\n    </tr>\n    <tr>\n      <th>3973</th>\n      <td>ZUENOULA</td>\n      <td>In Service</td>\n      <td>INTERIEUR</td>\n      <td>Grand-NORD</td>\n      <td>ZONE A - Grand-NORD</td>\n      <td>-6.065450</td>\n      <td>7.444592</td>\n      <td>MARAHOUE</td>\n      <td>CENTRE NORTH</td>\n      <td>f9f3e42589</td>\n      <td>61bee9c70c</td>\n    </tr>\n  </tbody>\n</table>\n</div>"
     },
     "metadata": {},
     "execution_count": 34
    }
   ],
   "source": [
    "# we check for changes\n",
    "# \n",
    "\n",
    "df_cellgeo.tail()"
   ]
  },
  {
   "cell_type": "code",
   "execution_count": 42,
   "metadata": {},
   "outputs": [],
   "source": [
    "# Now we can merge with the master data sets.\n",
    "# we have two identical columns so we have to combine them\n",
    "\n",
    "mergedmaster = pd.merge(master_datasets, df_cellgeo, how='inner',left_on=\"Site_id\",right_on=\"SITE_CODE\")"
   ]
  },
  {
   "cell_type": "code",
   "execution_count": 43,
   "metadata": {},
   "outputs": [
    {
     "output_type": "execute_result",
     "data": {
      "text/plain": [
       "  Product  Bill_Price             DW_A             DW_B     Cell_id  \\\n",
       "0     sms           0  8118c3aa53d6c7b  1d103ea638ad1f0  5d9dc897f7   \n",
       "1     sms           0  8118c3aa53d6c7b  1d103ea638ad1f0  5d9dc897f7   \n",
       "2     sms           0  8118c3aa53d6c7b  1d103ea638ad1f0  5d9dc897f7   \n",
       "3     sms           0  8118c3aa53d6c7b  1d103ea638ad1f0  5d9dc897f7   \n",
       "4     sms           0  8118c3aa53d6c7b  1d103ea638ad1f0  5d9dc897f7   \n",
       "\n",
       "      Site_id        Date        time  VILLES      STATUS LOCALISATION  \\\n",
       "0  1b5540c02d  2012-05-07  00:00:00.0  BOUAKE  In Service    INTERIEUR   \n",
       "1  1b5540c02d  2012-05-07  00:00:00.0  BOUAKE  In Service    INTERIEUR   \n",
       "2  1b5540c02d  2012-05-07  00:00:00.0  BOUAKE  In Service    INTERIEUR   \n",
       "3  1b5540c02d  2012-05-07  00:00:00.0  BOUAKE  In Service    INTERIEUR   \n",
       "4  1b5540c02d  2012-05-07  00:00:00.0  BOUAKE  In Service    INTERIEUR   \n",
       "\n",
       "   DECOUPZONE             ZONENAME  LONGITUDE  LATITUDE             REGION  \\\n",
       "0  Grand-NORD  ZONE A - Grand-NORD  -5.027139  7.718417  VALLEE DU BANDAMA   \n",
       "1  Grand-NORD  ZONE A - Grand-NORD  -5.027139  7.718417  VALLEE DU BANDAMA   \n",
       "2  Grand-NORD  ZONE A - Grand-NORD  -5.027139  7.718417  VALLEE DU BANDAMA   \n",
       "3  Grand-NORD  ZONE A - Grand-NORD  -5.027139  7.718417  VALLEE DU BANDAMA   \n",
       "4  Grand-NORD  ZONE A - Grand-NORD  -5.027139  7.718417  VALLEE DU BANDAMA   \n",
       "\n",
       "           AREA     CELL_ID   SITE_CODE  \n",
       "0  CENTRE NORTH  24ccdda3d5  1b5540c02d  \n",
       "1  CENTRE NORTH  ebfc58af70  1b5540c02d  \n",
       "2  CENTRE NORTH  ba8ce6e4ef  1b5540c02d  \n",
       "3  CENTRE NORTH  c2545171dc  1b5540c02d  \n",
       "4  CENTRE NORTH  f15bd5483f  1b5540c02d  "
      ],
      "text/html": "<div>\n<style scoped>\n    .dataframe tbody tr th:only-of-type {\n        vertical-align: middle;\n    }\n\n    .dataframe tbody tr th {\n        vertical-align: top;\n    }\n\n    .dataframe thead th {\n        text-align: right;\n    }\n</style>\n<table border=\"1\" class=\"dataframe\">\n  <thead>\n    <tr style=\"text-align: right;\">\n      <th></th>\n      <th>Product</th>\n      <th>Bill_Price</th>\n      <th>DW_A</th>\n      <th>DW_B</th>\n      <th>Cell_id</th>\n      <th>Site_id</th>\n      <th>Date</th>\n      <th>time</th>\n      <th>VILLES</th>\n      <th>STATUS</th>\n      <th>LOCALISATION</th>\n      <th>DECOUPZONE</th>\n      <th>ZONENAME</th>\n      <th>LONGITUDE</th>\n      <th>LATITUDE</th>\n      <th>REGION</th>\n      <th>AREA</th>\n      <th>CELL_ID</th>\n      <th>SITE_CODE</th>\n    </tr>\n  </thead>\n  <tbody>\n    <tr>\n      <th>0</th>\n      <td>sms</td>\n      <td>0</td>\n      <td>8118c3aa53d6c7b</td>\n      <td>1d103ea638ad1f0</td>\n      <td>5d9dc897f7</td>\n      <td>1b5540c02d</td>\n      <td>2012-05-07</td>\n      <td>00:00:00.0</td>\n      <td>BOUAKE</td>\n      <td>In Service</td>\n      <td>INTERIEUR</td>\n      <td>Grand-NORD</td>\n      <td>ZONE A - Grand-NORD</td>\n      <td>-5.027139</td>\n      <td>7.718417</td>\n      <td>VALLEE DU BANDAMA</td>\n      <td>CENTRE NORTH</td>\n      <td>24ccdda3d5</td>\n      <td>1b5540c02d</td>\n    </tr>\n    <tr>\n      <th>1</th>\n      <td>sms</td>\n      <td>0</td>\n      <td>8118c3aa53d6c7b</td>\n      <td>1d103ea638ad1f0</td>\n      <td>5d9dc897f7</td>\n      <td>1b5540c02d</td>\n      <td>2012-05-07</td>\n      <td>00:00:00.0</td>\n      <td>BOUAKE</td>\n      <td>In Service</td>\n      <td>INTERIEUR</td>\n      <td>Grand-NORD</td>\n      <td>ZONE A - Grand-NORD</td>\n      <td>-5.027139</td>\n      <td>7.718417</td>\n      <td>VALLEE DU BANDAMA</td>\n      <td>CENTRE NORTH</td>\n      <td>ebfc58af70</td>\n      <td>1b5540c02d</td>\n    </tr>\n    <tr>\n      <th>2</th>\n      <td>sms</td>\n      <td>0</td>\n      <td>8118c3aa53d6c7b</td>\n      <td>1d103ea638ad1f0</td>\n      <td>5d9dc897f7</td>\n      <td>1b5540c02d</td>\n      <td>2012-05-07</td>\n      <td>00:00:00.0</td>\n      <td>BOUAKE</td>\n      <td>In Service</td>\n      <td>INTERIEUR</td>\n      <td>Grand-NORD</td>\n      <td>ZONE A - Grand-NORD</td>\n      <td>-5.027139</td>\n      <td>7.718417</td>\n      <td>VALLEE DU BANDAMA</td>\n      <td>CENTRE NORTH</td>\n      <td>ba8ce6e4ef</td>\n      <td>1b5540c02d</td>\n    </tr>\n    <tr>\n      <th>3</th>\n      <td>sms</td>\n      <td>0</td>\n      <td>8118c3aa53d6c7b</td>\n      <td>1d103ea638ad1f0</td>\n      <td>5d9dc897f7</td>\n      <td>1b5540c02d</td>\n      <td>2012-05-07</td>\n      <td>00:00:00.0</td>\n      <td>BOUAKE</td>\n      <td>In Service</td>\n      <td>INTERIEUR</td>\n      <td>Grand-NORD</td>\n      <td>ZONE A - Grand-NORD</td>\n      <td>-5.027139</td>\n      <td>7.718417</td>\n      <td>VALLEE DU BANDAMA</td>\n      <td>CENTRE NORTH</td>\n      <td>c2545171dc</td>\n      <td>1b5540c02d</td>\n    </tr>\n    <tr>\n      <th>4</th>\n      <td>sms</td>\n      <td>0</td>\n      <td>8118c3aa53d6c7b</td>\n      <td>1d103ea638ad1f0</td>\n      <td>5d9dc897f7</td>\n      <td>1b5540c02d</td>\n      <td>2012-05-07</td>\n      <td>00:00:00.0</td>\n      <td>BOUAKE</td>\n      <td>In Service</td>\n      <td>INTERIEUR</td>\n      <td>Grand-NORD</td>\n      <td>ZONE A - Grand-NORD</td>\n      <td>-5.027139</td>\n      <td>7.718417</td>\n      <td>VALLEE DU BANDAMA</td>\n      <td>CENTRE NORTH</td>\n      <td>f15bd5483f</td>\n      <td>1b5540c02d</td>\n    </tr>\n  </tbody>\n</table>\n</div>"
     },
     "metadata": {},
     "execution_count": 43
    }
   ],
   "source": [
    "# Preview changes to our final data set.\n",
    "# \n",
    "\n",
    "mergedmaster.head()"
   ]
  },
  {
   "cell_type": "code",
   "execution_count": 45,
   "metadata": {},
   "outputs": [],
   "source": [
    "# We need to drop Identical column\n",
    "# \n",
    "to_drop = ['Cell_id','Site_id']\n",
    "mergedmaster.drop(to_drop, axis=1, inplace=True)"
   ]
  },
  {
   "cell_type": "code",
   "execution_count": 46,
   "metadata": {},
   "outputs": [
    {
     "output_type": "execute_result",
     "data": {
      "text/plain": [
       "  Product  Bill_Price             DW_A             DW_B        Date  \\\n",
       "0     sms           0  8118c3aa53d6c7b  1d103ea638ad1f0  2012-05-07   \n",
       "1     sms           0  8118c3aa53d6c7b  1d103ea638ad1f0  2012-05-07   \n",
       "2     sms           0  8118c3aa53d6c7b  1d103ea638ad1f0  2012-05-07   \n",
       "3     sms           0  8118c3aa53d6c7b  1d103ea638ad1f0  2012-05-07   \n",
       "4     sms           0  8118c3aa53d6c7b  1d103ea638ad1f0  2012-05-07   \n",
       "\n",
       "         time  VILLES      STATUS LOCALISATION  DECOUPZONE  \\\n",
       "0  00:00:00.0  BOUAKE  In Service    INTERIEUR  Grand-NORD   \n",
       "1  00:00:00.0  BOUAKE  In Service    INTERIEUR  Grand-NORD   \n",
       "2  00:00:00.0  BOUAKE  In Service    INTERIEUR  Grand-NORD   \n",
       "3  00:00:00.0  BOUAKE  In Service    INTERIEUR  Grand-NORD   \n",
       "4  00:00:00.0  BOUAKE  In Service    INTERIEUR  Grand-NORD   \n",
       "\n",
       "              ZONENAME  LONGITUDE  LATITUDE             REGION          AREA  \\\n",
       "0  ZONE A - Grand-NORD  -5.027139  7.718417  VALLEE DU BANDAMA  CENTRE NORTH   \n",
       "1  ZONE A - Grand-NORD  -5.027139  7.718417  VALLEE DU BANDAMA  CENTRE NORTH   \n",
       "2  ZONE A - Grand-NORD  -5.027139  7.718417  VALLEE DU BANDAMA  CENTRE NORTH   \n",
       "3  ZONE A - Grand-NORD  -5.027139  7.718417  VALLEE DU BANDAMA  CENTRE NORTH   \n",
       "4  ZONE A - Grand-NORD  -5.027139  7.718417  VALLEE DU BANDAMA  CENTRE NORTH   \n",
       "\n",
       "      CELL_ID   SITE_CODE  \n",
       "0  24ccdda3d5  1b5540c02d  \n",
       "1  ebfc58af70  1b5540c02d  \n",
       "2  ba8ce6e4ef  1b5540c02d  \n",
       "3  c2545171dc  1b5540c02d  \n",
       "4  f15bd5483f  1b5540c02d  "
      ],
      "text/html": "<div>\n<style scoped>\n    .dataframe tbody tr th:only-of-type {\n        vertical-align: middle;\n    }\n\n    .dataframe tbody tr th {\n        vertical-align: top;\n    }\n\n    .dataframe thead th {\n        text-align: right;\n    }\n</style>\n<table border=\"1\" class=\"dataframe\">\n  <thead>\n    <tr style=\"text-align: right;\">\n      <th></th>\n      <th>Product</th>\n      <th>Bill_Price</th>\n      <th>DW_A</th>\n      <th>DW_B</th>\n      <th>Date</th>\n      <th>time</th>\n      <th>VILLES</th>\n      <th>STATUS</th>\n      <th>LOCALISATION</th>\n      <th>DECOUPZONE</th>\n      <th>ZONENAME</th>\n      <th>LONGITUDE</th>\n      <th>LATITUDE</th>\n      <th>REGION</th>\n      <th>AREA</th>\n      <th>CELL_ID</th>\n      <th>SITE_CODE</th>\n    </tr>\n  </thead>\n  <tbody>\n    <tr>\n      <th>0</th>\n      <td>sms</td>\n      <td>0</td>\n      <td>8118c3aa53d6c7b</td>\n      <td>1d103ea638ad1f0</td>\n      <td>2012-05-07</td>\n      <td>00:00:00.0</td>\n      <td>BOUAKE</td>\n      <td>In Service</td>\n      <td>INTERIEUR</td>\n      <td>Grand-NORD</td>\n      <td>ZONE A - Grand-NORD</td>\n      <td>-5.027139</td>\n      <td>7.718417</td>\n      <td>VALLEE DU BANDAMA</td>\n      <td>CENTRE NORTH</td>\n      <td>24ccdda3d5</td>\n      <td>1b5540c02d</td>\n    </tr>\n    <tr>\n      <th>1</th>\n      <td>sms</td>\n      <td>0</td>\n      <td>8118c3aa53d6c7b</td>\n      <td>1d103ea638ad1f0</td>\n      <td>2012-05-07</td>\n      <td>00:00:00.0</td>\n      <td>BOUAKE</td>\n      <td>In Service</td>\n      <td>INTERIEUR</td>\n      <td>Grand-NORD</td>\n      <td>ZONE A - Grand-NORD</td>\n      <td>-5.027139</td>\n      <td>7.718417</td>\n      <td>VALLEE DU BANDAMA</td>\n      <td>CENTRE NORTH</td>\n      <td>ebfc58af70</td>\n      <td>1b5540c02d</td>\n    </tr>\n    <tr>\n      <th>2</th>\n      <td>sms</td>\n      <td>0</td>\n      <td>8118c3aa53d6c7b</td>\n      <td>1d103ea638ad1f0</td>\n      <td>2012-05-07</td>\n      <td>00:00:00.0</td>\n      <td>BOUAKE</td>\n      <td>In Service</td>\n      <td>INTERIEUR</td>\n      <td>Grand-NORD</td>\n      <td>ZONE A - Grand-NORD</td>\n      <td>-5.027139</td>\n      <td>7.718417</td>\n      <td>VALLEE DU BANDAMA</td>\n      <td>CENTRE NORTH</td>\n      <td>ba8ce6e4ef</td>\n      <td>1b5540c02d</td>\n    </tr>\n    <tr>\n      <th>3</th>\n      <td>sms</td>\n      <td>0</td>\n      <td>8118c3aa53d6c7b</td>\n      <td>1d103ea638ad1f0</td>\n      <td>2012-05-07</td>\n      <td>00:00:00.0</td>\n      <td>BOUAKE</td>\n      <td>In Service</td>\n      <td>INTERIEUR</td>\n      <td>Grand-NORD</td>\n      <td>ZONE A - Grand-NORD</td>\n      <td>-5.027139</td>\n      <td>7.718417</td>\n      <td>VALLEE DU BANDAMA</td>\n      <td>CENTRE NORTH</td>\n      <td>c2545171dc</td>\n      <td>1b5540c02d</td>\n    </tr>\n    <tr>\n      <th>4</th>\n      <td>sms</td>\n      <td>0</td>\n      <td>8118c3aa53d6c7b</td>\n      <td>1d103ea638ad1f0</td>\n      <td>2012-05-07</td>\n      <td>00:00:00.0</td>\n      <td>BOUAKE</td>\n      <td>In Service</td>\n      <td>INTERIEUR</td>\n      <td>Grand-NORD</td>\n      <td>ZONE A - Grand-NORD</td>\n      <td>-5.027139</td>\n      <td>7.718417</td>\n      <td>VALLEE DU BANDAMA</td>\n      <td>CENTRE NORTH</td>\n      <td>f15bd5483f</td>\n      <td>1b5540c02d</td>\n    </tr>\n  </tbody>\n</table>\n</div>"
     },
     "metadata": {},
     "execution_count": 46
    }
   ],
   "source": [
    "# Check for changes\n",
    "# We have succesfully clean our data now we can sample out what we need.\n",
    "\n",
    "mergedmaster.head()"
   ]
  },
  {
   "cell_type": "code",
   "execution_count": 54,
   "metadata": {},
   "outputs": [
    {
     "output_type": "stream",
     "name": "stdout",
     "text": [
      "<class 'pandas.core.frame.DataFrame'>\nInt64Index: 50318 entries, 0 to 50317\nData columns (total 17 columns):\n #   Column        Non-Null Count  Dtype  \n---  ------        --------------  -----  \n 0   Product       50318 non-null  object \n 1   Bill_Price    50318 non-null  int64  \n 2   DW_A          50318 non-null  object \n 3   DW_B          50318 non-null  object \n 4   Date          50318 non-null  object \n 5   time          50318 non-null  object \n 6   VILLES        50318 non-null  object \n 7   STATUS        49615 non-null  object \n 8   LOCALISATION  50318 non-null  object \n 9   DECOUPZONE    50318 non-null  object \n 10  ZONENAME      50300 non-null  object \n 11  LONGITUDE     50318 non-null  float64\n 12  LATITUDE      50318 non-null  float64\n 13  REGION        50318 non-null  object \n 14  AREA          50062 non-null  object \n 15  CELL_ID       50318 non-null  object \n 16  SITE_CODE     50318 non-null  object \ndtypes: float64(2), int64(1), object(14)\nmemory usage: 6.9+ MB\n"
     ]
    }
   ],
   "source": [
    "# \n",
    "\n",
    "mergedmaster.isnull().sum()\n",
    "\n",
    "mergedmaster.info()\n",
    "\n",
    "\n"
   ]
  },
  {
   "cell_type": "code",
   "execution_count": 115,
   "metadata": {},
   "outputs": [
    {
     "output_type": "stream",
     "name": "stdout",
     "text": [
      "sms      0.577368\nVoice    0.422632\nName: Product, dtype: float64\n"
     ]
    }
   ],
   "source": [
    "# We can go through our data points to find busiest cells.\n",
    "# Overloaded cells\n",
    "# Here we see sms is more prominent with 57% and Voice being 42%\n",
    "plot1 = mergedmaster[\"Product\"].value_counts(normalize=True)\n",
    "print(plot1)"
   ]
  },
  {
   "cell_type": "code",
   "execution_count": 122,
   "metadata": {},
   "outputs": [
    {
     "output_type": "execute_result",
     "data": {
      "text/plain": [
       "<AxesSubplot:>"
      ]
     },
     "metadata": {},
     "execution_count": 122
    },
    {
     "output_type": "display_data",
     "data": {
      "text/plain": "<Figure size 460.8x316.8 with 1 Axes>",
      "image/svg+xml": "<?xml version=\"1.0\" encoding=\"utf-8\" standalone=\"no\"?>\r\n<!DOCTYPE svg PUBLIC \"-//W3C//DTD SVG 1.1//EN\"\r\n  \"http://www.w3.org/Graphics/SVG/1.1/DTD/svg11.dtd\">\r\n<!-- Created with matplotlib (https://matplotlib.org/) -->\r\n<svg height=\"284.554146pt\" version=\"1.1\" viewBox=\"0 0 393.3425 284.554146\" width=\"393.3425pt\" xmlns=\"http://www.w3.org/2000/svg\" xmlns:xlink=\"http://www.w3.org/1999/xlink\">\r\n <metadata>\r\n  <rdf:RDF xmlns:cc=\"http://creativecommons.org/ns#\" xmlns:dc=\"http://purl.org/dc/elements/1.1/\" xmlns:rdf=\"http://www.w3.org/1999/02/22-rdf-syntax-ns#\">\r\n   <cc:Work>\r\n    <dc:type rdf:resource=\"http://purl.org/dc/dcmitype/StillImage\"/>\r\n    <dc:date>2021-02-04T20:46:16.239722</dc:date>\r\n    <dc:format>image/svg+xml</dc:format>\r\n    <dc:creator>\r\n     <cc:Agent>\r\n      <dc:title>Matplotlib v3.3.2, https://matplotlib.org/</dc:title>\r\n     </cc:Agent>\r\n    </dc:creator>\r\n   </cc:Work>\r\n  </rdf:RDF>\r\n </metadata>\r\n <defs>\r\n  <style type=\"text/css\">*{stroke-linecap:butt;stroke-linejoin:round;}</style>\r\n </defs>\r\n <g id=\"figure_1\">\r\n  <g id=\"patch_1\">\r\n   <path d=\"M 0 284.554146 \r\nL 393.3425 284.554146 \r\nL 393.3425 0 \r\nL 0 0 \r\nz\r\n\" style=\"fill:none;\"/>\r\n  </g>\r\n  <g id=\"axes_1\">\r\n   <g id=\"patch_2\">\r\n    <path d=\"M 29.0225 246.962896 \r\nL 386.1425 246.962896 \r\nL 386.1425 7.778896 \r\nL 29.0225 7.778896 \r\nz\r\n\" style=\"fill:#e5e5e5;\"/>\r\n   </g>\r\n   <g id=\"matplotlib.axis_1\">\r\n    <g id=\"xtick_1\">\r\n     <g id=\"line2d_1\">\r\n      <path clip-path=\"url(#p747b3324d3)\" d=\"M 118.3025 246.962896 \r\nL 118.3025 7.778896 \r\n\" style=\"fill:none;stroke:#ffffff;stroke-linecap:square;stroke-width:0.8;\"/>\r\n     </g>\r\n     <g id=\"line2d_2\">\r\n      <defs>\r\n       <path d=\"M 0 0 \r\nL 0 3.5 \r\n\" id=\"mbad66dca64\" style=\"stroke:#555555;stroke-width:0.8;\"/>\r\n      </defs>\r\n      <g>\r\n       <use style=\"fill:#555555;stroke:#555555;stroke-width:0.8;\" x=\"118.3025\" xlink:href=\"#mbad66dca64\" y=\"246.962896\"/>\r\n      </g>\r\n     </g>\r\n     <g id=\"text_1\">\r\n      <!-- sms -->\r\n      <g style=\"fill:#555555;\" transform=\"translate(120.51 272.190396)rotate(-90)scale(0.08 -0.08)\">\r\n       <defs>\r\n        <path d=\"M 44.28125 53.078125 \r\nL 44.28125 44.578125 \r\nQ 40.484375 46.53125 36.375 47.5 \r\nQ 32.28125 48.484375 27.875 48.484375 \r\nQ 21.1875 48.484375 17.84375 46.4375 \r\nQ 14.5 44.390625 14.5 40.28125 \r\nQ 14.5 37.15625 16.890625 35.375 \r\nQ 19.28125 33.59375 26.515625 31.984375 \r\nL 29.59375 31.296875 \r\nQ 39.15625 29.25 43.1875 25.515625 \r\nQ 47.21875 21.78125 47.21875 15.09375 \r\nQ 47.21875 7.46875 41.1875 3.015625 \r\nQ 35.15625 -1.421875 24.609375 -1.421875 \r\nQ 20.21875 -1.421875 15.453125 -0.5625 \r\nQ 10.6875 0.296875 5.421875 2 \r\nL 5.421875 11.28125 \r\nQ 10.40625 8.6875 15.234375 7.390625 \r\nQ 20.0625 6.109375 24.8125 6.109375 \r\nQ 31.15625 6.109375 34.5625 8.28125 \r\nQ 37.984375 10.453125 37.984375 14.40625 \r\nQ 37.984375 18.0625 35.515625 20.015625 \r\nQ 33.0625 21.96875 24.703125 23.78125 \r\nL 21.578125 24.515625 \r\nQ 13.234375 26.265625 9.515625 29.90625 \r\nQ 5.8125 33.546875 5.8125 39.890625 \r\nQ 5.8125 47.609375 11.28125 51.796875 \r\nQ 16.75 56 26.8125 56 \r\nQ 31.78125 56 36.171875 55.265625 \r\nQ 40.578125 54.546875 44.28125 53.078125 \r\nz\r\n\" id=\"DejaVuSans-115\"/>\r\n        <path d=\"M 52 44.1875 \r\nQ 55.375 50.25 60.0625 53.125 \r\nQ 64.75 56 71.09375 56 \r\nQ 79.640625 56 84.28125 50.015625 \r\nQ 88.921875 44.046875 88.921875 33.015625 \r\nL 88.921875 0 \r\nL 79.890625 0 \r\nL 79.890625 32.71875 \r\nQ 79.890625 40.578125 77.09375 44.375 \r\nQ 74.3125 48.1875 68.609375 48.1875 \r\nQ 61.625 48.1875 57.5625 43.546875 \r\nQ 53.515625 38.921875 53.515625 30.90625 \r\nL 53.515625 0 \r\nL 44.484375 0 \r\nL 44.484375 32.71875 \r\nQ 44.484375 40.625 41.703125 44.40625 \r\nQ 38.921875 48.1875 33.109375 48.1875 \r\nQ 26.21875 48.1875 22.15625 43.53125 \r\nQ 18.109375 38.875 18.109375 30.90625 \r\nL 18.109375 0 \r\nL 9.078125 0 \r\nL 9.078125 54.6875 \r\nL 18.109375 54.6875 \r\nL 18.109375 46.1875 \r\nQ 21.1875 51.21875 25.484375 53.609375 \r\nQ 29.78125 56 35.6875 56 \r\nQ 41.65625 56 45.828125 52.96875 \r\nQ 50 49.953125 52 44.1875 \r\nz\r\n\" id=\"DejaVuSans-109\"/>\r\n       </defs>\r\n       <use xlink:href=\"#DejaVuSans-115\"/>\r\n       <use x=\"52.099609\" xlink:href=\"#DejaVuSans-109\"/>\r\n       <use x=\"149.511719\" xlink:href=\"#DejaVuSans-115\"/>\r\n      </g>\r\n     </g>\r\n    </g>\r\n    <g id=\"xtick_2\">\r\n     <g id=\"line2d_3\">\r\n      <path clip-path=\"url(#p747b3324d3)\" d=\"M 296.8625 246.962896 \r\nL 296.8625 7.778896 \r\n\" style=\"fill:none;stroke:#ffffff;stroke-linecap:square;stroke-width:0.8;\"/>\r\n     </g>\r\n     <g id=\"line2d_4\">\r\n      <g>\r\n       <use style=\"fill:#555555;stroke:#555555;stroke-width:0.8;\" x=\"296.8625\" xlink:href=\"#mbad66dca64\" y=\"246.962896\"/>\r\n      </g>\r\n     </g>\r\n     <g id=\"text_2\">\r\n      <!-- Voice -->\r\n      <g style=\"fill:#555555;\" transform=\"translate(299.07 277.354146)rotate(-90)scale(0.08 -0.08)\">\r\n       <defs>\r\n        <path d=\"M 28.609375 0 \r\nL 0.78125 72.90625 \r\nL 11.078125 72.90625 \r\nL 34.1875 11.53125 \r\nL 57.328125 72.90625 \r\nL 67.578125 72.90625 \r\nL 39.796875 0 \r\nz\r\n\" id=\"DejaVuSans-86\"/>\r\n        <path d=\"M 30.609375 48.390625 \r\nQ 23.390625 48.390625 19.1875 42.75 \r\nQ 14.984375 37.109375 14.984375 27.296875 \r\nQ 14.984375 17.484375 19.15625 11.84375 \r\nQ 23.34375 6.203125 30.609375 6.203125 \r\nQ 37.796875 6.203125 41.984375 11.859375 \r\nQ 46.1875 17.53125 46.1875 27.296875 \r\nQ 46.1875 37.015625 41.984375 42.703125 \r\nQ 37.796875 48.390625 30.609375 48.390625 \r\nz\r\nM 30.609375 56 \r\nQ 42.328125 56 49.015625 48.375 \r\nQ 55.71875 40.765625 55.71875 27.296875 \r\nQ 55.71875 13.875 49.015625 6.21875 \r\nQ 42.328125 -1.421875 30.609375 -1.421875 \r\nQ 18.84375 -1.421875 12.171875 6.21875 \r\nQ 5.515625 13.875 5.515625 27.296875 \r\nQ 5.515625 40.765625 12.171875 48.375 \r\nQ 18.84375 56 30.609375 56 \r\nz\r\n\" id=\"DejaVuSans-111\"/>\r\n        <path d=\"M 9.421875 54.6875 \r\nL 18.40625 54.6875 \r\nL 18.40625 0 \r\nL 9.421875 0 \r\nz\r\nM 9.421875 75.984375 \r\nL 18.40625 75.984375 \r\nL 18.40625 64.59375 \r\nL 9.421875 64.59375 \r\nz\r\n\" id=\"DejaVuSans-105\"/>\r\n        <path d=\"M 48.78125 52.59375 \r\nL 48.78125 44.1875 \r\nQ 44.96875 46.296875 41.140625 47.34375 \r\nQ 37.3125 48.390625 33.40625 48.390625 \r\nQ 24.65625 48.390625 19.8125 42.84375 \r\nQ 14.984375 37.3125 14.984375 27.296875 \r\nQ 14.984375 17.28125 19.8125 11.734375 \r\nQ 24.65625 6.203125 33.40625 6.203125 \r\nQ 37.3125 6.203125 41.140625 7.25 \r\nQ 44.96875 8.296875 48.78125 10.40625 \r\nL 48.78125 2.09375 \r\nQ 45.015625 0.34375 40.984375 -0.53125 \r\nQ 36.96875 -1.421875 32.421875 -1.421875 \r\nQ 20.0625 -1.421875 12.78125 6.34375 \r\nQ 5.515625 14.109375 5.515625 27.296875 \r\nQ 5.515625 40.671875 12.859375 48.328125 \r\nQ 20.21875 56 33.015625 56 \r\nQ 37.15625 56 41.109375 55.140625 \r\nQ 45.0625 54.296875 48.78125 52.59375 \r\nz\r\n\" id=\"DejaVuSans-99\"/>\r\n        <path d=\"M 56.203125 29.59375 \r\nL 56.203125 25.203125 \r\nL 14.890625 25.203125 \r\nQ 15.484375 15.921875 20.484375 11.0625 \r\nQ 25.484375 6.203125 34.421875 6.203125 \r\nQ 39.59375 6.203125 44.453125 7.46875 \r\nQ 49.3125 8.734375 54.109375 11.28125 \r\nL 54.109375 2.78125 \r\nQ 49.265625 0.734375 44.1875 -0.34375 \r\nQ 39.109375 -1.421875 33.890625 -1.421875 \r\nQ 20.796875 -1.421875 13.15625 6.1875 \r\nQ 5.515625 13.8125 5.515625 26.8125 \r\nQ 5.515625 40.234375 12.765625 48.109375 \r\nQ 20.015625 56 32.328125 56 \r\nQ 43.359375 56 49.78125 48.890625 \r\nQ 56.203125 41.796875 56.203125 29.59375 \r\nz\r\nM 47.21875 32.234375 \r\nQ 47.125 39.59375 43.09375 43.984375 \r\nQ 39.0625 48.390625 32.421875 48.390625 \r\nQ 24.90625 48.390625 20.390625 44.140625 \r\nQ 15.875 39.890625 15.1875 32.171875 \r\nz\r\n\" id=\"DejaVuSans-101\"/>\r\n       </defs>\r\n       <use xlink:href=\"#DejaVuSans-86\"/>\r\n       <use x=\"60.658203\" xlink:href=\"#DejaVuSans-111\"/>\r\n       <use x=\"121.839844\" xlink:href=\"#DejaVuSans-105\"/>\r\n       <use x=\"149.623047\" xlink:href=\"#DejaVuSans-99\"/>\r\n       <use x=\"204.603516\" xlink:href=\"#DejaVuSans-101\"/>\r\n      </g>\r\n     </g>\r\n    </g>\r\n   </g>\r\n   <g id=\"matplotlib.axis_2\">\r\n    <g id=\"ytick_1\">\r\n     <g id=\"line2d_5\">\r\n      <path clip-path=\"url(#p747b3324d3)\" d=\"M 29.0225 246.962896 \r\nL 386.1425 246.962896 \r\n\" style=\"fill:none;stroke:#ffffff;stroke-linecap:square;stroke-width:0.8;\"/>\r\n     </g>\r\n     <g id=\"line2d_6\">\r\n      <defs>\r\n       <path d=\"M 0 0 \r\nL -3.5 0 \r\n\" id=\"mb996c14e65\" style=\"stroke:#555555;stroke-width:0.8;\"/>\r\n      </defs>\r\n      <g>\r\n       <use style=\"fill:#555555;stroke:#555555;stroke-width:0.8;\" x=\"29.0225\" xlink:href=\"#mb996c14e65\" y=\"246.962896\"/>\r\n      </g>\r\n     </g>\r\n     <g id=\"text_3\">\r\n      <!-- 0.0 -->\r\n      <g style=\"fill:#555555;\" transform=\"translate(7.2 250.002271)scale(0.08 -0.08)\">\r\n       <defs>\r\n        <path d=\"M 31.78125 66.40625 \r\nQ 24.171875 66.40625 20.328125 58.90625 \r\nQ 16.5 51.421875 16.5 36.375 \r\nQ 16.5 21.390625 20.328125 13.890625 \r\nQ 24.171875 6.390625 31.78125 6.390625 \r\nQ 39.453125 6.390625 43.28125 13.890625 \r\nQ 47.125 21.390625 47.125 36.375 \r\nQ 47.125 51.421875 43.28125 58.90625 \r\nQ 39.453125 66.40625 31.78125 66.40625 \r\nz\r\nM 31.78125 74.21875 \r\nQ 44.046875 74.21875 50.515625 64.515625 \r\nQ 56.984375 54.828125 56.984375 36.375 \r\nQ 56.984375 17.96875 50.515625 8.265625 \r\nQ 44.046875 -1.421875 31.78125 -1.421875 \r\nQ 19.53125 -1.421875 13.0625 8.265625 \r\nQ 6.59375 17.96875 6.59375 36.375 \r\nQ 6.59375 54.828125 13.0625 64.515625 \r\nQ 19.53125 74.21875 31.78125 74.21875 \r\nz\r\n\" id=\"DejaVuSans-48\"/>\r\n        <path d=\"M 10.6875 12.40625 \r\nL 21 12.40625 \r\nL 21 0 \r\nL 10.6875 0 \r\nz\r\n\" id=\"DejaVuSans-46\"/>\r\n       </defs>\r\n       <use xlink:href=\"#DejaVuSans-48\"/>\r\n       <use x=\"63.623047\" xlink:href=\"#DejaVuSans-46\"/>\r\n       <use x=\"95.410156\" xlink:href=\"#DejaVuSans-48\"/>\r\n      </g>\r\n     </g>\r\n    </g>\r\n    <g id=\"ytick_2\">\r\n     <g id=\"line2d_7\">\r\n      <path clip-path=\"url(#p747b3324d3)\" d=\"M 29.0225 207.508976 \r\nL 386.1425 207.508976 \r\n\" style=\"fill:none;stroke:#ffffff;stroke-linecap:square;stroke-width:0.8;\"/>\r\n     </g>\r\n     <g id=\"line2d_8\">\r\n      <g>\r\n       <use style=\"fill:#555555;stroke:#555555;stroke-width:0.8;\" x=\"29.0225\" xlink:href=\"#mb996c14e65\" y=\"207.508976\"/>\r\n      </g>\r\n     </g>\r\n     <g id=\"text_4\">\r\n      <!-- 0.1 -->\r\n      <g style=\"fill:#555555;\" transform=\"translate(7.2 210.548351)scale(0.08 -0.08)\">\r\n       <defs>\r\n        <path d=\"M 12.40625 8.296875 \r\nL 28.515625 8.296875 \r\nL 28.515625 63.921875 \r\nL 10.984375 60.40625 \r\nL 10.984375 69.390625 \r\nL 28.421875 72.90625 \r\nL 38.28125 72.90625 \r\nL 38.28125 8.296875 \r\nL 54.390625 8.296875 \r\nL 54.390625 0 \r\nL 12.40625 0 \r\nz\r\n\" id=\"DejaVuSans-49\"/>\r\n       </defs>\r\n       <use xlink:href=\"#DejaVuSans-48\"/>\r\n       <use x=\"63.623047\" xlink:href=\"#DejaVuSans-46\"/>\r\n       <use x=\"95.410156\" xlink:href=\"#DejaVuSans-49\"/>\r\n      </g>\r\n     </g>\r\n    </g>\r\n    <g id=\"ytick_3\">\r\n     <g id=\"line2d_9\">\r\n      <path clip-path=\"url(#p747b3324d3)\" d=\"M 29.0225 168.055055 \r\nL 386.1425 168.055055 \r\n\" style=\"fill:none;stroke:#ffffff;stroke-linecap:square;stroke-width:0.8;\"/>\r\n     </g>\r\n     <g id=\"line2d_10\">\r\n      <g>\r\n       <use style=\"fill:#555555;stroke:#555555;stroke-width:0.8;\" x=\"29.0225\" xlink:href=\"#mb996c14e65\" y=\"168.055055\"/>\r\n      </g>\r\n     </g>\r\n     <g id=\"text_5\">\r\n      <!-- 0.2 -->\r\n      <g style=\"fill:#555555;\" transform=\"translate(7.2 171.09443)scale(0.08 -0.08)\">\r\n       <defs>\r\n        <path d=\"M 19.1875 8.296875 \r\nL 53.609375 8.296875 \r\nL 53.609375 0 \r\nL 7.328125 0 \r\nL 7.328125 8.296875 \r\nQ 12.9375 14.109375 22.625 23.890625 \r\nQ 32.328125 33.6875 34.8125 36.53125 \r\nQ 39.546875 41.84375 41.421875 45.53125 \r\nQ 43.3125 49.21875 43.3125 52.78125 \r\nQ 43.3125 58.59375 39.234375 62.25 \r\nQ 35.15625 65.921875 28.609375 65.921875 \r\nQ 23.96875 65.921875 18.8125 64.3125 \r\nQ 13.671875 62.703125 7.8125 59.421875 \r\nL 7.8125 69.390625 \r\nQ 13.765625 71.78125 18.9375 73 \r\nQ 24.125 74.21875 28.421875 74.21875 \r\nQ 39.75 74.21875 46.484375 68.546875 \r\nQ 53.21875 62.890625 53.21875 53.421875 \r\nQ 53.21875 48.921875 51.53125 44.890625 \r\nQ 49.859375 40.875 45.40625 35.40625 \r\nQ 44.1875 33.984375 37.640625 27.21875 \r\nQ 31.109375 20.453125 19.1875 8.296875 \r\nz\r\n\" id=\"DejaVuSans-50\"/>\r\n       </defs>\r\n       <use xlink:href=\"#DejaVuSans-48\"/>\r\n       <use x=\"63.623047\" xlink:href=\"#DejaVuSans-46\"/>\r\n       <use x=\"95.410156\" xlink:href=\"#DejaVuSans-50\"/>\r\n      </g>\r\n     </g>\r\n    </g>\r\n    <g id=\"ytick_4\">\r\n     <g id=\"line2d_11\">\r\n      <path clip-path=\"url(#p747b3324d3)\" d=\"M 29.0225 128.601135 \r\nL 386.1425 128.601135 \r\n\" style=\"fill:none;stroke:#ffffff;stroke-linecap:square;stroke-width:0.8;\"/>\r\n     </g>\r\n     <g id=\"line2d_12\">\r\n      <g>\r\n       <use style=\"fill:#555555;stroke:#555555;stroke-width:0.8;\" x=\"29.0225\" xlink:href=\"#mb996c14e65\" y=\"128.601135\"/>\r\n      </g>\r\n     </g>\r\n     <g id=\"text_6\">\r\n      <!-- 0.3 -->\r\n      <g style=\"fill:#555555;\" transform=\"translate(7.2 131.64051)scale(0.08 -0.08)\">\r\n       <defs>\r\n        <path d=\"M 40.578125 39.3125 \r\nQ 47.65625 37.796875 51.625 33 \r\nQ 55.609375 28.21875 55.609375 21.1875 \r\nQ 55.609375 10.40625 48.1875 4.484375 \r\nQ 40.765625 -1.421875 27.09375 -1.421875 \r\nQ 22.515625 -1.421875 17.65625 -0.515625 \r\nQ 12.796875 0.390625 7.625 2.203125 \r\nL 7.625 11.71875 \r\nQ 11.71875 9.328125 16.59375 8.109375 \r\nQ 21.484375 6.890625 26.8125 6.890625 \r\nQ 36.078125 6.890625 40.9375 10.546875 \r\nQ 45.796875 14.203125 45.796875 21.1875 \r\nQ 45.796875 27.640625 41.28125 31.265625 \r\nQ 36.765625 34.90625 28.71875 34.90625 \r\nL 20.21875 34.90625 \r\nL 20.21875 43.015625 \r\nL 29.109375 43.015625 \r\nQ 36.375 43.015625 40.234375 45.921875 \r\nQ 44.09375 48.828125 44.09375 54.296875 \r\nQ 44.09375 59.90625 40.109375 62.90625 \r\nQ 36.140625 65.921875 28.71875 65.921875 \r\nQ 24.65625 65.921875 20.015625 65.03125 \r\nQ 15.375 64.15625 9.8125 62.3125 \r\nL 9.8125 71.09375 \r\nQ 15.4375 72.65625 20.34375 73.4375 \r\nQ 25.25 74.21875 29.59375 74.21875 \r\nQ 40.828125 74.21875 47.359375 69.109375 \r\nQ 53.90625 64.015625 53.90625 55.328125 \r\nQ 53.90625 49.265625 50.4375 45.09375 \r\nQ 46.96875 40.921875 40.578125 39.3125 \r\nz\r\n\" id=\"DejaVuSans-51\"/>\r\n       </defs>\r\n       <use xlink:href=\"#DejaVuSans-48\"/>\r\n       <use x=\"63.623047\" xlink:href=\"#DejaVuSans-46\"/>\r\n       <use x=\"95.410156\" xlink:href=\"#DejaVuSans-51\"/>\r\n      </g>\r\n     </g>\r\n    </g>\r\n    <g id=\"ytick_5\">\r\n     <g id=\"line2d_13\">\r\n      <path clip-path=\"url(#p747b3324d3)\" d=\"M 29.0225 89.147215 \r\nL 386.1425 89.147215 \r\n\" style=\"fill:none;stroke:#ffffff;stroke-linecap:square;stroke-width:0.8;\"/>\r\n     </g>\r\n     <g id=\"line2d_14\">\r\n      <g>\r\n       <use style=\"fill:#555555;stroke:#555555;stroke-width:0.8;\" x=\"29.0225\" xlink:href=\"#mb996c14e65\" y=\"89.147215\"/>\r\n      </g>\r\n     </g>\r\n     <g id=\"text_7\">\r\n      <!-- 0.4 -->\r\n      <g style=\"fill:#555555;\" transform=\"translate(7.2 92.18659)scale(0.08 -0.08)\">\r\n       <defs>\r\n        <path d=\"M 37.796875 64.3125 \r\nL 12.890625 25.390625 \r\nL 37.796875 25.390625 \r\nz\r\nM 35.203125 72.90625 \r\nL 47.609375 72.90625 \r\nL 47.609375 25.390625 \r\nL 58.015625 25.390625 \r\nL 58.015625 17.1875 \r\nL 47.609375 17.1875 \r\nL 47.609375 0 \r\nL 37.796875 0 \r\nL 37.796875 17.1875 \r\nL 4.890625 17.1875 \r\nL 4.890625 26.703125 \r\nz\r\n\" id=\"DejaVuSans-52\"/>\r\n       </defs>\r\n       <use xlink:href=\"#DejaVuSans-48\"/>\r\n       <use x=\"63.623047\" xlink:href=\"#DejaVuSans-46\"/>\r\n       <use x=\"95.410156\" xlink:href=\"#DejaVuSans-52\"/>\r\n      </g>\r\n     </g>\r\n    </g>\r\n    <g id=\"ytick_6\">\r\n     <g id=\"line2d_15\">\r\n      <path clip-path=\"url(#p747b3324d3)\" d=\"M 29.0225 49.693295 \r\nL 386.1425 49.693295 \r\n\" style=\"fill:none;stroke:#ffffff;stroke-linecap:square;stroke-width:0.8;\"/>\r\n     </g>\r\n     <g id=\"line2d_16\">\r\n      <g>\r\n       <use style=\"fill:#555555;stroke:#555555;stroke-width:0.8;\" x=\"29.0225\" xlink:href=\"#mb996c14e65\" y=\"49.693295\"/>\r\n      </g>\r\n     </g>\r\n     <g id=\"text_8\">\r\n      <!-- 0.5 -->\r\n      <g style=\"fill:#555555;\" transform=\"translate(7.2 52.73267)scale(0.08 -0.08)\">\r\n       <defs>\r\n        <path d=\"M 10.796875 72.90625 \r\nL 49.515625 72.90625 \r\nL 49.515625 64.59375 \r\nL 19.828125 64.59375 \r\nL 19.828125 46.734375 \r\nQ 21.96875 47.46875 24.109375 47.828125 \r\nQ 26.265625 48.1875 28.421875 48.1875 \r\nQ 40.625 48.1875 47.75 41.5 \r\nQ 54.890625 34.8125 54.890625 23.390625 \r\nQ 54.890625 11.625 47.5625 5.09375 \r\nQ 40.234375 -1.421875 26.90625 -1.421875 \r\nQ 22.3125 -1.421875 17.546875 -0.640625 \r\nQ 12.796875 0.140625 7.71875 1.703125 \r\nL 7.71875 11.625 \r\nQ 12.109375 9.234375 16.796875 8.0625 \r\nQ 21.484375 6.890625 26.703125 6.890625 \r\nQ 35.15625 6.890625 40.078125 11.328125 \r\nQ 45.015625 15.765625 45.015625 23.390625 \r\nQ 45.015625 31 40.078125 35.4375 \r\nQ 35.15625 39.890625 26.703125 39.890625 \r\nQ 22.75 39.890625 18.8125 39.015625 \r\nQ 14.890625 38.140625 10.796875 36.28125 \r\nz\r\n\" id=\"DejaVuSans-53\"/>\r\n       </defs>\r\n       <use xlink:href=\"#DejaVuSans-48\"/>\r\n       <use x=\"63.623047\" xlink:href=\"#DejaVuSans-46\"/>\r\n       <use x=\"95.410156\" xlink:href=\"#DejaVuSans-53\"/>\r\n      </g>\r\n     </g>\r\n    </g>\r\n    <g id=\"ytick_7\">\r\n     <g id=\"line2d_17\">\r\n      <path clip-path=\"url(#p747b3324d3)\" d=\"M 29.0225 10.239375 \r\nL 386.1425 10.239375 \r\n\" style=\"fill:none;stroke:#ffffff;stroke-linecap:square;stroke-width:0.8;\"/>\r\n     </g>\r\n     <g id=\"line2d_18\">\r\n      <g>\r\n       <use style=\"fill:#555555;stroke:#555555;stroke-width:0.8;\" x=\"29.0225\" xlink:href=\"#mb996c14e65\" y=\"10.239375\"/>\r\n      </g>\r\n     </g>\r\n     <g id=\"text_9\">\r\n      <!-- 0.6 -->\r\n      <g style=\"fill:#555555;\" transform=\"translate(7.2 13.27875)scale(0.08 -0.08)\">\r\n       <defs>\r\n        <path d=\"M 33.015625 40.375 \r\nQ 26.375 40.375 22.484375 35.828125 \r\nQ 18.609375 31.296875 18.609375 23.390625 \r\nQ 18.609375 15.53125 22.484375 10.953125 \r\nQ 26.375 6.390625 33.015625 6.390625 \r\nQ 39.65625 6.390625 43.53125 10.953125 \r\nQ 47.40625 15.53125 47.40625 23.390625 \r\nQ 47.40625 31.296875 43.53125 35.828125 \r\nQ 39.65625 40.375 33.015625 40.375 \r\nz\r\nM 52.59375 71.296875 \r\nL 52.59375 62.3125 \r\nQ 48.875 64.0625 45.09375 64.984375 \r\nQ 41.3125 65.921875 37.59375 65.921875 \r\nQ 27.828125 65.921875 22.671875 59.328125 \r\nQ 17.53125 52.734375 16.796875 39.40625 \r\nQ 19.671875 43.65625 24.015625 45.921875 \r\nQ 28.375 48.1875 33.59375 48.1875 \r\nQ 44.578125 48.1875 50.953125 41.515625 \r\nQ 57.328125 34.859375 57.328125 23.390625 \r\nQ 57.328125 12.15625 50.6875 5.359375 \r\nQ 44.046875 -1.421875 33.015625 -1.421875 \r\nQ 20.359375 -1.421875 13.671875 8.265625 \r\nQ 6.984375 17.96875 6.984375 36.375 \r\nQ 6.984375 53.65625 15.1875 63.9375 \r\nQ 23.390625 74.21875 37.203125 74.21875 \r\nQ 40.921875 74.21875 44.703125 73.484375 \r\nQ 48.484375 72.75 52.59375 71.296875 \r\nz\r\n\" id=\"DejaVuSans-54\"/>\r\n       </defs>\r\n       <use xlink:href=\"#DejaVuSans-48\"/>\r\n       <use x=\"63.623047\" xlink:href=\"#DejaVuSans-46\"/>\r\n       <use x=\"95.410156\" xlink:href=\"#DejaVuSans-54\"/>\r\n      </g>\r\n     </g>\r\n    </g>\r\n   </g>\r\n   <g id=\"patch_3\">\r\n    <path clip-path=\"url(#p747b3324d3)\" d=\"M 73.6625 246.962896 \r\nL 162.9425 246.962896 \r\nL 162.9425 19.16861 \r\nL 73.6625 19.16861 \r\nz\r\n\" style=\"fill:#e24a33;\"/>\r\n   </g>\r\n   <g id=\"patch_4\">\r\n    <path clip-path=\"url(#p747b3324d3)\" d=\"M 252.2225 246.962896 \r\nL 341.5025 246.962896 \r\nL 341.5025 80.21798 \r\nL 252.2225 80.21798 \r\nz\r\n\" style=\"fill:#e24a33;\"/>\r\n   </g>\r\n   <g id=\"patch_5\">\r\n    <path d=\"M 29.0225 246.962896 \r\nL 29.0225 7.778896 \r\n\" style=\"fill:none;stroke:#ffffff;stroke-linecap:square;stroke-linejoin:miter;\"/>\r\n   </g>\r\n   <g id=\"patch_6\">\r\n    <path d=\"M 386.1425 246.962896 \r\nL 386.1425 7.778896 \r\n\" style=\"fill:none;stroke:#ffffff;stroke-linecap:square;stroke-linejoin:miter;\"/>\r\n   </g>\r\n   <g id=\"patch_7\">\r\n    <path d=\"M 29.0225 246.962896 \r\nL 386.1425 246.962896 \r\n\" style=\"fill:none;stroke:#ffffff;stroke-linecap:square;stroke-linejoin:miter;\"/>\r\n   </g>\r\n   <g id=\"patch_8\">\r\n    <path d=\"M 29.0225 7.778896 \r\nL 386.1425 7.778896 \r\n\" style=\"fill:none;stroke:#ffffff;stroke-linecap:square;stroke-linejoin:miter;\"/>\r\n   </g>\r\n  </g>\r\n </g>\r\n <defs>\r\n  <clipPath id=\"p747b3324d3\">\r\n   <rect height=\"239.184\" width=\"357.12\" x=\"29.0225\" y=\"7.778896\"/>\r\n  </clipPath>\r\n </defs>\r\n</svg>\r\n",
      "image/png": "[encoded data removed]"
     },
     "metadata": {
      "needs_background": "light"
     }
    }
   ],
   "source": [
    "%matplotlib inline\n",
    "import matplotlib.pyplot as plt \n",
    "plt.rcParams['figure.figsize']=  (8,8)\n",
    "import matplotlib\n",
    "matplotlib.style.use('seaborn-paper')\n",
    "plot1.plot.bar()\n",
    "\n"
   ]
  },
  {
   "cell_type": "code",
   "execution_count": 138,
   "metadata": {},
   "outputs": [
    {
     "output_type": "stream",
     "name": "stdout",
     "text": [
      "Product\nVoice    1175747\nsms       232100\nName: Bill_Price, dtype: int64\n"
     ]
    }
   ],
   "source": [
    "# Now we compare to see which of the two is actually bringing in more money.\n",
    "# Voice is giving more money despite being less common.\n",
    "\n",
    "more_profitable = mergedmaster.groupby([\"Product\"])[\"Bill_Price\"].sum()\n",
    "\n",
    "print(more_profitable)"
   ]
  },
  {
   "cell_type": "code",
   "execution_count": 139,
   "metadata": {},
   "outputs": [
    {
     "output_type": "execute_result",
     "data": {
      "text/plain": [
       "<AxesSubplot:xlabel='Product'>"
      ]
     },
     "metadata": {},
     "execution_count": 139
    },
    {
     "output_type": "display_data",
     "data": {
      "text/plain": "<Figure size 460.8x316.8 with 1 Axes>",
      "image/svg+xml": "<?xml version=\"1.0\" encoding=\"utf-8\" standalone=\"no\"?>\r\n<!DOCTYPE svg PUBLIC \"-//W3C//DTD SVG 1.1//EN\"\r\n  \"http://www.w3.org/Graphics/SVG/1.1/DTD/svg11.dtd\">\r\n<!-- Created with matplotlib (https://matplotlib.org/) -->\r\n<svg height=\"305.57075pt\" version=\"1.1\" viewBox=\"0 0 393.3425 305.57075\" width=\"393.3425pt\" xmlns=\"http://www.w3.org/2000/svg\" xmlns:xlink=\"http://www.w3.org/1999/xlink\">\r\n <metadata>\r\n  <rdf:RDF xmlns:cc=\"http://creativecommons.org/ns#\" xmlns:dc=\"http://purl.org/dc/elements/1.1/\" xmlns:rdf=\"http://www.w3.org/1999/02/22-rdf-syntax-ns#\">\r\n   <cc:Work>\r\n    <dc:type rdf:resource=\"http://purl.org/dc/dcmitype/StillImage\"/>\r\n    <dc:date>2021-02-04T21:20:57.505308</dc:date>\r\n    <dc:format>image/svg+xml</dc:format>\r\n    <dc:creator>\r\n     <cc:Agent>\r\n      <dc:title>Matplotlib v3.3.2, https://matplotlib.org/</dc:title>\r\n     </cc:Agent>\r\n    </dc:creator>\r\n   </cc:Work>\r\n  </rdf:RDF>\r\n </metadata>\r\n <defs>\r\n  <style type=\"text/css\">*{stroke-linecap:butt;stroke-linejoin:round;}</style>\r\n </defs>\r\n <g id=\"figure_1\">\r\n  <g id=\"patch_1\">\r\n   <path d=\"M 0 305.57075 \r\nL 393.3425 305.57075 \r\nL 393.3425 0 \r\nL 0 0 \r\nz\r\n\" style=\"fill:none;\"/>\r\n  </g>\r\n  <g id=\"axes_1\">\r\n   <g id=\"patch_2\">\r\n    <path d=\"M 29.0225 255.46275 \r\nL 386.1425 255.46275 \r\nL 386.1425 16.27875 \r\nL 29.0225 16.27875 \r\nz\r\n\" style=\"fill:#e5e5e5;\"/>\r\n   </g>\r\n   <g id=\"matplotlib.axis_1\">\r\n    <g id=\"xtick_1\">\r\n     <g id=\"line2d_1\">\r\n      <path clip-path=\"url(#pc65392070d)\" d=\"M 118.3025 255.46275 \r\nL 118.3025 16.27875 \r\n\" style=\"fill:none;stroke:#ffffff;stroke-linecap:square;stroke-width:0.8;\"/>\r\n     </g>\r\n     <g id=\"line2d_2\">\r\n      <defs>\r\n       <path d=\"M 0 0 \r\nL 0 3.5 \r\n\" id=\"m54ec595e64\" style=\"stroke:#555555;stroke-width:0.8;\"/>\r\n      </defs>\r\n      <g>\r\n       <use style=\"fill:#555555;stroke:#555555;stroke-width:0.8;\" x=\"118.3025\" xlink:href=\"#m54ec595e64\" y=\"255.46275\"/>\r\n      </g>\r\n     </g>\r\n     <g id=\"text_1\">\r\n      <!-- Voice -->\r\n      <g style=\"fill:#555555;\" transform=\"translate(120.51 285.854)rotate(-90)scale(0.08 -0.08)\">\r\n       <defs>\r\n        <path d=\"M 28.609375 0 \r\nL 0.78125 72.90625 \r\nL 11.078125 72.90625 \r\nL 34.1875 11.53125 \r\nL 57.328125 72.90625 \r\nL 67.578125 72.90625 \r\nL 39.796875 0 \r\nz\r\n\" id=\"DejaVuSans-86\"/>\r\n        <path d=\"M 30.609375 48.390625 \r\nQ 23.390625 48.390625 19.1875 42.75 \r\nQ 14.984375 37.109375 14.984375 27.296875 \r\nQ 14.984375 17.484375 19.15625 11.84375 \r\nQ 23.34375 6.203125 30.609375 6.203125 \r\nQ 37.796875 6.203125 41.984375 11.859375 \r\nQ 46.1875 17.53125 46.1875 27.296875 \r\nQ 46.1875 37.015625 41.984375 42.703125 \r\nQ 37.796875 48.390625 30.609375 48.390625 \r\nz\r\nM 30.609375 56 \r\nQ 42.328125 56 49.015625 48.375 \r\nQ 55.71875 40.765625 55.71875 27.296875 \r\nQ 55.71875 13.875 49.015625 6.21875 \r\nQ 42.328125 -1.421875 30.609375 -1.421875 \r\nQ 18.84375 -1.421875 12.171875 6.21875 \r\nQ 5.515625 13.875 5.515625 27.296875 \r\nQ 5.515625 40.765625 12.171875 48.375 \r\nQ 18.84375 56 30.609375 56 \r\nz\r\n\" id=\"DejaVuSans-111\"/>\r\n        <path d=\"M 9.421875 54.6875 \r\nL 18.40625 54.6875 \r\nL 18.40625 0 \r\nL 9.421875 0 \r\nz\r\nM 9.421875 75.984375 \r\nL 18.40625 75.984375 \r\nL 18.40625 64.59375 \r\nL 9.421875 64.59375 \r\nz\r\n\" id=\"DejaVuSans-105\"/>\r\n        <path d=\"M 48.78125 52.59375 \r\nL 48.78125 44.1875 \r\nQ 44.96875 46.296875 41.140625 47.34375 \r\nQ 37.3125 48.390625 33.40625 48.390625 \r\nQ 24.65625 48.390625 19.8125 42.84375 \r\nQ 14.984375 37.3125 14.984375 27.296875 \r\nQ 14.984375 17.28125 19.8125 11.734375 \r\nQ 24.65625 6.203125 33.40625 6.203125 \r\nQ 37.3125 6.203125 41.140625 7.25 \r\nQ 44.96875 8.296875 48.78125 10.40625 \r\nL 48.78125 2.09375 \r\nQ 45.015625 0.34375 40.984375 -0.53125 \r\nQ 36.96875 -1.421875 32.421875 -1.421875 \r\nQ 20.0625 -1.421875 12.78125 6.34375 \r\nQ 5.515625 14.109375 5.515625 27.296875 \r\nQ 5.515625 40.671875 12.859375 48.328125 \r\nQ 20.21875 56 33.015625 56 \r\nQ 37.15625 56 41.109375 55.140625 \r\nQ 45.0625 54.296875 48.78125 52.59375 \r\nz\r\n\" id=\"DejaVuSans-99\"/>\r\n        <path d=\"M 56.203125 29.59375 \r\nL 56.203125 25.203125 \r\nL 14.890625 25.203125 \r\nQ 15.484375 15.921875 20.484375 11.0625 \r\nQ 25.484375 6.203125 34.421875 6.203125 \r\nQ 39.59375 6.203125 44.453125 7.46875 \r\nQ 49.3125 8.734375 54.109375 11.28125 \r\nL 54.109375 2.78125 \r\nQ 49.265625 0.734375 44.1875 -0.34375 \r\nQ 39.109375 -1.421875 33.890625 -1.421875 \r\nQ 20.796875 -1.421875 13.15625 6.1875 \r\nQ 5.515625 13.8125 5.515625 26.8125 \r\nQ 5.515625 40.234375 12.765625 48.109375 \r\nQ 20.015625 56 32.328125 56 \r\nQ 43.359375 56 49.78125 48.890625 \r\nQ 56.203125 41.796875 56.203125 29.59375 \r\nz\r\nM 47.21875 32.234375 \r\nQ 47.125 39.59375 43.09375 43.984375 \r\nQ 39.0625 48.390625 32.421875 48.390625 \r\nQ 24.90625 48.390625 20.390625 44.140625 \r\nQ 15.875 39.890625 15.1875 32.171875 \r\nz\r\n\" id=\"DejaVuSans-101\"/>\r\n       </defs>\r\n       <use xlink:href=\"#DejaVuSans-86\"/>\r\n       <use x=\"60.658203\" xlink:href=\"#DejaVuSans-111\"/>\r\n       <use x=\"121.839844\" xlink:href=\"#DejaVuSans-105\"/>\r\n       <use x=\"149.623047\" xlink:href=\"#DejaVuSans-99\"/>\r\n       <use x=\"204.603516\" xlink:href=\"#DejaVuSans-101\"/>\r\n      </g>\r\n     </g>\r\n    </g>\r\n    <g id=\"xtick_2\">\r\n     <g id=\"line2d_3\">\r\n      <path clip-path=\"url(#pc65392070d)\" d=\"M 296.8625 255.46275 \r\nL 296.8625 16.27875 \r\n\" style=\"fill:none;stroke:#ffffff;stroke-linecap:square;stroke-width:0.8;\"/>\r\n     </g>\r\n     <g id=\"line2d_4\">\r\n      <g>\r\n       <use style=\"fill:#555555;stroke:#555555;stroke-width:0.8;\" x=\"296.8625\" xlink:href=\"#m54ec595e64\" y=\"255.46275\"/>\r\n      </g>\r\n     </g>\r\n     <g id=\"text_2\">\r\n      <!-- sms -->\r\n      <g style=\"fill:#555555;\" transform=\"translate(299.07 280.69025)rotate(-90)scale(0.08 -0.08)\">\r\n       <defs>\r\n        <path d=\"M 44.28125 53.078125 \r\nL 44.28125 44.578125 \r\nQ 40.484375 46.53125 36.375 47.5 \r\nQ 32.28125 48.484375 27.875 48.484375 \r\nQ 21.1875 48.484375 17.84375 46.4375 \r\nQ 14.5 44.390625 14.5 40.28125 \r\nQ 14.5 37.15625 16.890625 35.375 \r\nQ 19.28125 33.59375 26.515625 31.984375 \r\nL 29.59375 31.296875 \r\nQ 39.15625 29.25 43.1875 25.515625 \r\nQ 47.21875 21.78125 47.21875 15.09375 \r\nQ 47.21875 7.46875 41.1875 3.015625 \r\nQ 35.15625 -1.421875 24.609375 -1.421875 \r\nQ 20.21875 -1.421875 15.453125 -0.5625 \r\nQ 10.6875 0.296875 5.421875 2 \r\nL 5.421875 11.28125 \r\nQ 10.40625 8.6875 15.234375 7.390625 \r\nQ 20.0625 6.109375 24.8125 6.109375 \r\nQ 31.15625 6.109375 34.5625 8.28125 \r\nQ 37.984375 10.453125 37.984375 14.40625 \r\nQ 37.984375 18.0625 35.515625 20.015625 \r\nQ 33.0625 21.96875 24.703125 23.78125 \r\nL 21.578125 24.515625 \r\nQ 13.234375 26.265625 9.515625 29.90625 \r\nQ 5.8125 33.546875 5.8125 39.890625 \r\nQ 5.8125 47.609375 11.28125 51.796875 \r\nQ 16.75 56 26.8125 56 \r\nQ 31.78125 56 36.171875 55.265625 \r\nQ 40.578125 54.546875 44.28125 53.078125 \r\nz\r\n\" id=\"DejaVuSans-115\"/>\r\n        <path d=\"M 52 44.1875 \r\nQ 55.375 50.25 60.0625 53.125 \r\nQ 64.75 56 71.09375 56 \r\nQ 79.640625 56 84.28125 50.015625 \r\nQ 88.921875 44.046875 88.921875 33.015625 \r\nL 88.921875 0 \r\nL 79.890625 0 \r\nL 79.890625 32.71875 \r\nQ 79.890625 40.578125 77.09375 44.375 \r\nQ 74.3125 48.1875 68.609375 48.1875 \r\nQ 61.625 48.1875 57.5625 43.546875 \r\nQ 53.515625 38.921875 53.515625 30.90625 \r\nL 53.515625 0 \r\nL 44.484375 0 \r\nL 44.484375 32.71875 \r\nQ 44.484375 40.625 41.703125 44.40625 \r\nQ 38.921875 48.1875 33.109375 48.1875 \r\nQ 26.21875 48.1875 22.15625 43.53125 \r\nQ 18.109375 38.875 18.109375 30.90625 \r\nL 18.109375 0 \r\nL 9.078125 0 \r\nL 9.078125 54.6875 \r\nL 18.109375 54.6875 \r\nL 18.109375 46.1875 \r\nQ 21.1875 51.21875 25.484375 53.609375 \r\nQ 29.78125 56 35.6875 56 \r\nQ 41.65625 56 45.828125 52.96875 \r\nQ 50 49.953125 52 44.1875 \r\nz\r\n\" id=\"DejaVuSans-109\"/>\r\n       </defs>\r\n       <use xlink:href=\"#DejaVuSans-115\"/>\r\n       <use x=\"52.099609\" xlink:href=\"#DejaVuSans-109\"/>\r\n       <use x=\"149.511719\" xlink:href=\"#DejaVuSans-115\"/>\r\n      </g>\r\n     </g>\r\n    </g>\r\n    <g id=\"text_3\">\r\n     <!-- Product -->\r\n     <g style=\"fill:#555555;\" transform=\"translate(190.878313 296.540625)scale(0.088 -0.088)\">\r\n      <defs>\r\n       <path d=\"M 19.671875 64.796875 \r\nL 19.671875 37.40625 \r\nL 32.078125 37.40625 \r\nQ 38.96875 37.40625 42.71875 40.96875 \r\nQ 46.484375 44.53125 46.484375 51.125 \r\nQ 46.484375 57.671875 42.71875 61.234375 \r\nQ 38.96875 64.796875 32.078125 64.796875 \r\nz\r\nM 9.8125 72.90625 \r\nL 32.078125 72.90625 \r\nQ 44.34375 72.90625 50.609375 67.359375 \r\nQ 56.890625 61.8125 56.890625 51.125 \r\nQ 56.890625 40.328125 50.609375 34.8125 \r\nQ 44.34375 29.296875 32.078125 29.296875 \r\nL 19.671875 29.296875 \r\nL 19.671875 0 \r\nL 9.8125 0 \r\nz\r\n\" id=\"DejaVuSans-80\"/>\r\n       <path d=\"M 41.109375 46.296875 \r\nQ 39.59375 47.171875 37.8125 47.578125 \r\nQ 36.03125 48 33.890625 48 \r\nQ 26.265625 48 22.1875 43.046875 \r\nQ 18.109375 38.09375 18.109375 28.8125 \r\nL 18.109375 0 \r\nL 9.078125 0 \r\nL 9.078125 54.6875 \r\nL 18.109375 54.6875 \r\nL 18.109375 46.1875 \r\nQ 20.953125 51.171875 25.484375 53.578125 \r\nQ 30.03125 56 36.53125 56 \r\nQ 37.453125 56 38.578125 55.875 \r\nQ 39.703125 55.765625 41.0625 55.515625 \r\nz\r\n\" id=\"DejaVuSans-114\"/>\r\n       <path d=\"M 45.40625 46.390625 \r\nL 45.40625 75.984375 \r\nL 54.390625 75.984375 \r\nL 54.390625 0 \r\nL 45.40625 0 \r\nL 45.40625 8.203125 \r\nQ 42.578125 3.328125 38.25 0.953125 \r\nQ 33.9375 -1.421875 27.875 -1.421875 \r\nQ 17.96875 -1.421875 11.734375 6.484375 \r\nQ 5.515625 14.40625 5.515625 27.296875 \r\nQ 5.515625 40.1875 11.734375 48.09375 \r\nQ 17.96875 56 27.875 56 \r\nQ 33.9375 56 38.25 53.625 \r\nQ 42.578125 51.265625 45.40625 46.390625 \r\nz\r\nM 14.796875 27.296875 \r\nQ 14.796875 17.390625 18.875 11.75 \r\nQ 22.953125 6.109375 30.078125 6.109375 \r\nQ 37.203125 6.109375 41.296875 11.75 \r\nQ 45.40625 17.390625 45.40625 27.296875 \r\nQ 45.40625 37.203125 41.296875 42.84375 \r\nQ 37.203125 48.484375 30.078125 48.484375 \r\nQ 22.953125 48.484375 18.875 42.84375 \r\nQ 14.796875 37.203125 14.796875 27.296875 \r\nz\r\n\" id=\"DejaVuSans-100\"/>\r\n       <path d=\"M 8.5 21.578125 \r\nL 8.5 54.6875 \r\nL 17.484375 54.6875 \r\nL 17.484375 21.921875 \r\nQ 17.484375 14.15625 20.5 10.265625 \r\nQ 23.53125 6.390625 29.59375 6.390625 \r\nQ 36.859375 6.390625 41.078125 11.03125 \r\nQ 45.3125 15.671875 45.3125 23.6875 \r\nL 45.3125 54.6875 \r\nL 54.296875 54.6875 \r\nL 54.296875 0 \r\nL 45.3125 0 \r\nL 45.3125 8.40625 \r\nQ 42.046875 3.421875 37.71875 1 \r\nQ 33.40625 -1.421875 27.6875 -1.421875 \r\nQ 18.265625 -1.421875 13.375 4.4375 \r\nQ 8.5 10.296875 8.5 21.578125 \r\nz\r\nM 31.109375 56 \r\nz\r\n\" id=\"DejaVuSans-117\"/>\r\n       <path d=\"M 18.3125 70.21875 \r\nL 18.3125 54.6875 \r\nL 36.8125 54.6875 \r\nL 36.8125 47.703125 \r\nL 18.3125 47.703125 \r\nL 18.3125 18.015625 \r\nQ 18.3125 11.328125 20.140625 9.421875 \r\nQ 21.96875 7.515625 27.59375 7.515625 \r\nL 36.8125 7.515625 \r\nL 36.8125 0 \r\nL 27.59375 0 \r\nQ 17.1875 0 13.234375 3.875 \r\nQ 9.28125 7.765625 9.28125 18.015625 \r\nL 9.28125 47.703125 \r\nL 2.6875 47.703125 \r\nL 2.6875 54.6875 \r\nL 9.28125 54.6875 \r\nL 9.28125 70.21875 \r\nz\r\n\" id=\"DejaVuSans-116\"/>\r\n      </defs>\r\n      <use xlink:href=\"#DejaVuSans-80\"/>\r\n      <use x=\"58.552734\" xlink:href=\"#DejaVuSans-114\"/>\r\n      <use x=\"97.416016\" xlink:href=\"#DejaVuSans-111\"/>\r\n      <use x=\"158.597656\" xlink:href=\"#DejaVuSans-100\"/>\r\n      <use x=\"222.074219\" xlink:href=\"#DejaVuSans-117\"/>\r\n      <use x=\"285.453125\" xlink:href=\"#DejaVuSans-99\"/>\r\n      <use x=\"340.433594\" xlink:href=\"#DejaVuSans-116\"/>\r\n     </g>\r\n    </g>\r\n   </g>\r\n   <g id=\"matplotlib.axis_2\">\r\n    <g id=\"ytick_1\">\r\n     <g id=\"line2d_5\">\r\n      <path clip-path=\"url(#pc65392070d)\" d=\"M 29.0225 255.46275 \r\nL 386.1425 255.46275 \r\n\" style=\"fill:none;stroke:#ffffff;stroke-linecap:square;stroke-width:0.8;\"/>\r\n     </g>\r\n     <g id=\"line2d_6\">\r\n      <defs>\r\n       <path d=\"M 0 0 \r\nL -3.5 0 \r\n\" id=\"m89779f23b4\" style=\"stroke:#555555;stroke-width:0.8;\"/>\r\n      </defs>\r\n      <g>\r\n       <use style=\"fill:#555555;stroke:#555555;stroke-width:0.8;\" x=\"29.0225\" xlink:href=\"#m89779f23b4\" y=\"255.46275\"/>\r\n      </g>\r\n     </g>\r\n     <g id=\"text_4\">\r\n      <!-- 0.0 -->\r\n      <g style=\"fill:#555555;\" transform=\"translate(7.2 258.502125)scale(0.08 -0.08)\">\r\n       <defs>\r\n        <path d=\"M 31.78125 66.40625 \r\nQ 24.171875 66.40625 20.328125 58.90625 \r\nQ 16.5 51.421875 16.5 36.375 \r\nQ 16.5 21.390625 20.328125 13.890625 \r\nQ 24.171875 6.390625 31.78125 6.390625 \r\nQ 39.453125 6.390625 43.28125 13.890625 \r\nQ 47.125 21.390625 47.125 36.375 \r\nQ 47.125 51.421875 43.28125 58.90625 \r\nQ 39.453125 66.40625 31.78125 66.40625 \r\nz\r\nM 31.78125 74.21875 \r\nQ 44.046875 74.21875 50.515625 64.515625 \r\nQ 56.984375 54.828125 56.984375 36.375 \r\nQ 56.984375 17.96875 50.515625 8.265625 \r\nQ 44.046875 -1.421875 31.78125 -1.421875 \r\nQ 19.53125 -1.421875 13.0625 8.265625 \r\nQ 6.59375 17.96875 6.59375 36.375 \r\nQ 6.59375 54.828125 13.0625 64.515625 \r\nQ 19.53125 74.21875 31.78125 74.21875 \r\nz\r\n\" id=\"DejaVuSans-48\"/>\r\n        <path d=\"M 10.6875 12.40625 \r\nL 21 12.40625 \r\nL 21 0 \r\nL 10.6875 0 \r\nz\r\n\" id=\"DejaVuSans-46\"/>\r\n       </defs>\r\n       <use xlink:href=\"#DejaVuSans-48\"/>\r\n       <use x=\"63.623047\" xlink:href=\"#DejaVuSans-46\"/>\r\n       <use x=\"95.410156\" xlink:href=\"#DejaVuSans-48\"/>\r\n      </g>\r\n     </g>\r\n    </g>\r\n    <g id=\"ytick_2\">\r\n     <g id=\"line2d_7\">\r\n      <path clip-path=\"url(#pc65392070d)\" d=\"M 29.0225 216.713889 \r\nL 386.1425 216.713889 \r\n\" style=\"fill:none;stroke:#ffffff;stroke-linecap:square;stroke-width:0.8;\"/>\r\n     </g>\r\n     <g id=\"line2d_8\">\r\n      <g>\r\n       <use style=\"fill:#555555;stroke:#555555;stroke-width:0.8;\" x=\"29.0225\" xlink:href=\"#m89779f23b4\" y=\"216.713889\"/>\r\n      </g>\r\n     </g>\r\n     <g id=\"text_5\">\r\n      <!-- 0.2 -->\r\n      <g style=\"fill:#555555;\" transform=\"translate(7.2 219.753264)scale(0.08 -0.08)\">\r\n       <defs>\r\n        <path d=\"M 19.1875 8.296875 \r\nL 53.609375 8.296875 \r\nL 53.609375 0 \r\nL 7.328125 0 \r\nL 7.328125 8.296875 \r\nQ 12.9375 14.109375 22.625 23.890625 \r\nQ 32.328125 33.6875 34.8125 36.53125 \r\nQ 39.546875 41.84375 41.421875 45.53125 \r\nQ 43.3125 49.21875 43.3125 52.78125 \r\nQ 43.3125 58.59375 39.234375 62.25 \r\nQ 35.15625 65.921875 28.609375 65.921875 \r\nQ 23.96875 65.921875 18.8125 64.3125 \r\nQ 13.671875 62.703125 7.8125 59.421875 \r\nL 7.8125 69.390625 \r\nQ 13.765625 71.78125 18.9375 73 \r\nQ 24.125 74.21875 28.421875 74.21875 \r\nQ 39.75 74.21875 46.484375 68.546875 \r\nQ 53.21875 62.890625 53.21875 53.421875 \r\nQ 53.21875 48.921875 51.53125 44.890625 \r\nQ 49.859375 40.875 45.40625 35.40625 \r\nQ 44.1875 33.984375 37.640625 27.21875 \r\nQ 31.109375 20.453125 19.1875 8.296875 \r\nz\r\n\" id=\"DejaVuSans-50\"/>\r\n       </defs>\r\n       <use xlink:href=\"#DejaVuSans-48\"/>\r\n       <use x=\"63.623047\" xlink:href=\"#DejaVuSans-46\"/>\r\n       <use x=\"95.410156\" xlink:href=\"#DejaVuSans-50\"/>\r\n      </g>\r\n     </g>\r\n    </g>\r\n    <g id=\"ytick_3\">\r\n     <g id=\"line2d_9\">\r\n      <path clip-path=\"url(#pc65392070d)\" d=\"M 29.0225 177.965028 \r\nL 386.1425 177.965028 \r\n\" style=\"fill:none;stroke:#ffffff;stroke-linecap:square;stroke-width:0.8;\"/>\r\n     </g>\r\n     <g id=\"line2d_10\">\r\n      <g>\r\n       <use style=\"fill:#555555;stroke:#555555;stroke-width:0.8;\" x=\"29.0225\" xlink:href=\"#m89779f23b4\" y=\"177.965028\"/>\r\n      </g>\r\n     </g>\r\n     <g id=\"text_6\">\r\n      <!-- 0.4 -->\r\n      <g style=\"fill:#555555;\" transform=\"translate(7.2 181.004403)scale(0.08 -0.08)\">\r\n       <defs>\r\n        <path d=\"M 37.796875 64.3125 \r\nL 12.890625 25.390625 \r\nL 37.796875 25.390625 \r\nz\r\nM 35.203125 72.90625 \r\nL 47.609375 72.90625 \r\nL 47.609375 25.390625 \r\nL 58.015625 25.390625 \r\nL 58.015625 17.1875 \r\nL 47.609375 17.1875 \r\nL 47.609375 0 \r\nL 37.796875 0 \r\nL 37.796875 17.1875 \r\nL 4.890625 17.1875 \r\nL 4.890625 26.703125 \r\nz\r\n\" id=\"DejaVuSans-52\"/>\r\n       </defs>\r\n       <use xlink:href=\"#DejaVuSans-48\"/>\r\n       <use x=\"63.623047\" xlink:href=\"#DejaVuSans-46\"/>\r\n       <use x=\"95.410156\" xlink:href=\"#DejaVuSans-52\"/>\r\n      </g>\r\n     </g>\r\n    </g>\r\n    <g id=\"ytick_4\">\r\n     <g id=\"line2d_11\">\r\n      <path clip-path=\"url(#pc65392070d)\" d=\"M 29.0225 139.216167 \r\nL 386.1425 139.216167 \r\n\" style=\"fill:none;stroke:#ffffff;stroke-linecap:square;stroke-width:0.8;\"/>\r\n     </g>\r\n     <g id=\"line2d_12\">\r\n      <g>\r\n       <use style=\"fill:#555555;stroke:#555555;stroke-width:0.8;\" x=\"29.0225\" xlink:href=\"#m89779f23b4\" y=\"139.216167\"/>\r\n      </g>\r\n     </g>\r\n     <g id=\"text_7\">\r\n      <!-- 0.6 -->\r\n      <g style=\"fill:#555555;\" transform=\"translate(7.2 142.255542)scale(0.08 -0.08)\">\r\n       <defs>\r\n        <path d=\"M 33.015625 40.375 \r\nQ 26.375 40.375 22.484375 35.828125 \r\nQ 18.609375 31.296875 18.609375 23.390625 \r\nQ 18.609375 15.53125 22.484375 10.953125 \r\nQ 26.375 6.390625 33.015625 6.390625 \r\nQ 39.65625 6.390625 43.53125 10.953125 \r\nQ 47.40625 15.53125 47.40625 23.390625 \r\nQ 47.40625 31.296875 43.53125 35.828125 \r\nQ 39.65625 40.375 33.015625 40.375 \r\nz\r\nM 52.59375 71.296875 \r\nL 52.59375 62.3125 \r\nQ 48.875 64.0625 45.09375 64.984375 \r\nQ 41.3125 65.921875 37.59375 65.921875 \r\nQ 27.828125 65.921875 22.671875 59.328125 \r\nQ 17.53125 52.734375 16.796875 39.40625 \r\nQ 19.671875 43.65625 24.015625 45.921875 \r\nQ 28.375 48.1875 33.59375 48.1875 \r\nQ 44.578125 48.1875 50.953125 41.515625 \r\nQ 57.328125 34.859375 57.328125 23.390625 \r\nQ 57.328125 12.15625 50.6875 5.359375 \r\nQ 44.046875 -1.421875 33.015625 -1.421875 \r\nQ 20.359375 -1.421875 13.671875 8.265625 \r\nQ 6.984375 17.96875 6.984375 36.375 \r\nQ 6.984375 53.65625 15.1875 63.9375 \r\nQ 23.390625 74.21875 37.203125 74.21875 \r\nQ 40.921875 74.21875 44.703125 73.484375 \r\nQ 48.484375 72.75 52.59375 71.296875 \r\nz\r\n\" id=\"DejaVuSans-54\"/>\r\n       </defs>\r\n       <use xlink:href=\"#DejaVuSans-48\"/>\r\n       <use x=\"63.623047\" xlink:href=\"#DejaVuSans-46\"/>\r\n       <use x=\"95.410156\" xlink:href=\"#DejaVuSans-54\"/>\r\n      </g>\r\n     </g>\r\n    </g>\r\n    <g id=\"ytick_5\">\r\n     <g id=\"line2d_13\">\r\n      <path clip-path=\"url(#pc65392070d)\" d=\"M 29.0225 100.467306 \r\nL 386.1425 100.467306 \r\n\" style=\"fill:none;stroke:#ffffff;stroke-linecap:square;stroke-width:0.8;\"/>\r\n     </g>\r\n     <g id=\"line2d_14\">\r\n      <g>\r\n       <use style=\"fill:#555555;stroke:#555555;stroke-width:0.8;\" x=\"29.0225\" xlink:href=\"#m89779f23b4\" y=\"100.467306\"/>\r\n      </g>\r\n     </g>\r\n     <g id=\"text_8\">\r\n      <!-- 0.8 -->\r\n      <g style=\"fill:#555555;\" transform=\"translate(7.2 103.506681)scale(0.08 -0.08)\">\r\n       <defs>\r\n        <path d=\"M 31.78125 34.625 \r\nQ 24.75 34.625 20.71875 30.859375 \r\nQ 16.703125 27.09375 16.703125 20.515625 \r\nQ 16.703125 13.921875 20.71875 10.15625 \r\nQ 24.75 6.390625 31.78125 6.390625 \r\nQ 38.8125 6.390625 42.859375 10.171875 \r\nQ 46.921875 13.96875 46.921875 20.515625 \r\nQ 46.921875 27.09375 42.890625 30.859375 \r\nQ 38.875 34.625 31.78125 34.625 \r\nz\r\nM 21.921875 38.8125 \r\nQ 15.578125 40.375 12.03125 44.71875 \r\nQ 8.5 49.078125 8.5 55.328125 \r\nQ 8.5 64.0625 14.71875 69.140625 \r\nQ 20.953125 74.21875 31.78125 74.21875 \r\nQ 42.671875 74.21875 48.875 69.140625 \r\nQ 55.078125 64.0625 55.078125 55.328125 \r\nQ 55.078125 49.078125 51.53125 44.71875 \r\nQ 48 40.375 41.703125 38.8125 \r\nQ 48.828125 37.15625 52.796875 32.3125 \r\nQ 56.78125 27.484375 56.78125 20.515625 \r\nQ 56.78125 9.90625 50.3125 4.234375 \r\nQ 43.84375 -1.421875 31.78125 -1.421875 \r\nQ 19.734375 -1.421875 13.25 4.234375 \r\nQ 6.78125 9.90625 6.78125 20.515625 \r\nQ 6.78125 27.484375 10.78125 32.3125 \r\nQ 14.796875 37.15625 21.921875 38.8125 \r\nz\r\nM 18.3125 54.390625 \r\nQ 18.3125 48.734375 21.84375 45.5625 \r\nQ 25.390625 42.390625 31.78125 42.390625 \r\nQ 38.140625 42.390625 41.71875 45.5625 \r\nQ 45.3125 48.734375 45.3125 54.390625 \r\nQ 45.3125 60.0625 41.71875 63.234375 \r\nQ 38.140625 66.40625 31.78125 66.40625 \r\nQ 25.390625 66.40625 21.84375 63.234375 \r\nQ 18.3125 60.0625 18.3125 54.390625 \r\nz\r\n\" id=\"DejaVuSans-56\"/>\r\n       </defs>\r\n       <use xlink:href=\"#DejaVuSans-48\"/>\r\n       <use x=\"63.623047\" xlink:href=\"#DejaVuSans-46\"/>\r\n       <use x=\"95.410156\" xlink:href=\"#DejaVuSans-56\"/>\r\n      </g>\r\n     </g>\r\n    </g>\r\n    <g id=\"ytick_6\">\r\n     <g id=\"line2d_15\">\r\n      <path clip-path=\"url(#pc65392070d)\" d=\"M 29.0225 61.718445 \r\nL 386.1425 61.718445 \r\n\" style=\"fill:none;stroke:#ffffff;stroke-linecap:square;stroke-width:0.8;\"/>\r\n     </g>\r\n     <g id=\"line2d_16\">\r\n      <g>\r\n       <use style=\"fill:#555555;stroke:#555555;stroke-width:0.8;\" x=\"29.0225\" xlink:href=\"#m89779f23b4\" y=\"61.718445\"/>\r\n      </g>\r\n     </g>\r\n     <g id=\"text_9\">\r\n      <!-- 1.0 -->\r\n      <g style=\"fill:#555555;\" transform=\"translate(7.2 64.75782)scale(0.08 -0.08)\">\r\n       <defs>\r\n        <path d=\"M 12.40625 8.296875 \r\nL 28.515625 8.296875 \r\nL 28.515625 63.921875 \r\nL 10.984375 60.40625 \r\nL 10.984375 69.390625 \r\nL 28.421875 72.90625 \r\nL 38.28125 72.90625 \r\nL 38.28125 8.296875 \r\nL 54.390625 8.296875 \r\nL 54.390625 0 \r\nL 12.40625 0 \r\nz\r\n\" id=\"DejaVuSans-49\"/>\r\n       </defs>\r\n       <use xlink:href=\"#DejaVuSans-49\"/>\r\n       <use x=\"63.623047\" xlink:href=\"#DejaVuSans-46\"/>\r\n       <use x=\"95.410156\" xlink:href=\"#DejaVuSans-48\"/>\r\n      </g>\r\n     </g>\r\n    </g>\r\n    <g id=\"ytick_7\">\r\n     <g id=\"line2d_17\">\r\n      <path clip-path=\"url(#pc65392070d)\" d=\"M 29.0225 22.969584 \r\nL 386.1425 22.969584 \r\n\" style=\"fill:none;stroke:#ffffff;stroke-linecap:square;stroke-width:0.8;\"/>\r\n     </g>\r\n     <g id=\"line2d_18\">\r\n      <g>\r\n       <use style=\"fill:#555555;stroke:#555555;stroke-width:0.8;\" x=\"29.0225\" xlink:href=\"#m89779f23b4\" y=\"22.969584\"/>\r\n      </g>\r\n     </g>\r\n     <g id=\"text_10\">\r\n      <!-- 1.2 -->\r\n      <g style=\"fill:#555555;\" transform=\"translate(7.2 26.008959)scale(0.08 -0.08)\">\r\n       <use xlink:href=\"#DejaVuSans-49\"/>\r\n       <use x=\"63.623047\" xlink:href=\"#DejaVuSans-46\"/>\r\n       <use x=\"95.410156\" xlink:href=\"#DejaVuSans-50\"/>\r\n      </g>\r\n     </g>\r\n    </g>\r\n    <g id=\"text_11\">\r\n     <!-- 1e6 -->\r\n     <g style=\"fill:#555555;\" transform=\"translate(29.0225 13.27875)scale(0.08 -0.08)\">\r\n      <use xlink:href=\"#DejaVuSans-49\"/>\r\n      <use x=\"63.623047\" xlink:href=\"#DejaVuSans-101\"/>\r\n      <use x=\"125.146484\" xlink:href=\"#DejaVuSans-54\"/>\r\n     </g>\r\n    </g>\r\n   </g>\r\n   <g id=\"patch_3\">\r\n    <path clip-path=\"url(#pc65392070d)\" d=\"M 73.6625 255.46275 \r\nL 162.9425 255.46275 \r\nL 162.9425 27.668464 \r\nL 73.6625 27.668464 \r\nz\r\n\" style=\"fill:#e24a33;\"/>\r\n   </g>\r\n   <g id=\"patch_4\">\r\n    <path clip-path=\"url(#pc65392070d)\" d=\"M 252.2225 255.46275 \r\nL 341.5025 255.46275 \r\nL 341.5025 210.494697 \r\nL 252.2225 210.494697 \r\nz\r\n\" style=\"fill:#e24a33;\"/>\r\n   </g>\r\n   <g id=\"patch_5\">\r\n    <path d=\"M 29.0225 255.46275 \r\nL 29.0225 16.27875 \r\n\" style=\"fill:none;stroke:#ffffff;stroke-linecap:square;stroke-linejoin:miter;\"/>\r\n   </g>\r\n   <g id=\"patch_6\">\r\n    <path d=\"M 386.1425 255.46275 \r\nL 386.1425 16.27875 \r\n\" style=\"fill:none;stroke:#ffffff;stroke-linecap:square;stroke-linejoin:miter;\"/>\r\n   </g>\r\n   <g id=\"patch_7\">\r\n    <path d=\"M 29.0225 255.46275 \r\nL 386.1425 255.46275 \r\n\" style=\"fill:none;stroke:#ffffff;stroke-linecap:square;stroke-linejoin:miter;\"/>\r\n   </g>\r\n   <g id=\"patch_8\">\r\n    <path d=\"M 29.0225 16.27875 \r\nL 386.1425 16.27875 \r\n\" style=\"fill:none;stroke:#ffffff;stroke-linecap:square;stroke-linejoin:miter;\"/>\r\n   </g>\r\n  </g>\r\n </g>\r\n <defs>\r\n  <clipPath id=\"pc65392070d\">\r\n   <rect height=\"239.184\" width=\"357.12\" x=\"29.0225\" y=\"16.27875\"/>\r\n  </clipPath>\r\n </defs>\r\n</svg>\r\n",
      "image/png": "[encoded data removed]"
     },
     "metadata": {
      "needs_background": "light"
     }
    }
   ],
   "source": [
    "%matplotlib inline\n",
    "import matplotlib.pyplot as plt \n",
    "plt.rcParams['figure.figsize']=  (8,8)\n",
    "import matplotlib\n",
    "matplotlib.style.use('seaborn-paper')\n",
    "more_profitable.plot.bar()"
   ]
  },
  {
   "cell_type": "code",
   "execution_count": 126,
   "metadata": {},
   "outputs": [
    {
     "output_type": "stream",
     "name": "stdout",
     "text": [
      "ABIDJAN NORTH    0.481223\nABIDJAN SOUTH    0.172846\nCENTRE NORTH     0.115417\nNORTH WEST       0.102753\nSOUTH WEST       0.097619\nEAST             0.030143\nName: AREA, dtype: float64\n"
     ]
    }
   ],
   "source": [
    "# Checking which area is more dominant.\n",
    "# To narrow down which are the larger areas wnd who will need expansion.\n",
    "# The output is in percentage.\n",
    "\n",
    "\n",
    "area_data =mergedmaster[\"AREA\"].value_counts(normalize=True)\n",
    "print(area_data)"
   ]
  },
  {
   "cell_type": "code",
   "execution_count": 127,
   "metadata": {},
   "outputs": [
    {
     "output_type": "execute_result",
     "data": {
      "text/plain": [
       "<AxesSubplot:>"
      ]
     },
     "metadata": {},
     "execution_count": 127
    },
    {
     "output_type": "display_data",
     "data": {
      "text/plain": "<Figure size 460.8x316.8 with 1 Axes>",
      "image/svg+xml": "<?xml version=\"1.0\" encoding=\"utf-8\" standalone=\"no\"?>\r\n<!DOCTYPE svg PUBLIC \"-//W3C//DTD SVG 1.1//EN\"\r\n  \"http://www.w3.org/Graphics/SVG/1.1/DTD/svg11.dtd\">\r\n<!-- Created with matplotlib (https://matplotlib.org/) -->\r\n<svg height=\"327.086902pt\" version=\"1.1\" viewBox=\"0 0 393.3425 327.086902\" width=\"393.3425pt\" xmlns=\"http://www.w3.org/2000/svg\" xmlns:xlink=\"http://www.w3.org/1999/xlink\">\r\n <metadata>\r\n  <rdf:RDF xmlns:cc=\"http://creativecommons.org/ns#\" xmlns:dc=\"http://purl.org/dc/elements/1.1/\" xmlns:rdf=\"http://www.w3.org/1999/02/22-rdf-syntax-ns#\">\r\n   <cc:Work>\r\n    <dc:type rdf:resource=\"http://purl.org/dc/dcmitype/StillImage\"/>\r\n    <dc:date>2021-02-04T20:48:45.728899</dc:date>\r\n    <dc:format>image/svg+xml</dc:format>\r\n    <dc:creator>\r\n     <cc:Agent>\r\n      <dc:title>Matplotlib v3.3.2, https://matplotlib.org/</dc:title>\r\n     </cc:Agent>\r\n    </dc:creator>\r\n   </cc:Work>\r\n  </rdf:RDF>\r\n </metadata>\r\n <defs>\r\n  <style type=\"text/css\">*{stroke-linecap:butt;stroke-linejoin:round;}</style>\r\n </defs>\r\n <g id=\"figure_1\">\r\n  <g id=\"patch_1\">\r\n   <path d=\"M 0 327.086902 \r\nL 393.3425 327.086902 \r\nL 393.3425 0 \r\nL 0 0 \r\nz\r\n\" style=\"fill:none;\"/>\r\n  </g>\r\n  <g id=\"axes_1\">\r\n   <g id=\"patch_2\">\r\n    <path d=\"M 29.0225 246.921902 \r\nL 386.1425 246.921902 \r\nL 386.1425 7.737902 \r\nL 29.0225 7.737902 \r\nz\r\n\" style=\"fill:#e5e5e5;\"/>\r\n   </g>\r\n   <g id=\"matplotlib.axis_1\">\r\n    <g id=\"xtick_1\">\r\n     <g id=\"line2d_1\">\r\n      <path clip-path=\"url(#p106a7b6f9d)\" d=\"M 58.7825 246.921902 \r\nL 58.7825 7.737902 \r\n\" style=\"fill:none;stroke:#ffffff;stroke-linecap:square;stroke-width:0.8;\"/>\r\n     </g>\r\n     <g id=\"line2d_2\">\r\n      <defs>\r\n       <path d=\"M 0 0 \r\nL 0 3.5 \r\n\" id=\"m443227b620\" style=\"stroke:#555555;stroke-width:0.8;\"/>\r\n      </defs>\r\n      <g>\r\n       <use style=\"fill:#555555;stroke:#555555;stroke-width:0.8;\" x=\"58.7825\" xlink:href=\"#m443227b620\" y=\"246.921902\"/>\r\n      </g>\r\n     </g>\r\n     <g id=\"text_1\">\r\n      <!-- ABIDJAN NORTH -->\r\n      <g style=\"fill:#555555;\" transform=\"translate(60.99 319.886902)rotate(-90)scale(0.08 -0.08)\">\r\n       <defs>\r\n        <path d=\"M 34.1875 63.1875 \r\nL 20.796875 26.90625 \r\nL 47.609375 26.90625 \r\nz\r\nM 28.609375 72.90625 \r\nL 39.796875 72.90625 \r\nL 67.578125 0 \r\nL 57.328125 0 \r\nL 50.6875 18.703125 \r\nL 17.828125 18.703125 \r\nL 11.1875 0 \r\nL 0.78125 0 \r\nz\r\n\" id=\"DejaVuSans-65\"/>\r\n        <path d=\"M 19.671875 34.8125 \r\nL 19.671875 8.109375 \r\nL 35.5 8.109375 \r\nQ 43.453125 8.109375 47.28125 11.40625 \r\nQ 51.125 14.703125 51.125 21.484375 \r\nQ 51.125 28.328125 47.28125 31.5625 \r\nQ 43.453125 34.8125 35.5 34.8125 \r\nz\r\nM 19.671875 64.796875 \r\nL 19.671875 42.828125 \r\nL 34.28125 42.828125 \r\nQ 41.5 42.828125 45.03125 45.53125 \r\nQ 48.578125 48.25 48.578125 53.8125 \r\nQ 48.578125 59.328125 45.03125 62.0625 \r\nQ 41.5 64.796875 34.28125 64.796875 \r\nz\r\nM 9.8125 72.90625 \r\nL 35.015625 72.90625 \r\nQ 46.296875 72.90625 52.390625 68.21875 \r\nQ 58.5 63.53125 58.5 54.890625 \r\nQ 58.5 48.1875 55.375 44.234375 \r\nQ 52.25 40.28125 46.1875 39.3125 \r\nQ 53.46875 37.75 57.5 32.78125 \r\nQ 61.53125 27.828125 61.53125 20.40625 \r\nQ 61.53125 10.640625 54.890625 5.3125 \r\nQ 48.25 0 35.984375 0 \r\nL 9.8125 0 \r\nz\r\n\" id=\"DejaVuSans-66\"/>\r\n        <path d=\"M 9.8125 72.90625 \r\nL 19.671875 72.90625 \r\nL 19.671875 0 \r\nL 9.8125 0 \r\nz\r\n\" id=\"DejaVuSans-73\"/>\r\n        <path d=\"M 19.671875 64.796875 \r\nL 19.671875 8.109375 \r\nL 31.59375 8.109375 \r\nQ 46.6875 8.109375 53.6875 14.9375 \r\nQ 60.6875 21.78125 60.6875 36.53125 \r\nQ 60.6875 51.171875 53.6875 57.984375 \r\nQ 46.6875 64.796875 31.59375 64.796875 \r\nz\r\nM 9.8125 72.90625 \r\nL 30.078125 72.90625 \r\nQ 51.265625 72.90625 61.171875 64.09375 \r\nQ 71.09375 55.28125 71.09375 36.53125 \r\nQ 71.09375 17.671875 61.125 8.828125 \r\nQ 51.171875 0 30.078125 0 \r\nL 9.8125 0 \r\nz\r\n\" id=\"DejaVuSans-68\"/>\r\n        <path d=\"M 9.8125 72.90625 \r\nL 19.671875 72.90625 \r\nL 19.671875 5.078125 \r\nQ 19.671875 -8.109375 14.671875 -14.0625 \r\nQ 9.671875 -20.015625 -1.421875 -20.015625 \r\nL -5.171875 -20.015625 \r\nL -5.171875 -11.71875 \r\nL -2.09375 -11.71875 \r\nQ 4.4375 -11.71875 7.125 -8.046875 \r\nQ 9.8125 -4.390625 9.8125 5.078125 \r\nz\r\n\" id=\"DejaVuSans-74\"/>\r\n        <path d=\"M 9.8125 72.90625 \r\nL 23.09375 72.90625 \r\nL 55.421875 11.921875 \r\nL 55.421875 72.90625 \r\nL 64.984375 72.90625 \r\nL 64.984375 0 \r\nL 51.703125 0 \r\nL 19.390625 60.984375 \r\nL 19.390625 0 \r\nL 9.8125 0 \r\nz\r\n\" id=\"DejaVuSans-78\"/>\r\n        <path id=\"DejaVuSans-32\"/>\r\n        <path d=\"M 39.40625 66.21875 \r\nQ 28.65625 66.21875 22.328125 58.203125 \r\nQ 16.015625 50.203125 16.015625 36.375 \r\nQ 16.015625 22.609375 22.328125 14.59375 \r\nQ 28.65625 6.59375 39.40625 6.59375 \r\nQ 50.140625 6.59375 56.421875 14.59375 \r\nQ 62.703125 22.609375 62.703125 36.375 \r\nQ 62.703125 50.203125 56.421875 58.203125 \r\nQ 50.140625 66.21875 39.40625 66.21875 \r\nz\r\nM 39.40625 74.21875 \r\nQ 54.734375 74.21875 63.90625 63.9375 \r\nQ 73.09375 53.65625 73.09375 36.375 \r\nQ 73.09375 19.140625 63.90625 8.859375 \r\nQ 54.734375 -1.421875 39.40625 -1.421875 \r\nQ 24.03125 -1.421875 14.8125 8.828125 \r\nQ 5.609375 19.09375 5.609375 36.375 \r\nQ 5.609375 53.65625 14.8125 63.9375 \r\nQ 24.03125 74.21875 39.40625 74.21875 \r\nz\r\n\" id=\"DejaVuSans-79\"/>\r\n        <path d=\"M 44.390625 34.1875 \r\nQ 47.5625 33.109375 50.5625 29.59375 \r\nQ 53.5625 26.078125 56.59375 19.921875 \r\nL 66.609375 0 \r\nL 56 0 \r\nL 46.6875 18.703125 \r\nQ 43.0625 26.03125 39.671875 28.421875 \r\nQ 36.28125 30.8125 30.421875 30.8125 \r\nL 19.671875 30.8125 \r\nL 19.671875 0 \r\nL 9.8125 0 \r\nL 9.8125 72.90625 \r\nL 32.078125 72.90625 \r\nQ 44.578125 72.90625 50.734375 67.671875 \r\nQ 56.890625 62.453125 56.890625 51.90625 \r\nQ 56.890625 45.015625 53.6875 40.46875 \r\nQ 50.484375 35.9375 44.390625 34.1875 \r\nz\r\nM 19.671875 64.796875 \r\nL 19.671875 38.921875 \r\nL 32.078125 38.921875 \r\nQ 39.203125 38.921875 42.84375 42.21875 \r\nQ 46.484375 45.515625 46.484375 51.90625 \r\nQ 46.484375 58.296875 42.84375 61.546875 \r\nQ 39.203125 64.796875 32.078125 64.796875 \r\nz\r\n\" id=\"DejaVuSans-82\"/>\r\n        <path d=\"M -0.296875 72.90625 \r\nL 61.375 72.90625 \r\nL 61.375 64.59375 \r\nL 35.5 64.59375 \r\nL 35.5 0 \r\nL 25.59375 0 \r\nL 25.59375 64.59375 \r\nL -0.296875 64.59375 \r\nz\r\n\" id=\"DejaVuSans-84\"/>\r\n        <path d=\"M 9.8125 72.90625 \r\nL 19.671875 72.90625 \r\nL 19.671875 43.015625 \r\nL 55.515625 43.015625 \r\nL 55.515625 72.90625 \r\nL 65.375 72.90625 \r\nL 65.375 0 \r\nL 55.515625 0 \r\nL 55.515625 34.71875 \r\nL 19.671875 34.71875 \r\nL 19.671875 0 \r\nL 9.8125 0 \r\nz\r\n\" id=\"DejaVuSans-72\"/>\r\n       </defs>\r\n       <use xlink:href=\"#DejaVuSans-65\"/>\r\n       <use x=\"68.408203\" xlink:href=\"#DejaVuSans-66\"/>\r\n       <use x=\"137.011719\" xlink:href=\"#DejaVuSans-73\"/>\r\n       <use x=\"166.503906\" xlink:href=\"#DejaVuSans-68\"/>\r\n       <use x=\"243.505859\" xlink:href=\"#DejaVuSans-74\"/>\r\n       <use x=\"271.248047\" xlink:href=\"#DejaVuSans-65\"/>\r\n       <use x=\"339.65625\" xlink:href=\"#DejaVuSans-78\"/>\r\n       <use x=\"414.460938\" xlink:href=\"#DejaVuSans-32\"/>\r\n       <use x=\"446.248047\" xlink:href=\"#DejaVuSans-78\"/>\r\n       <use x=\"521.052734\" xlink:href=\"#DejaVuSans-79\"/>\r\n       <use x=\"599.763672\" xlink:href=\"#DejaVuSans-82\"/>\r\n       <use x=\"661.996094\" xlink:href=\"#DejaVuSans-84\"/>\r\n       <use x=\"723.080078\" xlink:href=\"#DejaVuSans-72\"/>\r\n      </g>\r\n     </g>\r\n    </g>\r\n    <g id=\"xtick_2\">\r\n     <g id=\"line2d_3\">\r\n      <path clip-path=\"url(#p106a7b6f9d)\" d=\"M 118.3025 246.921902 \r\nL 118.3025 7.737902 \r\n\" style=\"fill:none;stroke:#ffffff;stroke-linecap:square;stroke-width:0.8;\"/>\r\n     </g>\r\n     <g id=\"line2d_4\">\r\n      <g>\r\n       <use style=\"fill:#555555;stroke:#555555;stroke-width:0.8;\" x=\"118.3025\" xlink:href=\"#m443227b620\" y=\"246.921902\"/>\r\n      </g>\r\n     </g>\r\n     <g id=\"text_2\">\r\n      <!-- ABIDJAN SOUTH -->\r\n      <g style=\"fill:#555555;\" transform=\"translate(120.51 319.856902)rotate(-90)scale(0.08 -0.08)\">\r\n       <defs>\r\n        <path d=\"M 53.515625 70.515625 \r\nL 53.515625 60.890625 \r\nQ 47.90625 63.578125 42.921875 64.890625 \r\nQ 37.9375 66.21875 33.296875 66.21875 \r\nQ 25.25 66.21875 20.875 63.09375 \r\nQ 16.5 59.96875 16.5 54.203125 \r\nQ 16.5 49.359375 19.40625 46.890625 \r\nQ 22.3125 44.4375 30.421875 42.921875 \r\nL 36.375 41.703125 \r\nQ 47.40625 39.59375 52.65625 34.296875 \r\nQ 57.90625 29 57.90625 20.125 \r\nQ 57.90625 9.515625 50.796875 4.046875 \r\nQ 43.703125 -1.421875 29.984375 -1.421875 \r\nQ 24.8125 -1.421875 18.96875 -0.25 \r\nQ 13.140625 0.921875 6.890625 3.21875 \r\nL 6.890625 13.375 \r\nQ 12.890625 10.015625 18.65625 8.296875 \r\nQ 24.421875 6.59375 29.984375 6.59375 \r\nQ 38.421875 6.59375 43.015625 9.90625 \r\nQ 47.609375 13.234375 47.609375 19.390625 \r\nQ 47.609375 24.75 44.3125 27.78125 \r\nQ 41.015625 30.8125 33.5 32.328125 \r\nL 27.484375 33.5 \r\nQ 16.453125 35.6875 11.515625 40.375 \r\nQ 6.59375 45.0625 6.59375 53.421875 \r\nQ 6.59375 63.09375 13.40625 68.65625 \r\nQ 20.21875 74.21875 32.171875 74.21875 \r\nQ 37.3125 74.21875 42.625 73.28125 \r\nQ 47.953125 72.359375 53.515625 70.515625 \r\nz\r\n\" id=\"DejaVuSans-83\"/>\r\n        <path d=\"M 8.6875 72.90625 \r\nL 18.609375 72.90625 \r\nL 18.609375 28.609375 \r\nQ 18.609375 16.890625 22.84375 11.734375 \r\nQ 27.09375 6.59375 36.625 6.59375 \r\nQ 46.09375 6.59375 50.34375 11.734375 \r\nQ 54.59375 16.890625 54.59375 28.609375 \r\nL 54.59375 72.90625 \r\nL 64.5 72.90625 \r\nL 64.5 27.390625 \r\nQ 64.5 13.140625 57.4375 5.859375 \r\nQ 50.390625 -1.421875 36.625 -1.421875 \r\nQ 22.796875 -1.421875 15.734375 5.859375 \r\nQ 8.6875 13.140625 8.6875 27.390625 \r\nz\r\n\" id=\"DejaVuSans-85\"/>\r\n       </defs>\r\n       <use xlink:href=\"#DejaVuSans-65\"/>\r\n       <use x=\"68.408203\" xlink:href=\"#DejaVuSans-66\"/>\r\n       <use x=\"137.011719\" xlink:href=\"#DejaVuSans-73\"/>\r\n       <use x=\"166.503906\" xlink:href=\"#DejaVuSans-68\"/>\r\n       <use x=\"243.505859\" xlink:href=\"#DejaVuSans-74\"/>\r\n       <use x=\"271.248047\" xlink:href=\"#DejaVuSans-65\"/>\r\n       <use x=\"339.65625\" xlink:href=\"#DejaVuSans-78\"/>\r\n       <use x=\"414.460938\" xlink:href=\"#DejaVuSans-32\"/>\r\n       <use x=\"446.248047\" xlink:href=\"#DejaVuSans-83\"/>\r\n       <use x=\"509.724609\" xlink:href=\"#DejaVuSans-79\"/>\r\n       <use x=\"588.435547\" xlink:href=\"#DejaVuSans-85\"/>\r\n       <use x=\"661.628906\" xlink:href=\"#DejaVuSans-84\"/>\r\n       <use x=\"722.712891\" xlink:href=\"#DejaVuSans-72\"/>\r\n      </g>\r\n     </g>\r\n    </g>\r\n    <g id=\"xtick_3\">\r\n     <g id=\"line2d_5\">\r\n      <path clip-path=\"url(#p106a7b6f9d)\" d=\"M 177.8225 246.921902 \r\nL 177.8225 7.737902 \r\n\" style=\"fill:none;stroke:#ffffff;stroke-linecap:square;stroke-width:0.8;\"/>\r\n     </g>\r\n     <g id=\"line2d_6\">\r\n      <g>\r\n       <use style=\"fill:#555555;stroke:#555555;stroke-width:0.8;\" x=\"177.8225\" xlink:href=\"#m443227b620\" y=\"246.921902\"/>\r\n      </g>\r\n     </g>\r\n     <g id=\"text_3\">\r\n      <!-- CENTRE NORTH -->\r\n      <g style=\"fill:#555555;\" transform=\"translate(180.03 318.854402)rotate(-90)scale(0.08 -0.08)\">\r\n       <defs>\r\n        <path d=\"M 64.40625 67.28125 \r\nL 64.40625 56.890625 \r\nQ 59.421875 61.53125 53.78125 63.8125 \r\nQ 48.140625 66.109375 41.796875 66.109375 \r\nQ 29.296875 66.109375 22.65625 58.46875 \r\nQ 16.015625 50.828125 16.015625 36.375 \r\nQ 16.015625 21.96875 22.65625 14.328125 \r\nQ 29.296875 6.6875 41.796875 6.6875 \r\nQ 48.140625 6.6875 53.78125 8.984375 \r\nQ 59.421875 11.28125 64.40625 15.921875 \r\nL 64.40625 5.609375 \r\nQ 59.234375 2.09375 53.4375 0.328125 \r\nQ 47.65625 -1.421875 41.21875 -1.421875 \r\nQ 24.65625 -1.421875 15.125 8.703125 \r\nQ 5.609375 18.84375 5.609375 36.375 \r\nQ 5.609375 53.953125 15.125 64.078125 \r\nQ 24.65625 74.21875 41.21875 74.21875 \r\nQ 47.75 74.21875 53.53125 72.484375 \r\nQ 59.328125 70.75 64.40625 67.28125 \r\nz\r\n\" id=\"DejaVuSans-67\"/>\r\n        <path d=\"M 9.8125 72.90625 \r\nL 55.90625 72.90625 \r\nL 55.90625 64.59375 \r\nL 19.671875 64.59375 \r\nL 19.671875 43.015625 \r\nL 54.390625 43.015625 \r\nL 54.390625 34.71875 \r\nL 19.671875 34.71875 \r\nL 19.671875 8.296875 \r\nL 56.78125 8.296875 \r\nL 56.78125 0 \r\nL 9.8125 0 \r\nz\r\n\" id=\"DejaVuSans-69\"/>\r\n       </defs>\r\n       <use xlink:href=\"#DejaVuSans-67\"/>\r\n       <use x=\"69.824219\" xlink:href=\"#DejaVuSans-69\"/>\r\n       <use x=\"133.007812\" xlink:href=\"#DejaVuSans-78\"/>\r\n       <use x=\"207.8125\" xlink:href=\"#DejaVuSans-84\"/>\r\n       <use x=\"268.896484\" xlink:href=\"#DejaVuSans-82\"/>\r\n       <use x=\"338.378906\" xlink:href=\"#DejaVuSans-69\"/>\r\n       <use x=\"401.5625\" xlink:href=\"#DejaVuSans-32\"/>\r\n       <use x=\"433.349609\" xlink:href=\"#DejaVuSans-78\"/>\r\n       <use x=\"508.154297\" xlink:href=\"#DejaVuSans-79\"/>\r\n       <use x=\"586.865234\" xlink:href=\"#DejaVuSans-82\"/>\r\n       <use x=\"649.097656\" xlink:href=\"#DejaVuSans-84\"/>\r\n       <use x=\"710.181641\" xlink:href=\"#DejaVuSans-72\"/>\r\n      </g>\r\n     </g>\r\n    </g>\r\n    <g id=\"xtick_4\">\r\n     <g id=\"line2d_7\">\r\n      <path clip-path=\"url(#p106a7b6f9d)\" d=\"M 237.3425 246.921902 \r\nL 237.3425 7.737902 \r\n\" style=\"fill:none;stroke:#ffffff;stroke-linecap:square;stroke-width:0.8;\"/>\r\n     </g>\r\n     <g id=\"line2d_8\">\r\n      <g>\r\n       <use style=\"fill:#555555;stroke:#555555;stroke-width:0.8;\" x=\"237.3425\" xlink:href=\"#m443227b620\" y=\"246.921902\"/>\r\n      </g>\r\n     </g>\r\n     <g id=\"text_4\">\r\n      <!-- NORTH WEST -->\r\n      <g style=\"fill:#555555;\" transform=\"translate(239.55 309.658152)rotate(-90)scale(0.08 -0.08)\">\r\n       <defs>\r\n        <path d=\"M 3.328125 72.90625 \r\nL 13.28125 72.90625 \r\nL 28.609375 11.28125 \r\nL 43.890625 72.90625 \r\nL 54.984375 72.90625 \r\nL 70.3125 11.28125 \r\nL 85.59375 72.90625 \r\nL 95.609375 72.90625 \r\nL 77.296875 0 \r\nL 64.890625 0 \r\nL 49.515625 63.28125 \r\nL 33.984375 0 \r\nL 21.578125 0 \r\nz\r\n\" id=\"DejaVuSans-87\"/>\r\n       </defs>\r\n       <use xlink:href=\"#DejaVuSans-78\"/>\r\n       <use x=\"74.804688\" xlink:href=\"#DejaVuSans-79\"/>\r\n       <use x=\"153.515625\" xlink:href=\"#DejaVuSans-82\"/>\r\n       <use x=\"215.748047\" xlink:href=\"#DejaVuSans-84\"/>\r\n       <use x=\"276.832031\" xlink:href=\"#DejaVuSans-72\"/>\r\n       <use x=\"352.027344\" xlink:href=\"#DejaVuSans-32\"/>\r\n       <use x=\"383.814453\" xlink:href=\"#DejaVuSans-87\"/>\r\n       <use x=\"482.691406\" xlink:href=\"#DejaVuSans-69\"/>\r\n       <use x=\"545.875\" xlink:href=\"#DejaVuSans-83\"/>\r\n       <use x=\"609.351562\" xlink:href=\"#DejaVuSans-84\"/>\r\n      </g>\r\n     </g>\r\n    </g>\r\n    <g id=\"xtick_5\">\r\n     <g id=\"line2d_9\">\r\n      <path clip-path=\"url(#p106a7b6f9d)\" d=\"M 296.8625 246.921902 \r\nL 296.8625 7.737902 \r\n\" style=\"fill:none;stroke:#ffffff;stroke-linecap:square;stroke-width:0.8;\"/>\r\n     </g>\r\n     <g id=\"line2d_10\">\r\n      <g>\r\n       <use style=\"fill:#555555;stroke:#555555;stroke-width:0.8;\" x=\"296.8625\" xlink:href=\"#m443227b620\" y=\"246.921902\"/>\r\n      </g>\r\n     </g>\r\n     <g id=\"text_5\">\r\n      <!-- SOUTH WEST -->\r\n      <g style=\"fill:#555555;\" transform=\"translate(299.07 309.628152)rotate(-90)scale(0.08 -0.08)\">\r\n       <use xlink:href=\"#DejaVuSans-83\"/>\r\n       <use x=\"63.476562\" xlink:href=\"#DejaVuSans-79\"/>\r\n       <use x=\"142.1875\" xlink:href=\"#DejaVuSans-85\"/>\r\n       <use x=\"215.380859\" xlink:href=\"#DejaVuSans-84\"/>\r\n       <use x=\"276.464844\" xlink:href=\"#DejaVuSans-72\"/>\r\n       <use x=\"351.660156\" xlink:href=\"#DejaVuSans-32\"/>\r\n       <use x=\"383.447266\" xlink:href=\"#DejaVuSans-87\"/>\r\n       <use x=\"482.324219\" xlink:href=\"#DejaVuSans-69\"/>\r\n       <use x=\"545.507812\" xlink:href=\"#DejaVuSans-83\"/>\r\n       <use x=\"608.984375\" xlink:href=\"#DejaVuSans-84\"/>\r\n      </g>\r\n     </g>\r\n    </g>\r\n    <g id=\"xtick_6\">\r\n     <g id=\"line2d_11\">\r\n      <path clip-path=\"url(#p106a7b6f9d)\" d=\"M 356.3825 246.921902 \r\nL 356.3825 7.737902 \r\n\" style=\"fill:none;stroke:#ffffff;stroke-linecap:square;stroke-width:0.8;\"/>\r\n     </g>\r\n     <g id=\"line2d_12\">\r\n      <g>\r\n       <use style=\"fill:#555555;stroke:#555555;stroke-width:0.8;\" x=\"356.3825\" xlink:href=\"#m443227b620\" y=\"246.921902\"/>\r\n      </g>\r\n     </g>\r\n     <g id=\"text_6\">\r\n      <!-- EAST -->\r\n      <g style=\"fill:#555555;\" transform=\"translate(358.59 276.514402)rotate(-90)scale(0.08 -0.08)\">\r\n       <use xlink:href=\"#DejaVuSans-69\"/>\r\n       <use x=\"63.183594\" xlink:href=\"#DejaVuSans-65\"/>\r\n       <use x=\"131.591797\" xlink:href=\"#DejaVuSans-83\"/>\r\n       <use x=\"195.068359\" xlink:href=\"#DejaVuSans-84\"/>\r\n      </g>\r\n     </g>\r\n    </g>\r\n   </g>\r\n   <g id=\"matplotlib.axis_2\">\r\n    <g id=\"ytick_1\">\r\n     <g id=\"line2d_13\">\r\n      <path clip-path=\"url(#p106a7b6f9d)\" d=\"M 29.0225 246.921902 \r\nL 386.1425 246.921902 \r\n\" style=\"fill:none;stroke:#ffffff;stroke-linecap:square;stroke-width:0.8;\"/>\r\n     </g>\r\n     <g id=\"line2d_14\">\r\n      <defs>\r\n       <path d=\"M 0 0 \r\nL -3.5 0 \r\n\" id=\"m5f8206b38a\" style=\"stroke:#555555;stroke-width:0.8;\"/>\r\n      </defs>\r\n      <g>\r\n       <use style=\"fill:#555555;stroke:#555555;stroke-width:0.8;\" x=\"29.0225\" xlink:href=\"#m5f8206b38a\" y=\"246.921902\"/>\r\n      </g>\r\n     </g>\r\n     <g id=\"text_7\">\r\n      <!-- 0.0 -->\r\n      <g style=\"fill:#555555;\" transform=\"translate(7.2 249.961277)scale(0.08 -0.08)\">\r\n       <defs>\r\n        <path d=\"M 31.78125 66.40625 \r\nQ 24.171875 66.40625 20.328125 58.90625 \r\nQ 16.5 51.421875 16.5 36.375 \r\nQ 16.5 21.390625 20.328125 13.890625 \r\nQ 24.171875 6.390625 31.78125 6.390625 \r\nQ 39.453125 6.390625 43.28125 13.890625 \r\nQ 47.125 21.390625 47.125 36.375 \r\nQ 47.125 51.421875 43.28125 58.90625 \r\nQ 39.453125 66.40625 31.78125 66.40625 \r\nz\r\nM 31.78125 74.21875 \r\nQ 44.046875 74.21875 50.515625 64.515625 \r\nQ 56.984375 54.828125 56.984375 36.375 \r\nQ 56.984375 17.96875 50.515625 8.265625 \r\nQ 44.046875 -1.421875 31.78125 -1.421875 \r\nQ 19.53125 -1.421875 13.0625 8.265625 \r\nQ 6.59375 17.96875 6.59375 36.375 \r\nQ 6.59375 54.828125 13.0625 64.515625 \r\nQ 19.53125 74.21875 31.78125 74.21875 \r\nz\r\n\" id=\"DejaVuSans-48\"/>\r\n        <path d=\"M 10.6875 12.40625 \r\nL 21 12.40625 \r\nL 21 0 \r\nL 10.6875 0 \r\nz\r\n\" id=\"DejaVuSans-46\"/>\r\n       </defs>\r\n       <use xlink:href=\"#DejaVuSans-48\"/>\r\n       <use x=\"63.623047\" xlink:href=\"#DejaVuSans-46\"/>\r\n       <use x=\"95.410156\" xlink:href=\"#DejaVuSans-48\"/>\r\n      </g>\r\n     </g>\r\n    </g>\r\n    <g id=\"ytick_2\">\r\n     <g id=\"line2d_15\">\r\n      <path clip-path=\"url(#p106a7b6f9d)\" d=\"M 29.0225 199.585397 \r\nL 386.1425 199.585397 \r\n\" style=\"fill:none;stroke:#ffffff;stroke-linecap:square;stroke-width:0.8;\"/>\r\n     </g>\r\n     <g id=\"line2d_16\">\r\n      <g>\r\n       <use style=\"fill:#555555;stroke:#555555;stroke-width:0.8;\" x=\"29.0225\" xlink:href=\"#m5f8206b38a\" y=\"199.585397\"/>\r\n      </g>\r\n     </g>\r\n     <g id=\"text_8\">\r\n      <!-- 0.1 -->\r\n      <g style=\"fill:#555555;\" transform=\"translate(7.2 202.624772)scale(0.08 -0.08)\">\r\n       <defs>\r\n        <path d=\"M 12.40625 8.296875 \r\nL 28.515625 8.296875 \r\nL 28.515625 63.921875 \r\nL 10.984375 60.40625 \r\nL 10.984375 69.390625 \r\nL 28.421875 72.90625 \r\nL 38.28125 72.90625 \r\nL 38.28125 8.296875 \r\nL 54.390625 8.296875 \r\nL 54.390625 0 \r\nL 12.40625 0 \r\nz\r\n\" id=\"DejaVuSans-49\"/>\r\n       </defs>\r\n       <use xlink:href=\"#DejaVuSans-48\"/>\r\n       <use x=\"63.623047\" xlink:href=\"#DejaVuSans-46\"/>\r\n       <use x=\"95.410156\" xlink:href=\"#DejaVuSans-49\"/>\r\n      </g>\r\n     </g>\r\n    </g>\r\n    <g id=\"ytick_3\">\r\n     <g id=\"line2d_17\">\r\n      <path clip-path=\"url(#p106a7b6f9d)\" d=\"M 29.0225 152.248891 \r\nL 386.1425 152.248891 \r\n\" style=\"fill:none;stroke:#ffffff;stroke-linecap:square;stroke-width:0.8;\"/>\r\n     </g>\r\n     <g id=\"line2d_18\">\r\n      <g>\r\n       <use style=\"fill:#555555;stroke:#555555;stroke-width:0.8;\" x=\"29.0225\" xlink:href=\"#m5f8206b38a\" y=\"152.248891\"/>\r\n      </g>\r\n     </g>\r\n     <g id=\"text_9\">\r\n      <!-- 0.2 -->\r\n      <g style=\"fill:#555555;\" transform=\"translate(7.2 155.288266)scale(0.08 -0.08)\">\r\n       <defs>\r\n        <path d=\"M 19.1875 8.296875 \r\nL 53.609375 8.296875 \r\nL 53.609375 0 \r\nL 7.328125 0 \r\nL 7.328125 8.296875 \r\nQ 12.9375 14.109375 22.625 23.890625 \r\nQ 32.328125 33.6875 34.8125 36.53125 \r\nQ 39.546875 41.84375 41.421875 45.53125 \r\nQ 43.3125 49.21875 43.3125 52.78125 \r\nQ 43.3125 58.59375 39.234375 62.25 \r\nQ 35.15625 65.921875 28.609375 65.921875 \r\nQ 23.96875 65.921875 18.8125 64.3125 \r\nQ 13.671875 62.703125 7.8125 59.421875 \r\nL 7.8125 69.390625 \r\nQ 13.765625 71.78125 18.9375 73 \r\nQ 24.125 74.21875 28.421875 74.21875 \r\nQ 39.75 74.21875 46.484375 68.546875 \r\nQ 53.21875 62.890625 53.21875 53.421875 \r\nQ 53.21875 48.921875 51.53125 44.890625 \r\nQ 49.859375 40.875 45.40625 35.40625 \r\nQ 44.1875 33.984375 37.640625 27.21875 \r\nQ 31.109375 20.453125 19.1875 8.296875 \r\nz\r\n\" id=\"DejaVuSans-50\"/>\r\n       </defs>\r\n       <use xlink:href=\"#DejaVuSans-48\"/>\r\n       <use x=\"63.623047\" xlink:href=\"#DejaVuSans-46\"/>\r\n       <use x=\"95.410156\" xlink:href=\"#DejaVuSans-50\"/>\r\n      </g>\r\n     </g>\r\n    </g>\r\n    <g id=\"ytick_4\">\r\n     <g id=\"line2d_19\">\r\n      <path clip-path=\"url(#p106a7b6f9d)\" d=\"M 29.0225 104.912386 \r\nL 386.1425 104.912386 \r\n\" style=\"fill:none;stroke:#ffffff;stroke-linecap:square;stroke-width:0.8;\"/>\r\n     </g>\r\n     <g id=\"line2d_20\">\r\n      <g>\r\n       <use style=\"fill:#555555;stroke:#555555;stroke-width:0.8;\" x=\"29.0225\" xlink:href=\"#m5f8206b38a\" y=\"104.912386\"/>\r\n      </g>\r\n     </g>\r\n     <g id=\"text_10\">\r\n      <!-- 0.3 -->\r\n      <g style=\"fill:#555555;\" transform=\"translate(7.2 107.951761)scale(0.08 -0.08)\">\r\n       <defs>\r\n        <path d=\"M 40.578125 39.3125 \r\nQ 47.65625 37.796875 51.625 33 \r\nQ 55.609375 28.21875 55.609375 21.1875 \r\nQ 55.609375 10.40625 48.1875 4.484375 \r\nQ 40.765625 -1.421875 27.09375 -1.421875 \r\nQ 22.515625 -1.421875 17.65625 -0.515625 \r\nQ 12.796875 0.390625 7.625 2.203125 \r\nL 7.625 11.71875 \r\nQ 11.71875 9.328125 16.59375 8.109375 \r\nQ 21.484375 6.890625 26.8125 6.890625 \r\nQ 36.078125 6.890625 40.9375 10.546875 \r\nQ 45.796875 14.203125 45.796875 21.1875 \r\nQ 45.796875 27.640625 41.28125 31.265625 \r\nQ 36.765625 34.90625 28.71875 34.90625 \r\nL 20.21875 34.90625 \r\nL 20.21875 43.015625 \r\nL 29.109375 43.015625 \r\nQ 36.375 43.015625 40.234375 45.921875 \r\nQ 44.09375 48.828125 44.09375 54.296875 \r\nQ 44.09375 59.90625 40.109375 62.90625 \r\nQ 36.140625 65.921875 28.71875 65.921875 \r\nQ 24.65625 65.921875 20.015625 65.03125 \r\nQ 15.375 64.15625 9.8125 62.3125 \r\nL 9.8125 71.09375 \r\nQ 15.4375 72.65625 20.34375 73.4375 \r\nQ 25.25 74.21875 29.59375 74.21875 \r\nQ 40.828125 74.21875 47.359375 69.109375 \r\nQ 53.90625 64.015625 53.90625 55.328125 \r\nQ 53.90625 49.265625 50.4375 45.09375 \r\nQ 46.96875 40.921875 40.578125 39.3125 \r\nz\r\n\" id=\"DejaVuSans-51\"/>\r\n       </defs>\r\n       <use xlink:href=\"#DejaVuSans-48\"/>\r\n       <use x=\"63.623047\" xlink:href=\"#DejaVuSans-46\"/>\r\n       <use x=\"95.410156\" xlink:href=\"#DejaVuSans-51\"/>\r\n      </g>\r\n     </g>\r\n    </g>\r\n    <g id=\"ytick_5\">\r\n     <g id=\"line2d_21\">\r\n      <path clip-path=\"url(#p106a7b6f9d)\" d=\"M 29.0225 57.57588 \r\nL 386.1425 57.57588 \r\n\" style=\"fill:none;stroke:#ffffff;stroke-linecap:square;stroke-width:0.8;\"/>\r\n     </g>\r\n     <g id=\"line2d_22\">\r\n      <g>\r\n       <use style=\"fill:#555555;stroke:#555555;stroke-width:0.8;\" x=\"29.0225\" xlink:href=\"#m5f8206b38a\" y=\"57.57588\"/>\r\n      </g>\r\n     </g>\r\n     <g id=\"text_11\">\r\n      <!-- 0.4 -->\r\n      <g style=\"fill:#555555;\" transform=\"translate(7.2 60.615255)scale(0.08 -0.08)\">\r\n       <defs>\r\n        <path d=\"M 37.796875 64.3125 \r\nL 12.890625 25.390625 \r\nL 37.796875 25.390625 \r\nz\r\nM 35.203125 72.90625 \r\nL 47.609375 72.90625 \r\nL 47.609375 25.390625 \r\nL 58.015625 25.390625 \r\nL 58.015625 17.1875 \r\nL 47.609375 17.1875 \r\nL 47.609375 0 \r\nL 37.796875 0 \r\nL 37.796875 17.1875 \r\nL 4.890625 17.1875 \r\nL 4.890625 26.703125 \r\nz\r\n\" id=\"DejaVuSans-52\"/>\r\n       </defs>\r\n       <use xlink:href=\"#DejaVuSans-48\"/>\r\n       <use x=\"63.623047\" xlink:href=\"#DejaVuSans-46\"/>\r\n       <use x=\"95.410156\" xlink:href=\"#DejaVuSans-52\"/>\r\n      </g>\r\n     </g>\r\n    </g>\r\n    <g id=\"ytick_6\">\r\n     <g id=\"line2d_23\">\r\n      <path clip-path=\"url(#p106a7b6f9d)\" d=\"M 29.0225 10.239375 \r\nL 386.1425 10.239375 \r\n\" style=\"fill:none;stroke:#ffffff;stroke-linecap:square;stroke-width:0.8;\"/>\r\n     </g>\r\n     <g id=\"line2d_24\">\r\n      <g>\r\n       <use style=\"fill:#555555;stroke:#555555;stroke-width:0.8;\" x=\"29.0225\" xlink:href=\"#m5f8206b38a\" y=\"10.239375\"/>\r\n      </g>\r\n     </g>\r\n     <g id=\"text_12\">\r\n      <!-- 0.5 -->\r\n      <g style=\"fill:#555555;\" transform=\"translate(7.2 13.27875)scale(0.08 -0.08)\">\r\n       <defs>\r\n        <path d=\"M 10.796875 72.90625 \r\nL 49.515625 72.90625 \r\nL 49.515625 64.59375 \r\nL 19.828125 64.59375 \r\nL 19.828125 46.734375 \r\nQ 21.96875 47.46875 24.109375 47.828125 \r\nQ 26.265625 48.1875 28.421875 48.1875 \r\nQ 40.625 48.1875 47.75 41.5 \r\nQ 54.890625 34.8125 54.890625 23.390625 \r\nQ 54.890625 11.625 47.5625 5.09375 \r\nQ 40.234375 -1.421875 26.90625 -1.421875 \r\nQ 22.3125 -1.421875 17.546875 -0.640625 \r\nQ 12.796875 0.140625 7.71875 1.703125 \r\nL 7.71875 11.625 \r\nQ 12.109375 9.234375 16.796875 8.0625 \r\nQ 21.484375 6.890625 26.703125 6.890625 \r\nQ 35.15625 6.890625 40.078125 11.328125 \r\nQ 45.015625 15.765625 45.015625 23.390625 \r\nQ 45.015625 31 40.078125 35.4375 \r\nQ 35.15625 39.890625 26.703125 39.890625 \r\nQ 22.75 39.890625 18.8125 39.015625 \r\nQ 14.890625 38.140625 10.796875 36.28125 \r\nz\r\n\" id=\"DejaVuSans-53\"/>\r\n       </defs>\r\n       <use xlink:href=\"#DejaVuSans-48\"/>\r\n       <use x=\"63.623047\" xlink:href=\"#DejaVuSans-46\"/>\r\n       <use x=\"95.410156\" xlink:href=\"#DejaVuSans-53\"/>\r\n      </g>\r\n     </g>\r\n    </g>\r\n   </g>\r\n   <g id=\"patch_3\">\r\n    <path clip-path=\"url(#p106a7b6f9d)\" d=\"M 43.9025 246.921902 \r\nL 73.6625 246.921902 \r\nL 73.6625 19.127617 \r\nL 43.9025 19.127617 \r\nz\r\n\" style=\"fill:#e24a33;\"/>\r\n   </g>\r\n   <g id=\"patch_4\">\r\n    <path clip-path=\"url(#p106a7b6f9d)\" d=\"M 103.4225 246.921902 \r\nL 133.1825 246.921902 \r\nL 133.1825 165.102802 \r\nL 103.4225 165.102802 \r\nz\r\n\" style=\"fill:#e24a33;\"/>\r\n   </g>\r\n   <g id=\"patch_5\">\r\n    <path clip-path=\"url(#p106a7b6f9d)\" d=\"M 162.9425 246.921902 \r\nL 192.7025 246.921902 \r\nL 192.7025 192.287583 \r\nL 162.9425 192.287583 \r\nz\r\n\" style=\"fill:#e24a33;\"/>\r\n   </g>\r\n   <g id=\"patch_6\">\r\n    <path clip-path=\"url(#p106a7b6f9d)\" d=\"M 222.4625 246.921902 \r\nL 252.2225 246.921902 \r\nL 252.2225 198.282418 \r\nL 222.4625 198.282418 \r\nz\r\n\" style=\"fill:#e24a33;\"/>\r\n   </g>\r\n   <g id=\"patch_7\">\r\n    <path clip-path=\"url(#p106a7b6f9d)\" d=\"M 281.9825 246.921902 \r\nL 311.7425 246.921902 \r\nL 311.7425 200.712502 \r\nL 281.9825 200.712502 \r\nz\r\n\" style=\"fill:#e24a33;\"/>\r\n   </g>\r\n   <g id=\"patch_8\">\r\n    <path clip-path=\"url(#p106a7b6f9d)\" d=\"M 341.5025 246.921902 \r\nL 371.2625 246.921902 \r\nL 371.2625 232.653438 \r\nL 341.5025 232.653438 \r\nz\r\n\" style=\"fill:#e24a33;\"/>\r\n   </g>\r\n   <g id=\"patch_9\">\r\n    <path d=\"M 29.0225 246.921902 \r\nL 29.0225 7.737902 \r\n\" style=\"fill:none;stroke:#ffffff;stroke-linecap:square;stroke-linejoin:miter;\"/>\r\n   </g>\r\n   <g id=\"patch_10\">\r\n    <path d=\"M 386.1425 246.921902 \r\nL 386.1425 7.737902 \r\n\" style=\"fill:none;stroke:#ffffff;stroke-linecap:square;stroke-linejoin:miter;\"/>\r\n   </g>\r\n   <g id=\"patch_11\">\r\n    <path d=\"M 29.0225 246.921902 \r\nL 386.1425 246.921902 \r\n\" style=\"fill:none;stroke:#ffffff;stroke-linecap:square;stroke-linejoin:miter;\"/>\r\n   </g>\r\n   <g id=\"patch_12\">\r\n    <path d=\"M 29.0225 7.737902 \r\nL 386.1425 7.737902 \r\n\" style=\"fill:none;stroke:#ffffff;stroke-linecap:square;stroke-linejoin:miter;\"/>\r\n   </g>\r\n  </g>\r\n </g>\r\n <defs>\r\n  <clipPath id=\"p106a7b6f9d\">\r\n   <rect height=\"239.184\" width=\"357.12\" x=\"29.0225\" y=\"7.737902\"/>\r\n  </clipPath>\r\n </defs>\r\n</svg>\r\n",
      "image/png": "[encoded data removed]"
     },
     "metadata": {
      "needs_background": "light"
     }
    }
   ],
   "source": [
    "%matplotlib inline\n",
    "import matplotlib.pyplot as plt \n",
    "plt.rcParams['figure.figsize']=  (8,8)\n",
    "import matplotlib\n",
    "matplotlib.style.use('seaborn-paper')\n",
    "area_data.plot.bar()"
   ]
  },
  {
   "cell_type": "code",
   "execution_count": 123,
   "metadata": {},
   "outputs": [
    {
     "output_type": "execute_result",
     "data": {
      "text/plain": [
       "YOPOUGON        8549\n",
       "ABOBO           6159\n",
       "COCODY          3716\n",
       "ADJAME          2655\n",
       "KOUMASSI        2275\n",
       "MARCORY         2104\n",
       "YAMOUSSOUKRO    2076\n",
       "TREICHVILLE     2026\n",
       "DALOA           1747\n",
       "ATTECOUBE       1634\n",
       "PORT-BOUET      1527\n",
       "SAN-PEDRO       1291\n",
       "BOUAKE          1242\n",
       "DIVO             969\n",
       "MAN              738\n",
       "GAGNOA           648\n",
       "SOUBRE           537\n",
       "KORHOGO          444\n",
       "DABOU            414\n",
       "SEGUELA          357\n",
       "Name: VILLES, dtype: int64"
      ]
     },
     "metadata": {},
     "execution_count": 123
    }
   ],
   "source": [
    "# Filtering out our data to find out which cities were most used during the period of our data set.\n",
    "# \n",
    "\n",
    "mergedmaster[\"VILLES\"].value_counts().head(20)"
   ]
  },
  {
   "cell_type": "code",
   "execution_count": 164,
   "metadata": {},
   "outputs": [
    {
     "output_type": "stream",
     "name": "stdout",
     "text": [
      "5c565fbfb1    675\n7f76d66503    660\nb47a998a3e    588\n928a59b635    513\nc15166ba4d    441\n91e86be9a6    432\nc07a544c63    414\nd96dcd5475    408\n1ddea341cd    378\nbc58a52936    360\ndac8dcaeb9    354\n585a3bc66c    354\n47657c9634    342\nebfc58af70    342\n8fd6f8d1c5    336\n8cdff2a0a2    312\n75bef3291a    312\nf7d63a29e5    306\n1ed7b897b7    306\nea07812c27    300\n2371f0c1df    294\nd06f40f9d5    294\n700e13a5cf    294\nd1809b909f    288\n487765ff90    288\n8e6413d5b8    288\ne9639876a8    282\nc2545171dc    282\nbfed0deee9    276\n7ee1a1444f    276\n65efe2bc62    270\n200a092e1c    270\n40bb97c420    270\nfd14c3c790    264\n3ae1708153    264\ne42de17efb    264\n7bb5edf329    264\ncef29910fb    252\n651c6d67d4    252\n11e254d6b7    240\nead9f3d03f    234\n012114d799    234\n1946bb6fbf    234\n029ef38f0b    234\n4df1cab780    228\ndea1e52d3b    228\n16205e9f52    228\n0f34c36ac5    228\n5639bea67f    222\nc1ec9c885f    222\nName: SITE_CODE, dtype: int64\n"
     ]
    }
   ],
   "source": [
    "# Filtering our data to find out which are the most common sites.\n",
    "# Mostly used sites means more load on the site infrastructure.\n",
    "\n",
    "\n",
    "cell_count = mergedmaster[\"SITE_CODE\"].value_counts().head(50)\n",
    "\n",
    "print(cell_count)"
   ]
  },
  {
   "cell_type": "code",
   "execution_count": 83,
   "metadata": {},
   "outputs": [],
   "source": [
    "# Grouping our data by zone name \n",
    "# To narrow down our search of which products are most used in the specified zones.\n",
    "\n",
    "\n",
    "zone_group = mergedmaster.groupby([\"ZONENAME\"])"
   ]
  },
  {
   "cell_type": "code",
   "execution_count": 89,
   "metadata": {},
   "outputs": [
    {
     "output_type": "execute_result",
     "data": {
      "text/plain": [
       "ZONENAME                 Product\n",
       "AGBANNEW                 Voice         3\n",
       "NPONON                   sms          48\n",
       "                         Voice        24\n",
       "OKAHOTEL                 sms         104\n",
       "                         Voice        16\n",
       "PALMABINGERVILLE         sms          15\n",
       "                         Voice         6\n",
       "WILLIAMSVILLE2           sms          22\n",
       "                         Voice        18\n",
       "ZONE A - Abidjan_CENTRE  sms        2487\n",
       "                         Voice      1662\n",
       "ZONE A - Abidjan_OUEST   Voice        12\n",
       "                         sms           9\n",
       "ZONE A - Grand-EST       Voice         6\n",
       "ZONE A - Grand-NORD      Voice      2396\n",
       "                         sms        1551\n",
       "ZONE A - Grand-SUD       Voice        12\n",
       "                         sms           6\n",
       "ZONE B - Abidjan-EST     sms           3\n",
       "ZONE B - Abidjan_CENTRE  Voice         2\n",
       "ZONE B - Abidjan_EST     sms        2679\n",
       "                         Voice      2326\n",
       "ZONE B - Abidjan_Nord    sms           3\n",
       "ZONE B - Abidjan_OUEST   Voice        12\n",
       "                         sms           6\n",
       "ZONE B - Abidjan_SUD     sms           4\n",
       "                         Voice         2\n",
       "ZONE B - Grand-EST       Voice        15\n",
       "                         sms           3\n",
       "ZONE B - Grand-NORD      Voice         3\n",
       "ZONE B - Grand-SUD       sms        3213\n",
       "                         Voice      2334\n",
       "ZONE C - Abidjan_EST     sms          21\n",
       "                         Voice         6\n",
       "ZONE C - Abidjan_OUEST   sms        6864\n",
       "                         Voice      3554\n",
       "ZONE C - Abidjan_SUD     sms           9\n",
       "                         Voice         6\n",
       "ZONE C - Grand-EST       Voice      1032\n",
       "                         sms         718\n",
       "ZONE D - Abidjan_EST     sms          96\n",
       "                         Voice        90\n",
       "ZONE D - Abidjan_SUD     sms        2741\n",
       "                         Voice      2005\n",
       "ZONE D - Grand-OUEST     sms        2256\n",
       "                         Voice      2238\n",
       "ZONE D - Grand-SUD       Voice         3\n",
       "                         sms           3\n",
       "ZONE E - Abidjan_NORD    sms        4526\n",
       "                         Voice      2137\n",
       "ZONE E - SUD-OUEST       sms        1662\n",
       "                         Voice      1331\n",
       "Name: Product, dtype: int64"
      ]
     },
     "metadata": {},
     "execution_count": 89
    }
   ],
   "source": [
    "# Getting the data to identify how product usage is spread out in the zones.\n",
    "# \n",
    "\n",
    "zone_group[\"Product\"].value_counts()"
   ]
  },
  {
   "cell_type": "code",
   "execution_count": 179,
   "metadata": {},
   "outputs": [],
   "source": [
    "# Investigating active sites pper city.\n",
    "\n",
    "cellid_group = mergedmaster.groupby([\"VILLES\"])\n"
   ]
  },
  {
   "cell_type": "code",
   "execution_count": 181,
   "metadata": {},
   "outputs": [
    {
     "output_type": "stream",
     "name": "stdout",
     "text": [
      "VILLES       SITE_CODE \nABENGOUROU   00197a4f5f    120\n             547385b9d5     21\n             40cb5c4468     18\n             aa2d7103fc     12\n             6e87d6cb59      9\n                          ... \nZON-HOUNIEN  32b8357a82      9\nZOUKOUGBEU   443ac3fc19     12\nZUENOULA     f91ed8d2e9     66\n             61bee9c70c     42\n             43adae9a57     18\nName: SITE_CODE, Length: 866, dtype: int64\n"
     ]
    }
   ],
   "source": [
    "sites = cellid_group[\"SITE_CODE\"].value_counts()\n",
    "\n",
    "print(sites)"
   ]
  },
  {
   "cell_type": "code",
   "execution_count": 147,
   "metadata": {},
   "outputs": [
    {
     "output_type": "execute_result",
     "data": {
      "text/plain": [
       "0    00:00:00.0\n",
       "1    00:00:00.0\n",
       "2    00:00:00.0\n",
       "3    00:00:00.0\n",
       "4    00:00:00.0\n",
       "Name: time, dtype: object"
      ]
     },
     "metadata": {},
     "execution_count": 147
    }
   ],
   "source": [
    "# Checking our time data sets\n",
    "# Time is only a rough estimate of 1hr 43 mins\n",
    "# Determining number of cities most active during the day won't be as possible due to this limitation\n",
    "# \n",
    "\n",
    "mergedmaster[\"time\"].head()\n"
   ]
  },
  {
   "cell_type": "code",
   "execution_count": 146,
   "metadata": {},
   "outputs": [
    {
     "output_type": "execute_result",
     "data": {
      "text/plain": [
       "50313    00:01:42.0\n",
       "50314    00:01:42.0\n",
       "50315    00:01:43.0\n",
       "50316    00:01:43.0\n",
       "50317    00:01:43.0\n",
       "Name: time, dtype: object"
      ]
     },
     "metadata": {},
     "execution_count": 146
    }
   ],
   "source": [
    "mergedmaster[\"time\"].tail()"
   ]
  },
  {
   "cell_type": "code",
   "execution_count": null,
   "metadata": {},
   "outputs": [],
   "source": []
  }
 ]
}